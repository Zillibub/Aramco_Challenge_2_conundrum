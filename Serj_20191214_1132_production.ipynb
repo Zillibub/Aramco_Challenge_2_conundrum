{
 "cells": [
  {
   "cell_type": "code",
   "execution_count": 2,
   "metadata": {},
   "outputs": [],
   "source": [
    "import numpy as np\n",
    "import pandas as pd"
   ]
  },
  {
   "cell_type": "code",
   "execution_count": 3,
   "metadata": {},
   "outputs": [],
   "source": [
    "import matplotlib.pyplot as plt"
   ]
  },
  {
   "cell_type": "code",
   "execution_count": 36,
   "metadata": {},
   "outputs": [],
   "source": [
    "import utm"
   ]
  },
  {
   "cell_type": "markdown",
   "metadata": {},
   "source": [
    "# read data"
   ]
  },
  {
   "cell_type": "code",
   "execution_count": 80,
   "metadata": {},
   "outputs": [],
   "source": [
    "gas = pd.read_csv('Geochemistry Data/CNS_gas_train.csv')"
   ]
  },
  {
   "cell_type": "code",
   "execution_count": 5,
   "metadata": {},
   "outputs": [],
   "source": [
    "oil = pd.read_csv('Geochemistry Data/CNS oil.csv')"
   ]
  },
  {
   "cell_type": "code",
   "execution_count": 6,
   "metadata": {},
   "outputs": [
    {
     "name": "stderr",
     "output_type": "stream",
     "text": [
      "/home/serj/anaconda3/envs/engine/lib/python3.6/site-packages/IPython/core/interactiveshell.py:3058: DtypeWarning: Columns (6,10,16,18,23,37,38,44,45,48,49,58,92,102,103) have mixed types. Specify dtype option on import or set low_memory=False.\n",
      "  interactivity=interactivity, compiler=compiler, result=result)\n"
     ]
    }
   ],
   "source": [
    "rock = pd.read_csv('Geochemistry Data/CNS rock samples.csv')"
   ]
  },
  {
   "cell_type": "code",
   "execution_count": 7,
   "metadata": {},
   "outputs": [],
   "source": [
    "prod = pd.read_csv('Production Data/CNS_Field_Production.csv')"
   ]
  },
  {
   "cell_type": "code",
   "execution_count": 37,
   "metadata": {},
   "outputs": [],
   "source": [
    "lat = prod['Y'].values\n",
    "long = prod['X'].values\n",
    "x, y, num, let = [], [], [], []\n",
    "for la, lo in zip(lat, long): \n",
    "    res = utm.from_latlon(la, lo, force_zone_number=31, force_zone_letter='V')\n",
    "    x.append(res[0])\n",
    "    y.append(res[1])\n",
    "    num.append(res[2])\n",
    "    let.append(res[3])\n",
    "prod['x'] = x\n",
    "prod['y'] = y"
   ]
  },
  {
   "cell_type": "code",
   "execution_count": 81,
   "metadata": {},
   "outputs": [],
   "source": [
    "gas = gas.loc[1:, :]"
   ]
  },
  {
   "cell_type": "code",
   "execution_count": 82,
   "metadata": {},
   "outputs": [],
   "source": [
    "gas['WH_LAT'] = pd.to_numeric(gas['WH_LAT'], errors = 'coerce')\n",
    "gas['WH_LONG'] = pd.to_numeric(gas['WH_LONG'], errors = 'coerce')"
   ]
  },
  {
   "cell_type": "code",
   "execution_count": 83,
   "metadata": {},
   "outputs": [],
   "source": [
    "gas = gas.loc[(~gas['WH_LAT'].isnull()) & (~gas['WH_LONG'].isnull()), :]"
   ]
  },
  {
   "cell_type": "code",
   "execution_count": 125,
   "metadata": {},
   "outputs": [
    {
     "ename": "AttributeError",
     "evalue": "'Series' object has no attribute 'split'",
     "output_type": "error",
     "traceback": [
      "\u001b[0;31m---------------------------------------------------------------------------\u001b[0m",
      "\u001b[0;31mAttributeError\u001b[0m                            Traceback (most recent call last)",
      "\u001b[0;32m<ipython-input-125-e1fad44b341e>\u001b[0m in \u001b[0;36m<module>\u001b[0;34m\u001b[0m\n\u001b[0;32m----> 1\u001b[0;31m \u001b[0mgas\u001b[0m\u001b[0;34m[\u001b[0m\u001b[0;34m'OGA Well Name'\u001b[0m\u001b[0;34m]\u001b[0m\u001b[0;34m.\u001b[0m\u001b[0msplit\u001b[0m\u001b[0;34m(\u001b[0m\u001b[0;34m'-'\u001b[0m\u001b[0;34m)\u001b[0m\u001b[0;34m\u001b[0m\u001b[0m\n\u001b[0m",
      "\u001b[0;32m~/anaconda3/envs/engine/lib/python3.6/site-packages/pandas/core/generic.py\u001b[0m in \u001b[0;36m__getattr__\u001b[0;34m(self, name)\u001b[0m\n\u001b[1;32m   4374\u001b[0m             \u001b[0;32mif\u001b[0m \u001b[0mself\u001b[0m\u001b[0;34m.\u001b[0m\u001b[0m_info_axis\u001b[0m\u001b[0;34m.\u001b[0m\u001b[0m_can_hold_identifiers_and_holds_name\u001b[0m\u001b[0;34m(\u001b[0m\u001b[0mname\u001b[0m\u001b[0;34m)\u001b[0m\u001b[0;34m:\u001b[0m\u001b[0;34m\u001b[0m\u001b[0m\n\u001b[1;32m   4375\u001b[0m                 \u001b[0;32mreturn\u001b[0m \u001b[0mself\u001b[0m\u001b[0;34m[\u001b[0m\u001b[0mname\u001b[0m\u001b[0;34m]\u001b[0m\u001b[0;34m\u001b[0m\u001b[0m\n\u001b[0;32m-> 4376\u001b[0;31m             \u001b[0;32mreturn\u001b[0m \u001b[0mobject\u001b[0m\u001b[0;34m.\u001b[0m\u001b[0m__getattribute__\u001b[0m\u001b[0;34m(\u001b[0m\u001b[0mself\u001b[0m\u001b[0;34m,\u001b[0m \u001b[0mname\u001b[0m\u001b[0;34m)\u001b[0m\u001b[0;34m\u001b[0m\u001b[0m\n\u001b[0m\u001b[1;32m   4377\u001b[0m \u001b[0;34m\u001b[0m\u001b[0m\n\u001b[1;32m   4378\u001b[0m     \u001b[0;32mdef\u001b[0m \u001b[0m__setattr__\u001b[0m\u001b[0;34m(\u001b[0m\u001b[0mself\u001b[0m\u001b[0;34m,\u001b[0m \u001b[0mname\u001b[0m\u001b[0;34m,\u001b[0m \u001b[0mvalue\u001b[0m\u001b[0;34m)\u001b[0m\u001b[0;34m:\u001b[0m\u001b[0;34m\u001b[0m\u001b[0m\n",
      "\u001b[0;31mAttributeError\u001b[0m: 'Series' object has no attribute 'split'"
     ]
    }
   ],
   "source": [
    "gas['OGA Well Name']"
   ]
  },
  {
   "cell_type": "code",
   "execution_count": 84,
   "metadata": {},
   "outputs": [],
   "source": [
    "lat = gas['WH_LAT'].values\n",
    "long = gas['WH_LONG'].values\n",
    "x, y, num, let = [], [], [], []\n",
    "for la, lo in zip(lat, long): \n",
    "    res = utm.from_latlon(la, lo, force_zone_number=31, force_zone_letter='V')\n",
    "    x.append(res[0])\n",
    "    y.append(res[1])\n",
    "    num.append(res[2])\n",
    "    let.append(res[3])\n",
    "gas['x'] = x\n",
    "gas['y'] = y"
   ]
  },
  {
   "cell_type": "code",
   "execution_count": 33,
   "metadata": {},
   "outputs": [],
   "source": [
    "val_wells = ['022/30b-A07',\n",
    " '022/30b-A09',\n",
    " '022/30b-A10',\n",
    " '22/30b-A11Y',\n",
    " '22/30b-A11Z',\n",
    " '22/30b-A13Z',\n",
    " '22/30b-A14',\n",
    " '22/30b- 15',\n",
    " '22/30b-A16'\n",
    "            ]"
   ]
  },
  {
   "cell_type": "code",
   "execution_count": 115,
   "metadata": {},
   "outputs": [],
   "source": [
    "val_coords_wgs = [(57.0315592, 1.953820623),\n",
    " (57.03157667, 1.953858125),\n",
    " (57.03158618, 1.95377837),\n",
    " (57.0315957, 1.95369845),\n",
    " (57.03160357, 1.953815702),\n",
    " (57.03219566, 1.955319868),\n",
    " (57.03222264, 1.955277617),\n",
    " (57.03224012, 1.955315282),\n",
    " (57.0322575, 1.955352614),\n",
    " (57.16696788, 0.825063652),\n",
    " (57.38602717, 0.921277581)]\n",
    "val_coords = []\n",
    "for la, lo in val_coords_wgs: \n",
    "    val_coords.append(utm.from_latlon(la, lo, force_zone_number=31, force_zone_letter='V')[:2])"
   ]
  },
  {
   "cell_type": "code",
   "execution_count": 116,
   "metadata": {},
   "outputs": [],
   "source": [
    "val_coords = np.array(val_coords)"
   ]
  },
  {
   "cell_type": "code",
   "execution_count": 117,
   "metadata": {},
   "outputs": [
    {
     "data": {
      "text/plain": [
       "array([ 436502.06779036, 6321385.33675766])"
      ]
     },
     "execution_count": 117,
     "metadata": {},
     "output_type": "execute_result"
    }
   ],
   "source": [
    "val_coords[0, :]"
   ]
  },
  {
   "cell_type": "code",
   "execution_count": 118,
   "metadata": {},
   "outputs": [
    {
     "data": {
      "text/plain": [
       "array([[ 436502.06779036, 6321385.33675766],\n",
       "       [ 436504.37366482, 6321387.24644381],\n",
       "       [ 436499.54936901, 6321388.37914635],\n",
       "       [ 436494.71507856, 6321389.51312105],\n",
       "       [ 436501.84478892, 6321390.28008451],\n",
       "       [ 436594.14428062, 6321454.78700875],\n",
       "       [ 436591.62595839, 6321457.82933976],\n",
       "       [ 436593.94166115, 6321459.74003714],\n",
       "       [ 436596.23698133, 6321461.63991415],\n",
       "       [ 368482.50886152, 6338070.08970021],\n",
       "       [ 375043.88452599, 6362267.64849345]])"
      ]
     },
     "execution_count": 118,
     "metadata": {},
     "output_type": "execute_result"
    }
   ],
   "source": [
    "val_coords"
   ]
  },
  {
   "cell_type": "code",
   "execution_count": 119,
   "metadata": {},
   "outputs": [],
   "source": [
    "gas_temp = gas[(gas['x'] > 370000) & (gas['x'] < 410000) & (gas['y'] > 6370000)]"
   ]
  },
  {
   "cell_type": "code",
   "execution_count": 120,
   "metadata": {},
   "outputs": [
    {
     "data": {
      "text/plain": [
       "[<matplotlib.lines.Line2D at 0x7f759e9a8d68>]"
      ]
     },
     "execution_count": 120,
     "metadata": {},
     "output_type": "execute_result"
    },
    {
     "data": {
      "image/png": "[encoded data removed]",
      "text/plain": [
       "<Figure size 432x288 with 1 Axes>"
      ]
     },
     "metadata": {
      "needs_background": "light"
     },
     "output_type": "display_data"
    }
   ],
   "source": [
    "plt.plot(prod['x'], prod['y'], '.')\n",
    "plt.plot(gas['x'], gas['y'], '.')"
   ]
  },
  {
   "cell_type": "code",
   "execution_count": 121,
   "metadata": {},
   "outputs": [
    {
     "data": {
      "text/plain": [
       "[<matplotlib.lines.Line2D at 0x7f759e8b6278>]"
      ]
     },
     "execution_count": 121,
     "metadata": {},
     "output_type": "execute_result"
    },
    {
     "data": {
      "image/png": "[encoded data removed]",
      "text/plain": [
       "<Figure size 432x288 with 1 Axes>"
      ]
     },
     "metadata": {
      "needs_background": "light"
     },
     "output_type": "display_data"
    }
   ],
   "source": [
    "plt.plot(prod['x'], prod['y'], '.')\n",
    "plt.plot(gas_temp['x'], gas_temp['y'], '.')"
   ]
  },
  {
   "cell_type": "code",
   "execution_count": 112,
   "metadata": {
    "collapsed": true
   },
   "outputs": [
    {
     "data": {
      "text/plain": [
       "1359    10-10-09 0:00\n",
       "1377    08-10-13 0:00\n",
       "1378    08-10-13 0:00\n",
       "1379    08-10-13 0:00\n",
       "1380    08-10-13 0:00\n",
       "1381    08-10-13 0:00\n",
       "1382    08-10-13 0:00\n",
       "1383    08-10-13 0:00\n",
       "1384    08-10-13 0:00\n",
       "1385    08-10-13 0:00\n",
       "1386    08-10-13 0:00\n",
       "1387    08-10-13 0:00\n",
       "1388    08-10-13 0:00\n",
       "1389    08-10-13 0:00\n",
       "1390    08-10-13 0:00\n",
       "1391    08-10-13 0:00\n",
       "1392    08-10-13 0:00\n",
       "1393    08-10-13 0:00\n",
       "1394    08-10-13 0:00\n",
       "1395    08-10-13 0:00\n",
       "1396    08-10-13 0:00\n",
       "1397    08-10-13 0:00\n",
       "1398    08-10-13 0:00\n",
       "1399    08-10-13 0:00\n",
       "1400    08-10-13 0:00\n",
       "1401    08-10-13 0:00\n",
       "1402    08-10-13 0:00\n",
       "1403    08-10-13 0:00\n",
       "1404    08-10-13 0:00\n",
       "1405    08-10-13 0:00\n",
       "1406    08-10-13 0:00\n",
       "1407    08-10-13 0:00\n",
       "1408    08-10-13 0:00\n",
       "1409    08-10-13 0:00\n",
       "Name: SH_CDATE, dtype: object"
      ]
     },
     "execution_count": 112,
     "metadata": {},
     "output_type": "execute_result"
    }
   ],
   "source": [
    "gas_temp[gas_temp['SH_FORM'] == 'SELE']['SH_CDATE']"
   ]
  },
  {
   "cell_type": "code",
   "execution_count": 107,
   "metadata": {
    "collapsed": true
   },
   "outputs": [
    {
     "data": {
      "text/plain": [
       "SELE               34\n",
       "SELE (S1)          32\n",
       "FULMAR             11\n",
       "LARK                7\n",
       "BALDER              7\n",
       "FULMAR B            4\n",
       "HEATHER             4\n",
       "BALDER (T90)        3\n",
       "KIMMERIDGE          3\n",
       "PENTLAND            2\n",
       "HORDA (H2)          2\n",
       "SELE (S2A)          2\n",
       "HUGIN B             2\n",
       "SELE (S2B)          2\n",
       "SELE (2B)           2\n",
       "FORTIES             2\n",
       "HUGIN A             2\n",
       "HUGIN MBR SHALE     1\n",
       "SELE (S3)           1\n",
       "TAY                 1\n",
       "HORDA (H1)          1\n",
       "Name: SH_FORM, dtype: int64"
      ]
     },
     "execution_count": 107,
     "metadata": {},
     "output_type": "execute_result"
    }
   ],
   "source": [
    "gas_temp['SH_FORM'].value_counts()"
   ]
  },
  {
   "cell_type": "code",
   "execution_count": 105,
   "metadata": {
    "collapsed": true
   },
   "outputs": [
    {
     "data": {
      "text/plain": [
       "['Country',\n",
       " 'WELL_NAME',\n",
       " 'OGA Well Name',\n",
       " 'WH_SITETYPE',\n",
       " 'WH_FIELD',\n",
       " 'WH_BLOCK',\n",
       " 'WH_LAT',\n",
       " 'WH_LONG',\n",
       " 'WH_COORD_SYS',\n",
       " 'WH_OPERATOR',\n",
       " 'WH_SPUD_DATE',\n",
       " 'WH_SPUD_YEAR',\n",
       " 'WH_COMP_DATE',\n",
       " 'WH_TD_M',\n",
       " 'WH_DR_ELEV_M',\n",
       " 'WH_DEPTH_REF',\n",
       " 'WH_WATER_DEPTH_M',\n",
       " 'SAMPLE_ID',\n",
       " 'SH_DEPTH_TOP_FT',\n",
       " 'SH_DEPTH_BOT_FT',\n",
       " 'SH_SAMPLE_TYPE',\n",
       " 'SH_SAMPLE_SUB_TYPE',\n",
       " 'SH_ORIG',\n",
       " 'SH_ORIG_DESC',\n",
       " 'SH_TREATMENT',\n",
       " 'SH_TREATMENT_DESC',\n",
       " 'SH_LITH',\n",
       " 'SH_AGE',\n",
       " 'SH_AGE_BOT',\n",
       " 'SH_FORM',\n",
       " 'SH_FORM_BOT',\n",
       " 'SH_CDATE',\n",
       " 'SH_COMMENT',\n",
       " 'SAMPLE_ID_GM',\n",
       " 'SAMPLE_ID_GDB',\n",
       " 'SAMPLE_ID_SAM',\n",
       " 'EXT_SAMPLE_VENDOR',\n",
       " 'SAMPLE_ID_EXT',\n",
       " 'GAS_METHOD',\n",
       " 'GAS_LAB',\n",
       " 'GAS_ACQ_DATE',\n",
       " 'GAS_TOTAL_CONCENTRATION',\n",
       " 'GAS_AIR',\n",
       " 'GAS_C1',\n",
       " 'GAS_C2',\n",
       " 'C2_UNSAT',\n",
       " 'GAS_C3',\n",
       " 'C3_UNSAT',\n",
       " 'GAS_IC4',\n",
       " 'GAS_NC4',\n",
       " 'C4_UNSAT',\n",
       " 'GAS_NEOC5',\n",
       " 'GAS_IC5',\n",
       " 'GAS_NC5',\n",
       " 'C5_UNSAT',\n",
       " 'GAS_NC5_PLUS',\n",
       " 'GAS_C6PLUS',\n",
       " 'GAS_O2',\n",
       " 'GAS_CO2',\n",
       " 'GAS_H2',\n",
       " 'GAS_H2S',\n",
       " 'GAS_HE',\n",
       " 'GAS_N2',\n",
       " 'D_G_METHOD',\n",
       " 'D_G_LAB',\n",
       " 'D_G_DATA_TYPE',\n",
       " 'D_G_ACQ_DATE',\n",
       " 'CSIA_CONC_C1',\n",
       " 'CSIA_NC1',\n",
       " 'CSIA_NC2',\n",
       " 'CSIA_NC3',\n",
       " 'CSIA_IC4',\n",
       " 'CSIA_NC4',\n",
       " 'CSIA_NEOC5',\n",
       " 'CSIA_IC5',\n",
       " 'CSIA_NC5',\n",
       " 'CSIA_ETHENE',\n",
       " 'CSIA_PROPENE',\n",
       " 'DC_G_CO2',\n",
       " 'DO_G_CO2',\n",
       " 'DS_G_H2S',\n",
       " 'DD_G_H2',\n",
       " 'DN_G_N2',\n",
       " 'DD_G_GAS',\n",
       " 'DD_G_NC1',\n",
       " 'DD_G_NC2',\n",
       " 'DD_G_NC3',\n",
       " 'DD_G_IC4',\n",
       " 'DD_G_NC4',\n",
       " 'DD_G_IC5',\n",
       " 'DD_G_NC5',\n",
       " 'x',\n",
       " 'y']"
      ]
     },
     "execution_count": 105,
     "metadata": {},
     "output_type": "execute_result"
    }
   ],
   "source": [
    "list(gas_temp)"
   ]
  },
  {
   "cell_type": "code",
   "execution_count": 122,
   "metadata": {},
   "outputs": [
    {
     "data": {
      "text/plain": [
       "[<matplotlib.lines.Line2D at 0x7f759e878a58>]"
      ]
     },
     "execution_count": 122,
     "metadata": {},
     "output_type": "execute_result"
    },
    {
     "data": {
      "image/png": "[encoded data removed]",
      "text/plain": [
       "<Figure size 432x288 with 1 Axes>"
      ]
     },
     "metadata": {
      "needs_background": "light"
     },
     "output_type": "display_data"
    }
   ],
   "source": [
    "plt.plot(prod['x'], prod['y'], '.')\n",
    "plt.plot(val_coords[:, 0], val_coords[:, 1], '.')"
   ]
  },
  {
   "cell_type": "code",
   "execution_count": 114,
   "metadata": {},
   "outputs": [
    {
     "data": {
      "text/plain": [
       "array([[ 436499.75194318, 6321383.42611221],\n",
       "       [ 436502.06779036, 6321385.33675766],\n",
       "       [ 436504.37366482, 6321387.24644381],\n",
       "       [ 436499.54936901, 6321388.37914635],\n",
       "       [ 436494.71507856, 6321389.51312105],\n",
       "       [ 436501.84478892, 6321390.28008451],\n",
       "       [ 436594.14428062, 6321454.78700875],\n",
       "       [ 436591.62595839, 6321457.82933976],\n",
       "       [ 436593.94166115, 6321459.74003714],\n",
       "       [ 436596.23698133, 6321461.63991415]])"
      ]
     },
     "execution_count": 114,
     "metadata": {},
     "output_type": "execute_result"
    }
   ],
   "source": [
    "val_coords"
   ]
  },
  {
   "cell_type": "code",
   "execution_count": 55,
   "metadata": {},
   "outputs": [],
   "source": [
    "gas['GAS_C1'] = pd.to_numeric(gas['GAS_C1'], errors = 'coerce')\n"
   ]
  },
  {
   "cell_type": "code",
   "execution_count": 56,
   "metadata": {},
   "outputs": [
    {
     "data": {
      "text/plain": [
       "<matplotlib.axes._subplots.AxesSubplot at 0x7f75a33060b8>"
      ]
     },
     "execution_count": 56,
     "metadata": {},
     "output_type": "execute_result"
    },
    {
     "data": {
      "image/png": "[encoded data removed]",
      "text/plain": [
       "<Figure size 432x288 with 1 Axes>"
      ]
     },
     "metadata": {
      "needs_background": "light"
     },
     "output_type": "display_data"
    }
   ],
   "source": [
    "gas['GAS_C1'].plot()"
   ]
  },
  {
   "cell_type": "code",
   "execution_count": 34,
   "metadata": {},
   "outputs": [
    {
     "data": {
      "text/html": [
       "<div>\n",
       "<style scoped>\n",
       "    .dataframe tbody tr th:only-of-type {\n",
       "        vertical-align: middle;\n",
       "    }\n",
       "\n",
       "    .dataframe tbody tr th {\n",
       "        vertical-align: top;\n",
       "    }\n",
       "\n",
       "    .dataframe thead th {\n",
       "        text-align: right;\n",
       "    }\n",
       "</style>\n",
       "<table border=\"1\" class=\"dataframe\">\n",
       "  <thead>\n",
       "    <tr style=\"text-align: right;\">\n",
       "      <th></th>\n",
       "      <th>X</th>\n",
       "      <th>Y</th>\n",
       "      <th>OBJECTID</th>\n",
       "      <th>FIELDNAME</th>\n",
       "      <th>FIELDAREA</th>\n",
       "      <th>ORGGRPNM</th>\n",
       "      <th>UNITNAME</th>\n",
       "      <th>UNITTYPCOD</th>\n",
       "      <th>UNITTYPDES</th>\n",
       "      <th>LOCATION</th>\n",
       "      <th>...</th>\n",
       "      <th>GCONDVOL</th>\n",
       "      <th>GCONDMBD</th>\n",
       "      <th>GCONDDEN</th>\n",
       "      <th>INJWATMASS</th>\n",
       "      <th>INJWATVOL</th>\n",
       "      <th>INJWATMBD</th>\n",
       "      <th>WATPRODMAS</th>\n",
       "      <th>WATPRODVOL</th>\n",
       "      <th>WATPRODMBD</th>\n",
       "      <th>WELLREGNO</th>\n",
       "    </tr>\n",
       "  </thead>\n",
       "  <tbody>\n",
       "    <tr>\n",
       "      <th>5490</th>\n",
       "      <td>0.495386</td>\n",
       "      <td>57.923473</td>\n",
       "      <td>7491</td>\n",
       "      <td>BRODGAR</td>\n",
       "      <td>CNS</td>\n",
       "      <td>CONOCOPHILLIPS</td>\n",
       "      <td>BRODGAR</td>\n",
       "      <td>P</td>\n",
       "      <td>Oil Field Exporting to Pipeline</td>\n",
       "      <td>Offshore</td>\n",
       "      <td>...</td>\n",
       "      <td>NaN</td>\n",
       "      <td>NaN</td>\n",
       "      <td>NaN</td>\n",
       "      <td>0.0</td>\n",
       "      <td>0.0</td>\n",
       "      <td>0.000000</td>\n",
       "      <td>481.0</td>\n",
       "      <td>481.0</td>\n",
       "      <td>0.097596</td>\n",
       "      <td>22/30b-A11Z</td>\n",
       "    </tr>\n",
       "    <tr>\n",
       "      <th>5944</th>\n",
       "      <td>0.010229</td>\n",
       "      <td>57.897786</td>\n",
       "      <td>7945</td>\n",
       "      <td>BUCHAN</td>\n",
       "      <td>CNS</td>\n",
       "      <td>REPSOL SINOPEC RESOURCES</td>\n",
       "      <td>BUCHAN</td>\n",
       "      <td>P</td>\n",
       "      <td>Oil Field Exporting to Pipeline</td>\n",
       "      <td>Offshore</td>\n",
       "      <td>...</td>\n",
       "      <td>NaN</td>\n",
       "      <td>NaN</td>\n",
       "      <td>NaN</td>\n",
       "      <td>0.0</td>\n",
       "      <td>0.0</td>\n",
       "      <td>0.000000</td>\n",
       "      <td>26557.0</td>\n",
       "      <td>26557.0</td>\n",
       "      <td>5.568118</td>\n",
       "      <td>22/30b-A13Z</td>\n",
       "    </tr>\n",
       "    <tr>\n",
       "      <th>6430</th>\n",
       "      <td>1.322034</td>\n",
       "      <td>58.735792</td>\n",
       "      <td>6431</td>\n",
       "      <td>BRAE-SOUTH [Part of BRAE]</td>\n",
       "      <td>CNS</td>\n",
       "      <td>ROCKROSE ENERGY</td>\n",
       "      <td>BRAE SOUTH</td>\n",
       "      <td>P</td>\n",
       "      <td>Oil Field Exporting to Pipeline</td>\n",
       "      <td>Offshore</td>\n",
       "      <td>...</td>\n",
       "      <td>NaN</td>\n",
       "      <td>NaN</td>\n",
       "      <td>NaN</td>\n",
       "      <td>1015.0</td>\n",
       "      <td>1015.0</td>\n",
       "      <td>0.205947</td>\n",
       "      <td>24704.0</td>\n",
       "      <td>24704.0</td>\n",
       "      <td>5.012521</td>\n",
       "      <td>22/30b- 15</td>\n",
       "    </tr>\n",
       "    <tr>\n",
       "      <th>7052</th>\n",
       "      <td>2.449420</td>\n",
       "      <td>56.896138</td>\n",
       "      <td>5053</td>\n",
       "      <td>BLANE</td>\n",
       "      <td>CNS</td>\n",
       "      <td>REPSOL SINOPEC RESOURCES</td>\n",
       "      <td>BLANE</td>\n",
       "      <td>P</td>\n",
       "      <td>Oil Field Exporting to Pipeline</td>\n",
       "      <td>Offshore</td>\n",
       "      <td>...</td>\n",
       "      <td>NaN</td>\n",
       "      <td>NaN</td>\n",
       "      <td>NaN</td>\n",
       "      <td>0.0</td>\n",
       "      <td>0.0</td>\n",
       "      <td>0.000000</td>\n",
       "      <td>205.0</td>\n",
       "      <td>205.0</td>\n",
       "      <td>0.043154</td>\n",
       "      <td>22/30b-A11Y</td>\n",
       "    </tr>\n",
       "    <tr>\n",
       "      <th>8952</th>\n",
       "      <td>1.857774</td>\n",
       "      <td>57.922604</td>\n",
       "      <td>11953</td>\n",
       "      <td>DRAKE</td>\n",
       "      <td>CNS</td>\n",
       "      <td>ROYAL DUTCH SHELL</td>\n",
       "      <td>DRAKE</td>\n",
       "      <td>P</td>\n",
       "      <td>Oil Field Exporting to Pipeline</td>\n",
       "      <td>Offshore</td>\n",
       "      <td>...</td>\n",
       "      <td>NaN</td>\n",
       "      <td>NaN</td>\n",
       "      <td>NaN</td>\n",
       "      <td>0.0</td>\n",
       "      <td>0.0</td>\n",
       "      <td>0.000000</td>\n",
       "      <td>4061.0</td>\n",
       "      <td>4061.0</td>\n",
       "      <td>0.823990</td>\n",
       "      <td>22/30b-A14</td>\n",
       "    </tr>\n",
       "    <tr>\n",
       "      <th>12157</th>\n",
       "      <td>-0.067642</td>\n",
       "      <td>58.362727</td>\n",
       "      <td>12158</td>\n",
       "      <td>DUART</td>\n",
       "      <td>CNS</td>\n",
       "      <td>REPSOL SINOPEC RESOURCES</td>\n",
       "      <td>DUART</td>\n",
       "      <td>P</td>\n",
       "      <td>Oil Field Exporting to Pipeline</td>\n",
       "      <td>Offshore</td>\n",
       "      <td>...</td>\n",
       "      <td>NaN</td>\n",
       "      <td>NaN</td>\n",
       "      <td>NaN</td>\n",
       "      <td>0.0</td>\n",
       "      <td>0.0</td>\n",
       "      <td>0.000000</td>\n",
       "      <td>0.0</td>\n",
       "      <td>0.0</td>\n",
       "      <td>0.000000</td>\n",
       "      <td>22/30b-A16</td>\n",
       "    </tr>\n",
       "  </tbody>\n",
       "</table>\n",
       "<p>6 rows × 38 columns</p>\n",
       "</div>"
      ],
      "text/plain": [
       "              X          Y  OBJECTID                  FIELDNAME FIELDAREA  \\\n",
       "5490   0.495386  57.923473      7491                    BRODGAR       CNS   \n",
       "5944   0.010229  57.897786      7945                     BUCHAN       CNS   \n",
       "6430   1.322034  58.735792      6431  BRAE-SOUTH [Part of BRAE]       CNS   \n",
       "7052   2.449420  56.896138      5053                      BLANE       CNS   \n",
       "8952   1.857774  57.922604     11953                      DRAKE       CNS   \n",
       "12157 -0.067642  58.362727     12158                      DUART       CNS   \n",
       "\n",
       "                       ORGGRPNM    UNITNAME UNITTYPCOD  \\\n",
       "5490             CONOCOPHILLIPS     BRODGAR          P   \n",
       "5944   REPSOL SINOPEC RESOURCES      BUCHAN          P   \n",
       "6430            ROCKROSE ENERGY  BRAE SOUTH          P   \n",
       "7052   REPSOL SINOPEC RESOURCES       BLANE          P   \n",
       "8952          ROYAL DUTCH SHELL       DRAKE          P   \n",
       "12157  REPSOL SINOPEC RESOURCES       DUART          P   \n",
       "\n",
       "                            UNITTYPDES  LOCATION     ...      GCONDVOL  \\\n",
       "5490   Oil Field Exporting to Pipeline  Offshore     ...           NaN   \n",
       "5944   Oil Field Exporting to Pipeline  Offshore     ...           NaN   \n",
       "6430   Oil Field Exporting to Pipeline  Offshore     ...           NaN   \n",
       "7052   Oil Field Exporting to Pipeline  Offshore     ...           NaN   \n",
       "8952   Oil Field Exporting to Pipeline  Offshore     ...           NaN   \n",
       "12157  Oil Field Exporting to Pipeline  Offshore     ...           NaN   \n",
       "\n",
       "       GCONDMBD  GCONDDEN INJWATMASS  INJWATVOL  INJWATMBD  WATPRODMAS  \\\n",
       "5490        NaN       NaN        0.0        0.0   0.000000       481.0   \n",
       "5944        NaN       NaN        0.0        0.0   0.000000     26557.0   \n",
       "6430        NaN       NaN     1015.0     1015.0   0.205947     24704.0   \n",
       "7052        NaN       NaN        0.0        0.0   0.000000       205.0   \n",
       "8952        NaN       NaN        0.0        0.0   0.000000      4061.0   \n",
       "12157       NaN       NaN        0.0        0.0   0.000000         0.0   \n",
       "\n",
       "       WATPRODVOL  WATPRODMBD    WELLREGNO  \n",
       "5490        481.0    0.097596  22/30b-A11Z  \n",
       "5944      26557.0    5.568118  22/30b-A13Z  \n",
       "6430      24704.0    5.012521   22/30b- 15  \n",
       "7052        205.0    0.043154  22/30b-A11Y  \n",
       "8952       4061.0    0.823990   22/30b-A14  \n",
       "12157         0.0    0.000000   22/30b-A16  \n",
       "\n",
       "[6 rows x 38 columns]"
      ]
     },
     "execution_count": 34,
     "metadata": {},
     "output_type": "execute_result"
    }
   ],
   "source": [
    "prod[prod['WELLREGNO'].isin(val_wells)]"
   ]
  },
  {
   "cell_type": "code",
   "execution_count": null,
   "metadata": {},
   "outputs": [],
   "source": []
  },
  {
   "cell_type": "code",
   "execution_count": null,
   "metadata": {},
   "outputs": [],
   "source": []
  },
  {
   "cell_type": "code",
   "execution_count": null,
   "metadata": {},
   "outputs": [],
   "source": []
  },
  {
   "cell_type": "code",
   "execution_count": 12,
   "metadata": {},
   "outputs": [
    {
     "data": {
      "text/plain": [
       "HOD                     133\n",
       "Valhall                 105\n",
       "Hod                      79\n",
       "Skagerrak                76\n",
       "SELE                     73\n",
       "FULMAR                   71\n",
       "Sele                     63\n",
       "TOR                      63\n",
       "Tor                      47\n",
       "HEATHER                  47\n",
       "VALHALL                  41\n",
       "Fulmar                   38\n",
       "Heather                  38\n",
       "Horda                    34\n",
       "SELE (S1)                32\n",
       "Pentland                 27\n",
       "LARK                     27\n",
       "Kimmeridge Clay          25\n",
       "KIMMERIDGE CLAY          24\n",
       "PENTLAND                 24\n",
       "Lark                     22\n",
       "HORDA                    22\n",
       "KIMMERIDGE               20\n",
       "SKAGERRAK                19\n",
       "FORTIES                  18\n",
       "Herring                  17\n",
       "Ekofisk                  16\n",
       "HERRING                  12\n",
       "JUDY SS                  12\n",
       "BALDER                   11\n",
       "                       ... \n",
       "HORDA (TAY)               2\n",
       "SELE (2B)                 2\n",
       "HORDA (H2)                2\n",
       "SELE S3/2                 2\n",
       "VALHALL CLAY              2\n",
       "HUGIN B                   2\n",
       "SELE (FORTIES)            1\n",
       "UPPER FULMAR              1\n",
       "PUFFIN                    1\n",
       "HUGIN MBR SHALE           1\n",
       "KIMMERIDGE SST            1\n",
       "Hidra                     1\n",
       "HEATHER SKAGERAK          1\n",
       "SELE (S3)                 1\n",
       ",UPPER/LOWER FULMAR       1\n",
       "ANDREW                    1\n",
       "Formation (top)           1\n",
       "RODBY                     1\n",
       "LOWER VALHALL             1\n",
       "FULMAR SAND               1\n",
       "SCAPA                     1\n",
       "Rodby                     1\n",
       "SELE (FORTIES SST)        1\n",
       "KIMMERIDGE SANDSTONE      1\n",
       "FULMAR / PENTLAND FM      1\n",
       "TAY SANDS                 1\n",
       "Chalk                     1\n",
       "HORDA (H1)                1\n",
       "Plenus Marl               1\n",
       "Fulmar Fm                 1\n",
       "Name: SH_FORM, Length: 86, dtype: int64"
      ]
     },
     "execution_count": 12,
     "metadata": {},
     "output_type": "execute_result"
    }
   ],
   "source": [
    "gas['SH_FORM'].value_counts()"
   ]
  },
  {
   "cell_type": "code",
   "execution_count": null,
   "metadata": {},
   "outputs": [],
   "source": []
  },
  {
   "cell_type": "markdown",
   "metadata": {},
   "source": [
    "# analyse rock"
   ]
  },
  {
   "cell_type": "code",
   "execution_count": 112,
   "metadata": {},
   "outputs": [],
   "source": [
    "rock['WH_LAT'] = pd.to_numeric(rock['WH_LAT'], errors = 'coerce')"
   ]
  },
  {
   "cell_type": "code",
   "execution_count": null,
   "metadata": {},
   "outputs": [],
   "source": []
  },
  {
   "cell_type": "code",
   "execution_count": 118,
   "metadata": {},
   "outputs": [
    {
     "data": {
      "text/plain": [
       "[<matplotlib.lines.Line2D at 0x7f18fa42d2b0>]"
      ]
     },
     "execution_count": 118,
     "metadata": {},
     "output_type": "execute_result"
    },
    {
     "data": {
      "image/png": "[encoded data removed]",
      "text/plain": [
       "<Figure size 432x288 with 1 Axes>"
      ]
     },
     "metadata": {
      "needs_background": "light"
     },
     "output_type": "display_data"
    }
   ],
   "source": [
    "plt.plot(rock['WH_LAT'], rock['WH_LONG'], 'o')"
   ]
  },
  {
   "cell_type": "code",
   "execution_count": 122,
   "metadata": {},
   "outputs": [],
   "source": [
    "rock['SH_DEPTH_TOP_FT'] = pd.to_numeric(rock['SH_DEPTH_TOP_FT'], errors = 'coerce')"
   ]
  },
  {
   "cell_type": "code",
   "execution_count": 123,
   "metadata": {},
   "outputs": [],
   "source": [
    "rock['SH_DEPTH_BOT_FT'] = pd.to_numeric(rock['SH_DEPTH_BOT_FT'], errors = 'coerce')"
   ]
  },
  {
   "cell_type": "code",
   "execution_count": 124,
   "metadata": {},
   "outputs": [],
   "source": [
    "rock['depth'] = rock['SH_DEPTH_TOP_FT'] + (rock['SH_DEPTH_BOT_FT'] - rock['SH_DEPTH_TOP_FT']) / 2"
   ]
  },
  {
   "cell_type": "code",
   "execution_count": 127,
   "metadata": {},
   "outputs": [
    {
     "data": {
      "text/plain": [
       "<matplotlib.axes._subplots.AxesSubplot at 0x7f18f611c2b0>"
      ]
     },
     "execution_count": 127,
     "metadata": {},
     "output_type": "execute_result"
    },
    {
     "data": {
      "image/png": "[encoded data removed]",
      "text/plain": [
       "<Figure size 432x288 with 1 Axes>"
      ]
     },
     "metadata": {
      "needs_background": "light"
     },
     "output_type": "display_data"
    }
   ],
   "source": [
    "rock['SH_DEPTH_TOP_FT'].hist()"
   ]
  },
  {
   "cell_type": "code",
   "execution_count": 128,
   "metadata": {},
   "outputs": [
    {
     "data": {
      "text/plain": [
       "RockEval        4586\n",
       "Oil analyzer    2174\n",
       "ROCKEVAL          11\n",
       "1.1                9\n",
       "1.3                4\n",
       "0.9                3\n",
       "1                  3\n",
       "20120427           2\n",
       "0.6                2\n",
       "2.1                2\n",
       "1.2                2\n",
       "2.3                1\n",
       "0.7                1\n",
       "2                  1\n",
       "0.1                1\n",
       "1.4                1\n",
       "1.6                1\n",
       "0.8                1\n",
       "0.2                1\n",
       "0                  1\n",
       "0.5                1\n",
       "Name: RP_METHOD, dtype: int64"
      ]
     },
     "execution_count": 128,
     "metadata": {},
     "output_type": "execute_result"
    }
   ],
   "source": [
    "rock['RP_METHOD'].value_counts()"
   ]
  },
  {
   "cell_type": "code",
   "execution_count": 134,
   "metadata": {},
   "outputs": [],
   "source": [
    "rockre = rock[(rock['RP_METHOD'] == 'RockEval') & (~rock['WH_LAT'].isnull()) & (~rock['WH_LONG'].isnull())] "
   ]
  },
  {
   "cell_type": "code",
   "execution_count": 137,
   "metadata": {
    "scrolled": false
   },
   "outputs": [
    {
     "data": {
      "text/plain": [
       "<matplotlib.axes._subplots.AxesSubplot at 0x7f18f60bd0b8>"
      ]
     },
     "execution_count": 137,
     "metadata": {},
     "output_type": "execute_result"
    },
    {
     "data": {
      "image/png": "[encoded data removed]",
      "text/plain": [
       "<Figure size 432x288 with 1 Axes>"
      ]
     },
     "metadata": {
      "needs_background": "light"
     },
     "output_type": "display_data"
    }
   ],
   "source": [
    "rockre['SH_DEPTH_TOP_FT'].hist()"
   ]
  },
  {
   "cell_type": "code",
   "execution_count": null,
   "metadata": {},
   "outputs": [],
   "source": []
  },
  {
   "cell_type": "markdown",
   "metadata": {},
   "source": [
    "## well 013/28-01"
   ]
  },
  {
   "cell_type": "code",
   "execution_count": 144,
   "metadata": {},
   "outputs": [],
   "source": [
    "r013 = rockre[rockre['WELL_NAME'] == '013/28-01']"
   ]
  },
  {
   "cell_type": "code",
   "execution_count": 152,
   "metadata": {},
   "outputs": [],
   "source": [
    "r013 = r013.sort_values(by='SH_DEPTH_TOP_FT').reset_index()"
   ]
  },
  {
   "cell_type": "code",
   "execution_count": 157,
   "metadata": {},
   "outputs": [
    {
     "data": {
      "text/plain": [
       "<matplotlib.axes._subplots.AxesSubplot at 0x7f18f4541cc0>"
      ]
     },
     "execution_count": 157,
     "metadata": {},
     "output_type": "execute_result"
    },
    {
     "data": {
      "image/png": "[encoded data removed]",
      "text/plain": [
       "<Figure size 432x288 with 1 Axes>"
      ]
     },
     "metadata": {
      "needs_background": "light"
     },
     "output_type": "display_data"
    }
   ],
   "source": [
    "r013.plot(x = 'SH_DEPTH_TOP_FT', y='REV_TOTS1')"
   ]
  },
  {
   "cell_type": "code",
   "execution_count": 158,
   "metadata": {},
   "outputs": [
    {
     "data": {
      "text/plain": [
       "<matplotlib.axes._subplots.AxesSubplot at 0x7f18f4778cf8>"
      ]
     },
     "execution_count": 158,
     "metadata": {},
     "output_type": "execute_result"
    },
    {
     "data": {
      "image/png": "[encoded data removed]",
      "text/plain": [
       "<Figure size 432x288 with 1 Axes>"
      ]
     },
     "metadata": {
      "needs_background": "light"
     },
     "output_type": "display_data"
    }
   ],
   "source": [
    "r013.plot(x = 'SH_DEPTH_TOP_FT', y='REV_TOTS2')"
   ]
  },
  {
   "cell_type": "code",
   "execution_count": 171,
   "metadata": {
    "scrolled": true
   },
   "outputs": [
    {
     "data": {
      "text/plain": [
       "<matplotlib.axes._subplots.AxesSubplot at 0x7f18f478c080>"
      ]
     },
     "execution_count": 171,
     "metadata": {},
     "output_type": "execute_result"
    },
    {
     "data": {
      "image/png": "[encoded data removed]",
      "text/plain": [
       "<Figure size 432x288 with 1 Axes>"
      ]
     },
     "metadata": {
      "needs_background": "light"
     },
     "output_type": "display_data"
    }
   ],
   "source": [
    "r013.plot(x = 'SH_DEPTH_TOP_FT', y='H_INDEX')"
   ]
  },
  {
   "cell_type": "code",
   "execution_count": 172,
   "metadata": {},
   "outputs": [
    {
     "data": {
      "text/plain": [
       "<matplotlib.axes._subplots.AxesSubplot at 0x7f18f4c427b8>"
      ]
     },
     "execution_count": 172,
     "metadata": {},
     "output_type": "execute_result"
    },
    {
     "data": {
      "image/png": "[encoded data removed]",
      "text/plain": [
       "<Figure size 432x288 with 1 Axes>"
      ]
     },
     "metadata": {
      "needs_background": "light"
     },
     "output_type": "display_data"
    }
   ],
   "source": [
    "r013[r013['FORMATION'] == 'Kimmeridge Clay Formation'].plot(x = 'SH_DEPTH_TOP_FT', y='H_INDEX')"
   ]
  },
  {
   "cell_type": "markdown",
   "metadata": {},
   "source": [
    "# Kimmeridge Clay Formation"
   ]
  },
  {
   "cell_type": "code",
   "execution_count": 176,
   "metadata": {},
   "outputs": [],
   "source": [
    "rkim = rockre[rockre['FORMATION'] == 'Kimmeridge Clay Formation']"
   ]
  },
  {
   "cell_type": "code",
   "execution_count": null,
   "metadata": {},
   "outputs": [],
   "source": []
  },
  {
   "cell_type": "code",
   "execution_count": 184,
   "metadata": {},
   "outputs": [
    {
     "data": {
      "text/plain": [
       "9959     9000.00\n",
       "9961     9100.00\n",
       "9962     8800.00\n",
       "9963     9300.00\n",
       "9964     9100.00\n",
       "9966     9000.00\n",
       "9968     9300.00\n",
       "9969     8800.00\n",
       "9975     9189.99\n",
       "9976     9339.99\n",
       "9978     8860.01\n",
       "9980     8920.01\n",
       "9984     9129.99\n",
       "9996     9070.01\n",
       "10007    8770.01\n",
       "10009    9010.01\n",
       "10010    9400.00\n",
       "10014    8800.00\n",
       "10015    9250.00\n",
       "Name: SH_DEPTH_TOP_FT, dtype: float64"
      ]
     },
     "execution_count": 184,
     "metadata": {},
     "output_type": "execute_result"
    }
   ],
   "source": [
    "rkim[rkim['WELL_NAME'] == '020/06-02']['SH_DEPTH_TOP_FT']"
   ]
  },
  {
   "cell_type": "code",
   "execution_count": 195,
   "metadata": {},
   "outputs": [],
   "source": [
    "wells_coord = rkim.groupby(['WELL_NAME'])['SH_DEPTH_TOP_FT'].max()"
   ]
  },
  {
   "cell_type": "code",
   "execution_count": 245,
   "metadata": {},
   "outputs": [],
   "source": [
    "wells_coord['SH_DEPTH_TOP_FT_min'] = rkim.groupby(['WELL_NAME'])['SH_DEPTH_TOP_FT'].min()"
   ]
  },
  {
   "cell_type": "code",
   "execution_count": 189,
   "metadata": {},
   "outputs": [],
   "source": [
    "all_wells = rkim.groupby(['WELL_NAME']).last()"
   ]
  },
  {
   "cell_type": "code",
   "execution_count": 199,
   "metadata": {},
   "outputs": [],
   "source": [
    "wells_coord = pd.DataFrame(wells_coord)"
   ]
  },
  {
   "cell_type": "code",
   "execution_count": 200,
   "metadata": {},
   "outputs": [],
   "source": [
    "wells_coord['lat'] = all_wells['WH_LAT']\n",
    "wells_coord['long'] = all_wells['WH_LONG']"
   ]
  },
  {
   "cell_type": "code",
   "execution_count": 233,
   "metadata": {},
   "outputs": [
    {
     "data": {
      "text/html": [
       "<div>\n",
       "<style scoped>\n",
       "    .dataframe tbody tr th:only-of-type {\n",
       "        vertical-align: middle;\n",
       "    }\n",
       "\n",
       "    .dataframe tbody tr th {\n",
       "        vertical-align: top;\n",
       "    }\n",
       "\n",
       "    .dataframe thead th {\n",
       "        text-align: right;\n",
       "    }\n",
       "</style>\n",
       "<table border=\"1\" class=\"dataframe\">\n",
       "  <thead>\n",
       "    <tr style=\"text-align: right;\">\n",
       "      <th></th>\n",
       "      <th>SH_DEPTH_TOP_FT</th>\n",
       "      <th>lat</th>\n",
       "      <th>long</th>\n",
       "    </tr>\n",
       "    <tr>\n",
       "      <th>WELL_NAME</th>\n",
       "      <th></th>\n",
       "      <th></th>\n",
       "      <th></th>\n",
       "    </tr>\n",
       "  </thead>\n",
       "  <tbody>\n",
       "    <tr>\n",
       "      <th>013/17-01</th>\n",
       "      <td>5850.00</td>\n",
       "      <td>58.437791</td>\n",
       "      <td>-1.642265</td>\n",
       "    </tr>\n",
       "    <tr>\n",
       "      <th>013/18-01</th>\n",
       "      <td>3950.00</td>\n",
       "      <td>58.485968</td>\n",
       "      <td>-1.434328</td>\n",
       "    </tr>\n",
       "    <tr>\n",
       "      <th>013/19-01</th>\n",
       "      <td>3700.00</td>\n",
       "      <td>58.412077</td>\n",
       "      <td>-1.391796</td>\n",
       "    </tr>\n",
       "    <tr>\n",
       "      <th>013/22a-01</th>\n",
       "      <td>3479.99</td>\n",
       "      <td>58.297846</td>\n",
       "      <td>-1.762745</td>\n",
       "    </tr>\n",
       "    <tr>\n",
       "      <th>013/28-01</th>\n",
       "      <td>8639.99</td>\n",
       "      <td>58.002866</td>\n",
       "      <td>-1.523642</td>\n",
       "    </tr>\n",
       "  </tbody>\n",
       "</table>\n",
       "</div>"
      ],
      "text/plain": [
       "            SH_DEPTH_TOP_FT        lat      long\n",
       "WELL_NAME                                       \n",
       "013/17-01           5850.00  58.437791 -1.642265\n",
       "013/18-01           3950.00  58.485968 -1.434328\n",
       "013/19-01           3700.00  58.412077 -1.391796\n",
       "013/22a-01          3479.99  58.297846 -1.762745\n",
       "013/28-01           8639.99  58.002866 -1.523642"
      ]
     },
     "execution_count": 233,
     "metadata": {},
     "output_type": "execute_result"
    }
   ],
   "source": [
    "wells_coord.head()"
   ]
  },
  {
   "cell_type": "code",
   "execution_count": 237,
   "metadata": {},
   "outputs": [
    {
     "data": {
      "text/plain": [
       "(55.88419662, 58.4859679)"
      ]
     },
     "execution_count": 237,
     "metadata": {},
     "output_type": "execute_result"
    }
   ],
   "source": [
    "wells_coord['lat'].min(), wells_coord['lat'].max()"
   ]
  },
  {
   "cell_type": "code",
   "execution_count": 238,
   "metadata": {},
   "outputs": [
    {
     "data": {
      "text/plain": [
       "(-1.762744633, 2.753918567)"
      ]
     },
     "execution_count": 238,
     "metadata": {},
     "output_type": "execute_result"
    }
   ],
   "source": [
    "wells_coord['long'].min(), wells_coord['long'].max()"
   ]
  },
  {
   "cell_type": "code",
   "execution_count": 229,
   "metadata": {},
   "outputs": [],
   "source": [
    "X, Y = np.meshgrid(wells_coord['lat'], wells_coord['long'])"
   ]
  },
  {
   "cell_type": "code",
   "execution_count": 235,
   "metadata": {},
   "outputs": [],
   "source": [
    "from scipy import interpolate"
   ]
  },
  {
   "cell_type": "code",
   "execution_count": 236,
   "metadata": {},
   "outputs": [
    {
     "name": "stderr",
     "output_type": "stream",
     "text": [
      "/home/serj/anaconda3/envs/engine/lib/python3.6/site-packages/scipy/interpolate/_fitpack_impl.py:976: RuntimeWarning: No more knots can be added because the number of B-spline\n",
      "coefficients already exceeds the number of data points m.\n",
      "Probable causes: either s or m too small. (fp>s)\n",
      "\tkx,ky=1,1 nx,ny=13,13 m=112 fp=25241678.173904 s=0.000000\n",
      "  warnings.warn(RuntimeWarning(_iermess2[ierm][0] + _mess))\n"
     ]
    }
   ],
   "source": [
    "f = interpolate.interp2d(wells_coord['lat'], wells_coord['long'], wells_coord['SH_DEPTH_TOP_FT'], kind='linear', bounds_error=True)"
   ]
  },
  {
   "cell_type": "code",
   "execution_count": 241,
   "metadata": {},
   "outputs": [
    {
     "data": {
      "text/html": [
       "<div>\n",
       "<style scoped>\n",
       "    .dataframe tbody tr th:only-of-type {\n",
       "        vertical-align: middle;\n",
       "    }\n",
       "\n",
       "    .dataframe tbody tr th {\n",
       "        vertical-align: top;\n",
       "    }\n",
       "\n",
       "    .dataframe thead th {\n",
       "        text-align: right;\n",
       "    }\n",
       "</style>\n",
       "<table border=\"1\" class=\"dataframe\">\n",
       "  <thead>\n",
       "    <tr style=\"text-align: right;\">\n",
       "      <th></th>\n",
       "      <th>SH_DEPTH_TOP_FT</th>\n",
       "      <th>lat</th>\n",
       "      <th>long</th>\n",
       "    </tr>\n",
       "    <tr>\n",
       "      <th>WELL_NAME</th>\n",
       "      <th></th>\n",
       "      <th></th>\n",
       "      <th></th>\n",
       "    </tr>\n",
       "  </thead>\n",
       "  <tbody>\n",
       "    <tr>\n",
       "      <th>013/17-01</th>\n",
       "      <td>5850.00</td>\n",
       "      <td>58.437791</td>\n",
       "      <td>-1.642265</td>\n",
       "    </tr>\n",
       "    <tr>\n",
       "      <th>013/18-01</th>\n",
       "      <td>3950.00</td>\n",
       "      <td>58.485968</td>\n",
       "      <td>-1.434328</td>\n",
       "    </tr>\n",
       "    <tr>\n",
       "      <th>013/19-01</th>\n",
       "      <td>3700.00</td>\n",
       "      <td>58.412077</td>\n",
       "      <td>-1.391796</td>\n",
       "    </tr>\n",
       "    <tr>\n",
       "      <th>013/22a-01</th>\n",
       "      <td>3479.99</td>\n",
       "      <td>58.297846</td>\n",
       "      <td>-1.762745</td>\n",
       "    </tr>\n",
       "    <tr>\n",
       "      <th>013/28-01</th>\n",
       "      <td>8639.99</td>\n",
       "      <td>58.002866</td>\n",
       "      <td>-1.523642</td>\n",
       "    </tr>\n",
       "  </tbody>\n",
       "</table>\n",
       "</div>"
      ],
      "text/plain": [
       "            SH_DEPTH_TOP_FT        lat      long\n",
       "WELL_NAME                                       \n",
       "013/17-01           5850.00  58.437791 -1.642265\n",
       "013/18-01           3950.00  58.485968 -1.434328\n",
       "013/19-01           3700.00  58.412077 -1.391796\n",
       "013/22a-01          3479.99  58.297846 -1.762745\n",
       "013/28-01           8639.99  58.002866 -1.523642"
      ]
     },
     "execution_count": 241,
     "metadata": {},
     "output_type": "execute_result"
    }
   ],
   "source": [
    "wells_coord.head()"
   ]
  },
  {
   "cell_type": "code",
   "execution_count": 239,
   "metadata": {},
   "outputs": [],
   "source": [
    "X = np.arange(wells_coord['long'].min(), wells_coord['long'].max(), 0.05)\n",
    "Y = np.arange(wells_coord['lat'].min(), wells_coord['lat'].max(), 0.05)"
   ]
  },
  {
   "cell_type": "code",
   "execution_count": 240,
   "metadata": {},
   "outputs": [],
   "source": [
    "X, Y = np.meshgrid(X, Y)"
   ]
  },
  {
   "cell_type": "code",
   "execution_count": null,
   "metadata": {},
   "outputs": [],
   "source": []
  },
  {
   "cell_type": "code",
   "execution_count": 248,
   "metadata": {},
   "outputs": [
    {
     "data": {
      "text/html": [
       "<div>\n",
       "<style scoped>\n",
       "    .dataframe tbody tr th:only-of-type {\n",
       "        vertical-align: middle;\n",
       "    }\n",
       "\n",
       "    .dataframe tbody tr th {\n",
       "        vertical-align: top;\n",
       "    }\n",
       "\n",
       "    .dataframe thead th {\n",
       "        text-align: right;\n",
       "    }\n",
       "</style>\n",
       "<table border=\"1\" class=\"dataframe\">\n",
       "  <thead>\n",
       "    <tr style=\"text-align: right;\">\n",
       "      <th></th>\n",
       "      <th>SH_DEPTH_TOP_FT</th>\n",
       "      <th>SH_DEPTH_TOP_FT_min</th>\n",
       "    </tr>\n",
       "    <tr>\n",
       "      <th>WELL_NAME</th>\n",
       "      <th></th>\n",
       "      <th></th>\n",
       "    </tr>\n",
       "  </thead>\n",
       "  <tbody>\n",
       "    <tr>\n",
       "      <th>013/17-01</th>\n",
       "      <td>5850.00</td>\n",
       "      <td>5229.99</td>\n",
       "    </tr>\n",
       "    <tr>\n",
       "      <th>013/18-01</th>\n",
       "      <td>3950.00</td>\n",
       "      <td>3870.01</td>\n",
       "    </tr>\n",
       "    <tr>\n",
       "      <th>013/19-01</th>\n",
       "      <td>3700.00</td>\n",
       "      <td>3700.00</td>\n",
       "    </tr>\n",
       "    <tr>\n",
       "      <th>013/22a-01</th>\n",
       "      <td>3479.99</td>\n",
       "      <td>3470.01</td>\n",
       "    </tr>\n",
       "    <tr>\n",
       "      <th>013/28-01</th>\n",
       "      <td>8639.99</td>\n",
       "      <td>6800.00</td>\n",
       "    </tr>\n",
       "    <tr>\n",
       "      <th>013/28-02</th>\n",
       "      <td>9020.01</td>\n",
       "      <td>7179.99</td>\n",
       "    </tr>\n",
       "    <tr>\n",
       "      <th>013/30-01</th>\n",
       "      <td>7639.99</td>\n",
       "      <td>7639.99</td>\n",
       "    </tr>\n",
       "    <tr>\n",
       "      <th>014/18-01</th>\n",
       "      <td>8989.99</td>\n",
       "      <td>8200.00</td>\n",
       "    </tr>\n",
       "    <tr>\n",
       "      <th>014/19-02</th>\n",
       "      <td>8120.01</td>\n",
       "      <td>7970.01</td>\n",
       "    </tr>\n",
       "    <tr>\n",
       "      <th>014/19-03</th>\n",
       "      <td>7810.01</td>\n",
       "      <td>7702.00</td>\n",
       "    </tr>\n",
       "    <tr>\n",
       "      <th>014/19-04</th>\n",
       "      <td>8132.51</td>\n",
       "      <td>8052.99</td>\n",
       "    </tr>\n",
       "    <tr>\n",
       "      <th>014/19-07</th>\n",
       "      <td>12225.00</td>\n",
       "      <td>12139.99</td>\n",
       "    </tr>\n",
       "    <tr>\n",
       "      <th>014/23a-01</th>\n",
       "      <td>6120.01</td>\n",
       "      <td>6089.99</td>\n",
       "    </tr>\n",
       "    <tr>\n",
       "      <th>014/25a-04</th>\n",
       "      <td>13441.01</td>\n",
       "      <td>11700.00</td>\n",
       "    </tr>\n",
       "    <tr>\n",
       "      <th>014/25b-02A</th>\n",
       "      <td>9260.01</td>\n",
       "      <td>7660.01</td>\n",
       "    </tr>\n",
       "    <tr>\n",
       "      <th>014/26-01</th>\n",
       "      <td>7400.00</td>\n",
       "      <td>7083.99</td>\n",
       "    </tr>\n",
       "    <tr>\n",
       "      <th>014/26-02</th>\n",
       "      <td>7500.98</td>\n",
       "      <td>7116.99</td>\n",
       "    </tr>\n",
       "    <tr>\n",
       "      <th>014/27-01</th>\n",
       "      <td>7221.13</td>\n",
       "      <td>6827.43</td>\n",
       "    </tr>\n",
       "    <tr>\n",
       "      <th>014/28-01</th>\n",
       "      <td>6346.00</td>\n",
       "      <td>6179.99</td>\n",
       "    </tr>\n",
       "    <tr>\n",
       "      <th>014/28a-01</th>\n",
       "      <td>6370.01</td>\n",
       "      <td>6158.99</td>\n",
       "    </tr>\n",
       "    <tr>\n",
       "      <th>014/28b-02</th>\n",
       "      <td>9150.00</td>\n",
       "      <td>8970.01</td>\n",
       "    </tr>\n",
       "    <tr>\n",
       "      <th>014/30-01</th>\n",
       "      <td>8422.34</td>\n",
       "      <td>7618.47</td>\n",
       "    </tr>\n",
       "    <tr>\n",
       "      <th>014/30b-03</th>\n",
       "      <td>11979.99</td>\n",
       "      <td>11250.00</td>\n",
       "    </tr>\n",
       "    <tr>\n",
       "      <th>015/16-01</th>\n",
       "      <td>9879.99</td>\n",
       "      <td>9850.00</td>\n",
       "    </tr>\n",
       "    <tr>\n",
       "      <th>015/16-03</th>\n",
       "      <td>10389.99</td>\n",
       "      <td>10089.99</td>\n",
       "    </tr>\n",
       "    <tr>\n",
       "      <th>015/17-04</th>\n",
       "      <td>8410.01</td>\n",
       "      <td>8320.01</td>\n",
       "    </tr>\n",
       "    <tr>\n",
       "      <th>015/18-02</th>\n",
       "      <td>9379.99</td>\n",
       "      <td>9379.99</td>\n",
       "    </tr>\n",
       "    <tr>\n",
       "      <th>015/18A-06S1</th>\n",
       "      <td>12529.99</td>\n",
       "      <td>12029.99</td>\n",
       "    </tr>\n",
       "    <tr>\n",
       "      <th>015/18a-07</th>\n",
       "      <td>10714.99</td>\n",
       "      <td>10708.99</td>\n",
       "    </tr>\n",
       "    <tr>\n",
       "      <th>015/21-02</th>\n",
       "      <td>10950.00</td>\n",
       "      <td>10350.00</td>\n",
       "    </tr>\n",
       "    <tr>\n",
       "      <th>...</th>\n",
       "      <td>...</td>\n",
       "      <td>...</td>\n",
       "    </tr>\n",
       "    <tr>\n",
       "      <th>022/13A-01S1</th>\n",
       "      <td>11810.01</td>\n",
       "      <td>11750.00</td>\n",
       "    </tr>\n",
       "    <tr>\n",
       "      <th>022/14b-03</th>\n",
       "      <td>12375.00</td>\n",
       "      <td>12366.99</td>\n",
       "    </tr>\n",
       "    <tr>\n",
       "      <th>022/20-01</th>\n",
       "      <td>15889.99</td>\n",
       "      <td>15589.99</td>\n",
       "    </tr>\n",
       "    <tr>\n",
       "      <th>022/21-02</th>\n",
       "      <td>12900.00</td>\n",
       "      <td>11700.00</td>\n",
       "    </tr>\n",
       "    <tr>\n",
       "      <th>022/21-07</th>\n",
       "      <td>13539.99</td>\n",
       "      <td>13433.01</td>\n",
       "    </tr>\n",
       "    <tr>\n",
       "      <th>022/24b-04</th>\n",
       "      <td>14160.01</td>\n",
       "      <td>14160.01</td>\n",
       "    </tr>\n",
       "    <tr>\n",
       "      <th>022/24b-08</th>\n",
       "      <td>12946.29</td>\n",
       "      <td>12946.29</td>\n",
       "    </tr>\n",
       "    <tr>\n",
       "      <th>022/28a-01</th>\n",
       "      <td>15850.00</td>\n",
       "      <td>15652.59</td>\n",
       "    </tr>\n",
       "    <tr>\n",
       "      <th>022/30B-03</th>\n",
       "      <td>15860.01</td>\n",
       "      <td>15860.01</td>\n",
       "    </tr>\n",
       "    <tr>\n",
       "      <th>023/21-02</th>\n",
       "      <td>11379.99</td>\n",
       "      <td>11270.01</td>\n",
       "    </tr>\n",
       "    <tr>\n",
       "      <th>028/05-01</th>\n",
       "      <td>6700.00</td>\n",
       "      <td>6500.00</td>\n",
       "    </tr>\n",
       "    <tr>\n",
       "      <th>028/05a-04</th>\n",
       "      <td>10329.99</td>\n",
       "      <td>9989.99</td>\n",
       "    </tr>\n",
       "    <tr>\n",
       "      <th>029/02-01S1</th>\n",
       "      <td>13700.00</td>\n",
       "      <td>13595.01</td>\n",
       "    </tr>\n",
       "    <tr>\n",
       "      <th>029/03a-05</th>\n",
       "      <td>14239.99</td>\n",
       "      <td>14200.00</td>\n",
       "    </tr>\n",
       "    <tr>\n",
       "      <th>029/04B-03S1</th>\n",
       "      <td>18870.01</td>\n",
       "      <td>18770.01</td>\n",
       "    </tr>\n",
       "    <tr>\n",
       "      <th>029/07-01</th>\n",
       "      <td>11350.00</td>\n",
       "      <td>10789.99</td>\n",
       "    </tr>\n",
       "    <tr>\n",
       "      <th>029/07-07</th>\n",
       "      <td>10560.04</td>\n",
       "      <td>10400.26</td>\n",
       "    </tr>\n",
       "    <tr>\n",
       "      <th>029/08a-03</th>\n",
       "      <td>12789.99</td>\n",
       "      <td>12589.99</td>\n",
       "    </tr>\n",
       "    <tr>\n",
       "      <th>029/09c-04</th>\n",
       "      <td>14514.99</td>\n",
       "      <td>14514.99</td>\n",
       "    </tr>\n",
       "    <tr>\n",
       "      <th>029/10-03S1</th>\n",
       "      <td>14473.00</td>\n",
       "      <td>14471.00</td>\n",
       "    </tr>\n",
       "    <tr>\n",
       "      <th>029/12-01</th>\n",
       "      <td>8000.00</td>\n",
       "      <td>8000.00</td>\n",
       "    </tr>\n",
       "    <tr>\n",
       "      <th>029/14b-03</th>\n",
       "      <td>10170.01</td>\n",
       "      <td>10079.99</td>\n",
       "    </tr>\n",
       "    <tr>\n",
       "      <th>030/02-01</th>\n",
       "      <td>15110.01</td>\n",
       "      <td>14560.01</td>\n",
       "    </tr>\n",
       "    <tr>\n",
       "      <th>030/06-03</th>\n",
       "      <td>13900.00</td>\n",
       "      <td>13000.00</td>\n",
       "    </tr>\n",
       "    <tr>\n",
       "      <th>030/07a-02</th>\n",
       "      <td>13150.00</td>\n",
       "      <td>13050.00</td>\n",
       "    </tr>\n",
       "    <tr>\n",
       "      <th>030/12b-07</th>\n",
       "      <td>15310.01</td>\n",
       "      <td>15189.99</td>\n",
       "    </tr>\n",
       "    <tr>\n",
       "      <th>030/18-02</th>\n",
       "      <td>14889.99</td>\n",
       "      <td>14379.99</td>\n",
       "    </tr>\n",
       "    <tr>\n",
       "      <th>030/18-03</th>\n",
       "      <td>14289.99</td>\n",
       "      <td>13939.99</td>\n",
       "    </tr>\n",
       "    <tr>\n",
       "      <th>030/19A-05S3</th>\n",
       "      <td>15729.99</td>\n",
       "      <td>14560.01</td>\n",
       "    </tr>\n",
       "    <tr>\n",
       "      <th>038/01-01</th>\n",
       "      <td>5900.00</td>\n",
       "      <td>5900.00</td>\n",
       "    </tr>\n",
       "  </tbody>\n",
       "</table>\n",
       "<p>112 rows × 2 columns</p>\n",
       "</div>"
      ],
      "text/plain": [
       "              SH_DEPTH_TOP_FT  SH_DEPTH_TOP_FT_min\n",
       "WELL_NAME                                         \n",
       "013/17-01             5850.00              5229.99\n",
       "013/18-01             3950.00              3870.01\n",
       "013/19-01             3700.00              3700.00\n",
       "013/22a-01            3479.99              3470.01\n",
       "013/28-01             8639.99              6800.00\n",
       "013/28-02             9020.01              7179.99\n",
       "013/30-01             7639.99              7639.99\n",
       "014/18-01             8989.99              8200.00\n",
       "014/19-02             8120.01              7970.01\n",
       "014/19-03             7810.01              7702.00\n",
       "014/19-04             8132.51              8052.99\n",
       "014/19-07            12225.00             12139.99\n",
       "014/23a-01            6120.01              6089.99\n",
       "014/25a-04           13441.01             11700.00\n",
       "014/25b-02A           9260.01              7660.01\n",
       "014/26-01             7400.00              7083.99\n",
       "014/26-02             7500.98              7116.99\n",
       "014/27-01             7221.13              6827.43\n",
       "014/28-01             6346.00              6179.99\n",
       "014/28a-01            6370.01              6158.99\n",
       "014/28b-02            9150.00              8970.01\n",
       "014/30-01             8422.34              7618.47\n",
       "014/30b-03           11979.99             11250.00\n",
       "015/16-01             9879.99              9850.00\n",
       "015/16-03            10389.99             10089.99\n",
       "015/17-04             8410.01              8320.01\n",
       "015/18-02             9379.99              9379.99\n",
       "015/18A-06S1         12529.99             12029.99\n",
       "015/18a-07           10714.99             10708.99\n",
       "015/21-02            10950.00             10350.00\n",
       "...                       ...                  ...\n",
       "022/13A-01S1         11810.01             11750.00\n",
       "022/14b-03           12375.00             12366.99\n",
       "022/20-01            15889.99             15589.99\n",
       "022/21-02            12900.00             11700.00\n",
       "022/21-07            13539.99             13433.01\n",
       "022/24b-04           14160.01             14160.01\n",
       "022/24b-08           12946.29             12946.29\n",
       "022/28a-01           15850.00             15652.59\n",
       "022/30B-03           15860.01             15860.01\n",
       "023/21-02            11379.99             11270.01\n",
       "028/05-01             6700.00              6500.00\n",
       "028/05a-04           10329.99              9989.99\n",
       "029/02-01S1          13700.00             13595.01\n",
       "029/03a-05           14239.99             14200.00\n",
       "029/04B-03S1         18870.01             18770.01\n",
       "029/07-01            11350.00             10789.99\n",
       "029/07-07            10560.04             10400.26\n",
       "029/08a-03           12789.99             12589.99\n",
       "029/09c-04           14514.99             14514.99\n",
       "029/10-03S1          14473.00             14471.00\n",
       "029/12-01             8000.00              8000.00\n",
       "029/14b-03           10170.01             10079.99\n",
       "030/02-01            15110.01             14560.01\n",
       "030/06-03            13900.00             13000.00\n",
       "030/07a-02           13150.00             13050.00\n",
       "030/12b-07           15310.01             15189.99\n",
       "030/18-02            14889.99             14379.99\n",
       "030/18-03            14289.99             13939.99\n",
       "030/19A-05S3         15729.99             14560.01\n",
       "038/01-01             5900.00              5900.00\n",
       "\n",
       "[112 rows x 2 columns]"
      ]
     },
     "execution_count": 248,
     "metadata": {},
     "output_type": "execute_result"
    }
   ],
   "source": [
    "wells_coord[['SH_DEPTH_TOP_FT', 'SH_DEPTH_TOP_FT_min']]"
   ]
  },
  {
   "cell_type": "code",
   "execution_count": 247,
   "metadata": {
    "scrolled": false
   },
   "outputs": [
    {
     "data": {
      "application/javascript": [
       "/* Put everything inside the global mpl namespace */\n",
       "window.mpl = {};\n",
       "\n",
       "\n",
       "mpl.get_websocket_type = function() {\n",
       "    if (typeof(WebSocket) !== 'undefined') {\n",
       "        return WebSocket;\n",
       "    } else if (typeof(MozWebSocket) !== 'undefined') {\n",
       "        return MozWebSocket;\n",
       "    } else {\n",
       "        alert('Your browser does not have WebSocket support. ' +\n",
       "              'Please try Chrome, Safari or Firefox ≥ 6. ' +\n",
       "              'Firefox 4 and 5 are also supported but you ' +\n",
       "              'have to enable WebSockets in about:config.');\n",
       "    };\n",
       "}\n",
       "\n",
       "mpl.figure = function(figure_id, websocket, ondownload, parent_element) {\n",
       "    this.id = figure_id;\n",
       "\n",
       "    this.ws = websocket;\n",
       "\n",
       "    this.supports_binary = (this.ws.binaryType != undefined);\n",
       "\n",
       "    if (!this.supports_binary) {\n",
       "        var warnings = document.getElementById(\"mpl-warnings\");\n",
       "        if (warnings) {\n",
       "            warnings.style.display = 'block';\n",
       "            warnings.textContent = (\n",
       "                \"This browser does not support binary websocket messages. \" +\n",
       "                    \"Performance may be slow.\");\n",
       "        }\n",
       "    }\n",
       "\n",
       "    this.imageObj = new Image();\n",
       "\n",
       "    this.context = undefined;\n",
       "    this.message = undefined;\n",
       "    this.canvas = undefined;\n",
       "    this.rubberband_canvas = undefined;\n",
       "    this.rubberband_context = undefined;\n",
       "    this.format_dropdown = undefined;\n",
       "\n",
       "    this.image_mode = 'full';\n",
       "\n",
       "    this.root = $('<div/>');\n",
       "    this._root_extra_style(this.root)\n",
       "    this.root.attr('style', 'display: inline-block');\n",
       "\n",
       "    $(parent_element).append(this.root);\n",
       "\n",
       "    this._init_header(this);\n",
       "    this._init_canvas(this);\n",
       "    this._init_toolbar(this);\n",
       "\n",
       "    var fig = this;\n",
       "\n",
       "    this.waiting = false;\n",
       "\n",
       "    this.ws.onopen =  function () {\n",
       "            fig.send_message(\"supports_binary\", {value: fig.supports_binary});\n",
       "            fig.send_message(\"send_image_mode\", {});\n",
       "            if (mpl.ratio != 1) {\n",
       "                fig.send_message(\"set_dpi_ratio\", {'dpi_ratio': mpl.ratio});\n",
       "            }\n",
       "            fig.send_message(\"refresh\", {});\n",
       "        }\n",
       "\n",
       "    this.imageObj.onload = function() {\n",
       "            if (fig.image_mode == 'full') {\n",
       "                // Full images could contain transparency (where diff images\n",
       "                // almost always do), so we need to clear the canvas so that\n",
       "                // there is no ghosting.\n",
       "                fig.context.clearRect(0, 0, fig.canvas.width, fig.canvas.height);\n",
       "            }\n",
       "            fig.context.drawImage(fig.imageObj, 0, 0);\n",
       "        };\n",
       "\n",
       "    this.imageObj.onunload = function() {\n",
       "        fig.ws.close();\n",
       "    }\n",
       "\n",
       "    this.ws.onmessage = this._make_on_message_function(this);\n",
       "\n",
       "    this.ondownload = ondownload;\n",
       "}\n",
       "\n",
       "mpl.figure.prototype._init_header = function() {\n",
       "    var titlebar = $(\n",
       "        '<div class=\"ui-dialog-titlebar ui-widget-header ui-corner-all ' +\n",
       "        'ui-helper-clearfix\"/>');\n",
       "    var titletext = $(\n",
       "        '<div class=\"ui-dialog-title\" style=\"width: 100%; ' +\n",
       "        'text-align: center; padding: 3px;\"/>');\n",
       "    titlebar.append(titletext)\n",
       "    this.root.append(titlebar);\n",
       "    this.header = titletext[0];\n",
       "}\n",
       "\n",
       "\n",
       "\n",
       "mpl.figure.prototype._canvas_extra_style = function(canvas_div) {\n",
       "\n",
       "}\n",
       "\n",
       "\n",
       "mpl.figure.prototype._root_extra_style = function(canvas_div) {\n",
       "\n",
       "}\n",
       "\n",
       "mpl.figure.prototype._init_canvas = function() {\n",
       "    var fig = this;\n",
       "\n",
       "    var canvas_div = $('<div/>');\n",
       "\n",
       "    canvas_div.attr('style', 'position: relative; clear: both; outline: 0');\n",
       "\n",
       "    function canvas_keyboard_event(event) {\n",
       "        return fig.key_event(event, event['data']);\n",
       "    }\n",
       "\n",
       "    canvas_div.keydown('key_press', canvas_keyboard_event);\n",
       "    canvas_div.keyup('key_release', canvas_keyboard_event);\n",
       "    this.canvas_div = canvas_div\n",
       "    this._canvas_extra_style(canvas_div)\n",
       "    this.root.append(canvas_div);\n",
       "\n",
       "    var canvas = $('<canvas/>');\n",
       "    canvas.addClass('mpl-canvas');\n",
       "    canvas.attr('style', \"left: 0; top: 0; z-index: 0; outline: 0\")\n",
       "\n",
       "    this.canvas = canvas[0];\n",
       "    this.context = canvas[0].getContext(\"2d\");\n",
       "\n",
       "    var backingStore = this.context.backingStorePixelRatio ||\n",
       "\tthis.context.webkitBackingStorePixelRatio ||\n",
       "\tthis.context.mozBackingStorePixelRatio ||\n",
       "\tthis.context.msBackingStorePixelRatio ||\n",
       "\tthis.context.oBackingStorePixelRatio ||\n",
       "\tthis.context.backingStorePixelRatio || 1;\n",
       "\n",
       "    mpl.ratio = (window.devicePixelRatio || 1) / backingStore;\n",
       "\n",
       "    var rubberband = $('<canvas/>');\n",
       "    rubberband.attr('style', \"position: absolute; left: 0; top: 0; z-index: 1;\")\n",
       "\n",
       "    var pass_mouse_events = true;\n",
       "\n",
       "    canvas_div.resizable({\n",
       "        start: function(event, ui) {\n",
       "            pass_mouse_events = false;\n",
       "        },\n",
       "        resize: function(event, ui) {\n",
       "            fig.request_resize(ui.size.width, ui.size.height);\n",
       "        },\n",
       "        stop: function(event, ui) {\n",
       "            pass_mouse_events = true;\n",
       "            fig.request_resize(ui.size.width, ui.size.height);\n",
       "        },\n",
       "    });\n",
       "\n",
       "    function mouse_event_fn(event) {\n",
       "        if (pass_mouse_events)\n",
       "            return fig.mouse_event(event, event['data']);\n",
       "    }\n",
       "\n",
       "    rubberband.mousedown('button_press', mouse_event_fn);\n",
       "    rubberband.mouseup('button_release', mouse_event_fn);\n",
       "    // Throttle sequential mouse events to 1 every 20ms.\n",
       "    rubberband.mousemove('motion_notify', mouse_event_fn);\n",
       "\n",
       "    rubberband.mouseenter('figure_enter', mouse_event_fn);\n",
       "    rubberband.mouseleave('figure_leave', mouse_event_fn);\n",
       "\n",
       "    canvas_div.on(\"wheel\", function (event) {\n",
       "        event = event.originalEvent;\n",
       "        event['data'] = 'scroll'\n",
       "        if (event.deltaY < 0) {\n",
       "            event.step = 1;\n",
       "        } else {\n",
       "            event.step = -1;\n",
       "        }\n",
       "        mouse_event_fn(event);\n",
       "    });\n",
       "\n",
       "    canvas_div.append(canvas);\n",
       "    canvas_div.append(rubberband);\n",
       "\n",
       "    this.rubberband = rubberband;\n",
       "    this.rubberband_canvas = rubberband[0];\n",
       "    this.rubberband_context = rubberband[0].getContext(\"2d\");\n",
       "    this.rubberband_context.strokeStyle = \"#000000\";\n",
       "\n",
       "    this._resize_canvas = function(width, height) {\n",
       "        // Keep the size of the canvas, canvas container, and rubber band\n",
       "        // canvas in synch.\n",
       "        canvas_div.css('width', width)\n",
       "        canvas_div.css('height', height)\n",
       "\n",
       "        canvas.attr('width', width * mpl.ratio);\n",
       "        canvas.attr('height', height * mpl.ratio);\n",
       "        canvas.attr('style', 'width: ' + width + 'px; height: ' + height + 'px;');\n",
       "\n",
       "        rubberband.attr('width', width);\n",
       "        rubberband.attr('height', height);\n",
       "    }\n",
       "\n",
       "    // Set the figure to an initial 600x600px, this will subsequently be updated\n",
       "    // upon first draw.\n",
       "    this._resize_canvas(600, 600);\n",
       "\n",
       "    // Disable right mouse context menu.\n",
       "    $(this.rubberband_canvas).bind(\"contextmenu\",function(e){\n",
       "        return false;\n",
       "    });\n",
       "\n",
       "    function set_focus () {\n",
       "        canvas.focus();\n",
       "        canvas_div.focus();\n",
       "    }\n",
       "\n",
       "    window.setTimeout(set_focus, 100);\n",
       "}\n",
       "\n",
       "mpl.figure.prototype._init_toolbar = function() {\n",
       "    var fig = this;\n",
       "\n",
       "    var nav_element = $('<div/>');\n",
       "    nav_element.attr('style', 'width: 100%');\n",
       "    this.root.append(nav_element);\n",
       "\n",
       "    // Define a callback function for later on.\n",
       "    function toolbar_event(event) {\n",
       "        return fig.toolbar_button_onclick(event['data']);\n",
       "    }\n",
       "    function toolbar_mouse_event(event) {\n",
       "        return fig.toolbar_button_onmouseover(event['data']);\n",
       "    }\n",
       "\n",
       "    for(var toolbar_ind in mpl.toolbar_items) {\n",
       "        var name = mpl.toolbar_items[toolbar_ind][0];\n",
       "        var tooltip = mpl.toolbar_items[toolbar_ind][1];\n",
       "        var image = mpl.toolbar_items[toolbar_ind][2];\n",
       "        var method_name = mpl.toolbar_items[toolbar_ind][3];\n",
       "\n",
       "        if (!name) {\n",
       "            // put a spacer in here.\n",
       "            continue;\n",
       "        }\n",
       "        var button = $('<button/>');\n",
       "        button.addClass('ui-button ui-widget ui-state-default ui-corner-all ' +\n",
       "                        'ui-button-icon-only');\n",
       "        button.attr('role', 'button');\n",
       "        button.attr('aria-disabled', 'false');\n",
       "        button.click(method_name, toolbar_event);\n",
       "        button.mouseover(tooltip, toolbar_mouse_event);\n",
       "\n",
       "        var icon_img = $('<span/>');\n",
       "        icon_img.addClass('ui-button-icon-primary ui-icon');\n",
       "        icon_img.addClass(image);\n",
       "        icon_img.addClass('ui-corner-all');\n",
       "\n",
       "        var tooltip_span = $('<span/>');\n",
       "        tooltip_span.addClass('ui-button-text');\n",
       "        tooltip_span.html(tooltip);\n",
       "\n",
       "        button.append(icon_img);\n",
       "        button.append(tooltip_span);\n",
       "\n",
       "        nav_element.append(button);\n",
       "    }\n",
       "\n",
       "    var fmt_picker_span = $('<span/>');\n",
       "\n",
       "    var fmt_picker = $('<select/>');\n",
       "    fmt_picker.addClass('mpl-toolbar-option ui-widget ui-widget-content');\n",
       "    fmt_picker_span.append(fmt_picker);\n",
       "    nav_element.append(fmt_picker_span);\n",
       "    this.format_dropdown = fmt_picker[0];\n",
       "\n",
       "    for (var ind in mpl.extensions) {\n",
       "        var fmt = mpl.extensions[ind];\n",
       "        var option = $(\n",
       "            '<option/>', {selected: fmt === mpl.default_extension}).html(fmt);\n",
       "        fmt_picker.append(option);\n",
       "    }\n",
       "\n",
       "    // Add hover states to the ui-buttons\n",
       "    $( \".ui-button\" ).hover(\n",
       "        function() { $(this).addClass(\"ui-state-hover\");},\n",
       "        function() { $(this).removeClass(\"ui-state-hover\");}\n",
       "    );\n",
       "\n",
       "    var status_bar = $('<span class=\"mpl-message\"/>');\n",
       "    nav_element.append(status_bar);\n",
       "    this.message = status_bar[0];\n",
       "}\n",
       "\n",
       "mpl.figure.prototype.request_resize = function(x_pixels, y_pixels) {\n",
       "    // Request matplotlib to resize the figure. Matplotlib will then trigger a resize in the client,\n",
       "    // which will in turn request a refresh of the image.\n",
       "    this.send_message('resize', {'width': x_pixels, 'height': y_pixels});\n",
       "}\n",
       "\n",
       "mpl.figure.prototype.send_message = function(type, properties) {\n",
       "    properties['type'] = type;\n",
       "    properties['figure_id'] = this.id;\n",
       "    this.ws.send(JSON.stringify(properties));\n",
       "}\n",
       "\n",
       "mpl.figure.prototype.send_draw_message = function() {\n",
       "    if (!this.waiting) {\n",
       "        this.waiting = true;\n",
       "        this.ws.send(JSON.stringify({type: \"draw\", figure_id: this.id}));\n",
       "    }\n",
       "}\n",
       "\n",
       "\n",
       "mpl.figure.prototype.handle_save = function(fig, msg) {\n",
       "    var format_dropdown = fig.format_dropdown;\n",
       "    var format = format_dropdown.options[format_dropdown.selectedIndex].value;\n",
       "    fig.ondownload(fig, format);\n",
       "}\n",
       "\n",
       "\n",
       "mpl.figure.prototype.handle_resize = function(fig, msg) {\n",
       "    var size = msg['size'];\n",
       "    if (size[0] != fig.canvas.width || size[1] != fig.canvas.height) {\n",
       "        fig._resize_canvas(size[0], size[1]);\n",
       "        fig.send_message(\"refresh\", {});\n",
       "    };\n",
       "}\n",
       "\n",
       "mpl.figure.prototype.handle_rubberband = function(fig, msg) {\n",
       "    var x0 = msg['x0'] / mpl.ratio;\n",
       "    var y0 = (fig.canvas.height - msg['y0']) / mpl.ratio;\n",
       "    var x1 = msg['x1'] / mpl.ratio;\n",
       "    var y1 = (fig.canvas.height - msg['y1']) / mpl.ratio;\n",
       "    x0 = Math.floor(x0) + 0.5;\n",
       "    y0 = Math.floor(y0) + 0.5;\n",
       "    x1 = Math.floor(x1) + 0.5;\n",
       "    y1 = Math.floor(y1) + 0.5;\n",
       "    var min_x = Math.min(x0, x1);\n",
       "    var min_y = Math.min(y0, y1);\n",
       "    var width = Math.abs(x1 - x0);\n",
       "    var height = Math.abs(y1 - y0);\n",
       "\n",
       "    fig.rubberband_context.clearRect(\n",
       "        0, 0, fig.canvas.width / mpl.ratio, fig.canvas.height / mpl.ratio);\n",
       "\n",
       "    fig.rubberband_context.strokeRect(min_x, min_y, width, height);\n",
       "}\n",
       "\n",
       "mpl.figure.prototype.handle_figure_label = function(fig, msg) {\n",
       "    // Updates the figure title.\n",
       "    fig.header.textContent = msg['label'];\n",
       "}\n",
       "\n",
       "mpl.figure.prototype.handle_cursor = function(fig, msg) {\n",
       "    var cursor = msg['cursor'];\n",
       "    switch(cursor)\n",
       "    {\n",
       "    case 0:\n",
       "        cursor = 'pointer';\n",
       "        break;\n",
       "    case 1:\n",
       "        cursor = 'default';\n",
       "        break;\n",
       "    case 2:\n",
       "        cursor = 'crosshair';\n",
       "        break;\n",
       "    case 3:\n",
       "        cursor = 'move';\n",
       "        break;\n",
       "    }\n",
       "    fig.rubberband_canvas.style.cursor = cursor;\n",
       "}\n",
       "\n",
       "mpl.figure.prototype.handle_message = function(fig, msg) {\n",
       "    fig.message.textContent = msg['message'];\n",
       "}\n",
       "\n",
       "mpl.figure.prototype.handle_draw = function(fig, msg) {\n",
       "    // Request the server to send over a new figure.\n",
       "    fig.send_draw_message();\n",
       "}\n",
       "\n",
       "mpl.figure.prototype.handle_image_mode = function(fig, msg) {\n",
       "    fig.image_mode = msg['mode'];\n",
       "}\n",
       "\n",
       "mpl.figure.prototype.updated_canvas_event = function() {\n",
       "    // Called whenever the canvas gets updated.\n",
       "    this.send_message(\"ack\", {});\n",
       "}\n",
       "\n",
       "// A function to construct a web socket function for onmessage handling.\n",
       "// Called in the figure constructor.\n",
       "mpl.figure.prototype._make_on_message_function = function(fig) {\n",
       "    return function socket_on_message(evt) {\n",
       "        if (evt.data instanceof Blob) {\n",
       "            /* FIXME: We get \"Resource interpreted as Image but\n",
       "             * transferred with MIME type text/plain:\" errors on\n",
       "             * Chrome.  But how to set the MIME type?  It doesn't seem\n",
       "             * to be part of the websocket stream */\n",
       "            evt.data.type = \"image/png\";\n",
       "\n",
       "            /* Free the memory for the previous frames */\n",
       "            if (fig.imageObj.src) {\n",
       "                (window.URL || window.webkitURL).revokeObjectURL(\n",
       "                    fig.imageObj.src);\n",
       "            }\n",
       "\n",
       "            fig.imageObj.src = (window.URL || window.webkitURL).createObjectURL(\n",
       "                evt.data);\n",
       "            fig.updated_canvas_event();\n",
       "            fig.waiting = false;\n",
       "            return;\n",
       "        }\n",
       "        else if (typeof evt.data === 'string' && evt.data.slice(0, 21) == \"data:image/png;base64\") {\n",
       "            fig.imageObj.src = evt.data;\n",
       "            fig.updated_canvas_event();\n",
       "            fig.waiting = false;\n",
       "            return;\n",
       "        }\n",
       "\n",
       "        var msg = JSON.parse(evt.data);\n",
       "        var msg_type = msg['type'];\n",
       "\n",
       "        // Call the  \"handle_{type}\" callback, which takes\n",
       "        // the figure and JSON message as its only arguments.\n",
       "        try {\n",
       "            var callback = fig[\"handle_\" + msg_type];\n",
       "        } catch (e) {\n",
       "            console.log(\"No handler for the '\" + msg_type + \"' message type: \", msg);\n",
       "            return;\n",
       "        }\n",
       "\n",
       "        if (callback) {\n",
       "            try {\n",
       "                // console.log(\"Handling '\" + msg_type + \"' message: \", msg);\n",
       "                callback(fig, msg);\n",
       "            } catch (e) {\n",
       "                console.log(\"Exception inside the 'handler_\" + msg_type + \"' callback:\", e, e.stack, msg);\n",
       "            }\n",
       "        }\n",
       "    };\n",
       "}\n",
       "\n",
       "// from http://stackoverflow.com/questions/1114465/getting-mouse-location-in-canvas\n",
       "mpl.findpos = function(e) {\n",
       "    //this section is from http://www.quirksmode.org/js/events_properties.html\n",
       "    var targ;\n",
       "    if (!e)\n",
       "        e = window.event;\n",
       "    if (e.target)\n",
       "        targ = e.target;\n",
       "    else if (e.srcElement)\n",
       "        targ = e.srcElement;\n",
       "    if (targ.nodeType == 3) // defeat Safari bug\n",
       "        targ = targ.parentNode;\n",
       "\n",
       "    // jQuery normalizes the pageX and pageY\n",
       "    // pageX,Y are the mouse positions relative to the document\n",
       "    // offset() returns the position of the element relative to the document\n",
       "    var x = e.pageX - $(targ).offset().left;\n",
       "    var y = e.pageY - $(targ).offset().top;\n",
       "\n",
       "    return {\"x\": x, \"y\": y};\n",
       "};\n",
       "\n",
       "/*\n",
       " * return a copy of an object with only non-object keys\n",
       " * we need this to avoid circular references\n",
       " * http://stackoverflow.com/a/24161582/3208463\n",
       " */\n",
       "function simpleKeys (original) {\n",
       "  return Object.keys(original).reduce(function (obj, key) {\n",
       "    if (typeof original[key] !== 'object')\n",
       "        obj[key] = original[key]\n",
       "    return obj;\n",
       "  }, {});\n",
       "}\n",
       "\n",
       "mpl.figure.prototype.mouse_event = function(event, name) {\n",
       "    var canvas_pos = mpl.findpos(event)\n",
       "\n",
       "    if (name === 'button_press')\n",
       "    {\n",
       "        this.canvas.focus();\n",
       "        this.canvas_div.focus();\n",
       "    }\n",
       "\n",
       "    var x = canvas_pos.x * mpl.ratio;\n",
       "    var y = canvas_pos.y * mpl.ratio;\n",
       "\n",
       "    this.send_message(name, {x: x, y: y, button: event.button,\n",
       "                             step: event.step,\n",
       "                             guiEvent: simpleKeys(event)});\n",
       "\n",
       "    /* This prevents the web browser from automatically changing to\n",
       "     * the text insertion cursor when the button is pressed.  We want\n",
       "     * to control all of the cursor setting manually through the\n",
       "     * 'cursor' event from matplotlib */\n",
       "    event.preventDefault();\n",
       "    return false;\n",
       "}\n",
       "\n",
       "mpl.figure.prototype._key_event_extra = function(event, name) {\n",
       "    // Handle any extra behaviour associated with a key event\n",
       "}\n",
       "\n",
       "mpl.figure.prototype.key_event = function(event, name) {\n",
       "\n",
       "    // Prevent repeat events\n",
       "    if (name == 'key_press')\n",
       "    {\n",
       "        if (event.which === this._key)\n",
       "            return;\n",
       "        else\n",
       "            this._key = event.which;\n",
       "    }\n",
       "    if (name == 'key_release')\n",
       "        this._key = null;\n",
       "\n",
       "    var value = '';\n",
       "    if (event.ctrlKey && event.which != 17)\n",
       "        value += \"ctrl+\";\n",
       "    if (event.altKey && event.which != 18)\n",
       "        value += \"alt+\";\n",
       "    if (event.shiftKey && event.which != 16)\n",
       "        value += \"shift+\";\n",
       "\n",
       "    value += 'k';\n",
       "    value += event.which.toString();\n",
       "\n",
       "    this._key_event_extra(event, name);\n",
       "\n",
       "    this.send_message(name, {key: value,\n",
       "                             guiEvent: simpleKeys(event)});\n",
       "    return false;\n",
       "}\n",
       "\n",
       "mpl.figure.prototype.toolbar_button_onclick = function(name) {\n",
       "    if (name == 'download') {\n",
       "        this.handle_save(this, null);\n",
       "    } else {\n",
       "        this.send_message(\"toolbar_button\", {name: name});\n",
       "    }\n",
       "};\n",
       "\n",
       "mpl.figure.prototype.toolbar_button_onmouseover = function(tooltip) {\n",
       "    this.message.textContent = tooltip;\n",
       "};\n",
       "mpl.toolbar_items = [[\"Home\", \"Reset original view\", \"fa fa-home icon-home\", \"home\"], [\"Back\", \"Back to previous view\", \"fa fa-arrow-left icon-arrow-left\", \"back\"], [\"Forward\", \"Forward to next view\", \"fa fa-arrow-right icon-arrow-right\", \"forward\"], [\"\", \"\", \"\", \"\"], [\"Pan\", \"Pan axes with left mouse, zoom with right\", \"fa fa-arrows icon-move\", \"pan\"], [\"Zoom\", \"Zoom to rectangle\", \"fa fa-square-o icon-check-empty\", \"zoom\"], [\"\", \"\", \"\", \"\"], [\"Download\", \"Download plot\", \"fa fa-floppy-o icon-save\", \"download\"]];\n",
       "\n",
       "mpl.extensions = [\"eps\", \"jpeg\", \"pdf\", \"png\", \"ps\", \"raw\", \"svg\", \"tif\"];\n",
       "\n",
       "mpl.default_extension = \"png\";var comm_websocket_adapter = function(comm) {\n",
       "    // Create a \"websocket\"-like object which calls the given IPython comm\n",
       "    // object with the appropriate methods. Currently this is a non binary\n",
       "    // socket, so there is still some room for performance tuning.\n",
       "    var ws = {};\n",
       "\n",
       "    ws.close = function() {\n",
       "        comm.close()\n",
       "    };\n",
       "    ws.send = function(m) {\n",
       "        //console.log('sending', m);\n",
       "        comm.send(m);\n",
       "    };\n",
       "    // Register the callback with on_msg.\n",
       "    comm.on_msg(function(msg) {\n",
       "        //console.log('receiving', msg['content']['data'], msg);\n",
       "        // Pass the mpl event to the overridden (by mpl) onmessage function.\n",
       "        ws.onmessage(msg['content']['data'])\n",
       "    });\n",
       "    return ws;\n",
       "}\n",
       "\n",
       "mpl.mpl_figure_comm = function(comm, msg) {\n",
       "    // This is the function which gets called when the mpl process\n",
       "    // starts-up an IPython Comm through the \"matplotlib\" channel.\n",
       "\n",
       "    var id = msg.content.data.id;\n",
       "    // Get hold of the div created by the display call when the Comm\n",
       "    // socket was opened in Python.\n",
       "    var element = $(\"#\" + id);\n",
       "    var ws_proxy = comm_websocket_adapter(comm)\n",
       "\n",
       "    function ondownload(figure, format) {\n",
       "        window.open(figure.imageObj.src);\n",
       "    }\n",
       "\n",
       "    var fig = new mpl.figure(id, ws_proxy,\n",
       "                           ondownload,\n",
       "                           element.get(0));\n",
       "\n",
       "    // Call onopen now - mpl needs it, as it is assuming we've passed it a real\n",
       "    // web socket which is closed, not our websocket->open comm proxy.\n",
       "    ws_proxy.onopen();\n",
       "\n",
       "    fig.parent_element = element.get(0);\n",
       "    fig.cell_info = mpl.find_output_cell(\"<div id='\" + id + \"'></div>\");\n",
       "    if (!fig.cell_info) {\n",
       "        console.error(\"Failed to find cell for figure\", id, fig);\n",
       "        return;\n",
       "    }\n",
       "\n",
       "    var output_index = fig.cell_info[2]\n",
       "    var cell = fig.cell_info[0];\n",
       "\n",
       "};\n",
       "\n",
       "mpl.figure.prototype.handle_close = function(fig, msg) {\n",
       "    var width = fig.canvas.width/mpl.ratio\n",
       "    fig.root.unbind('remove')\n",
       "\n",
       "    // Update the output cell to use the data from the current canvas.\n",
       "    fig.push_to_output();\n",
       "    var dataURL = fig.canvas.toDataURL();\n",
       "    // Re-enable the keyboard manager in IPython - without this line, in FF,\n",
       "    // the notebook keyboard shortcuts fail.\n",
       "    IPython.keyboard_manager.enable()\n",
       "    $(fig.parent_element).html('<img src=\"' + dataURL + '\" width=\"' + width + '\">');\n",
       "    fig.close_ws(fig, msg);\n",
       "}\n",
       "\n",
       "mpl.figure.prototype.close_ws = function(fig, msg){\n",
       "    fig.send_message('closing', msg);\n",
       "    // fig.ws.close()\n",
       "}\n",
       "\n",
       "mpl.figure.prototype.push_to_output = function(remove_interactive) {\n",
       "    // Turn the data on the canvas into data in the output cell.\n",
       "    var width = this.canvas.width/mpl.ratio\n",
       "    var dataURL = this.canvas.toDataURL();\n",
       "    this.cell_info[1]['text/html'] = '<img src=\"' + dataURL + '\" width=\"' + width + '\">';\n",
       "}\n",
       "\n",
       "mpl.figure.prototype.updated_canvas_event = function() {\n",
       "    // Tell IPython that the notebook contents must change.\n",
       "    IPython.notebook.set_dirty(true);\n",
       "    this.send_message(\"ack\", {});\n",
       "    var fig = this;\n",
       "    // Wait a second, then push the new image to the DOM so\n",
       "    // that it is saved nicely (might be nice to debounce this).\n",
       "    setTimeout(function () { fig.push_to_output() }, 1000);\n",
       "}\n",
       "\n",
       "mpl.figure.prototype._init_toolbar = function() {\n",
       "    var fig = this;\n",
       "\n",
       "    var nav_element = $('<div/>');\n",
       "    nav_element.attr('style', 'width: 100%');\n",
       "    this.root.append(nav_element);\n",
       "\n",
       "    // Define a callback function for later on.\n",
       "    function toolbar_event(event) {\n",
       "        return fig.toolbar_button_onclick(event['data']);\n",
       "    }\n",
       "    function toolbar_mouse_event(event) {\n",
       "        return fig.toolbar_button_onmouseover(event['data']);\n",
       "    }\n",
       "\n",
       "    for(var toolbar_ind in mpl.toolbar_items){\n",
       "        var name = mpl.toolbar_items[toolbar_ind][0];\n",
       "        var tooltip = mpl.toolbar_items[toolbar_ind][1];\n",
       "        var image = mpl.toolbar_items[toolbar_ind][2];\n",
       "        var method_name = mpl.toolbar_items[toolbar_ind][3];\n",
       "\n",
       "        if (!name) { continue; };\n",
       "\n",
       "        var button = $('<button class=\"btn btn-default\" href=\"#\" title=\"' + name + '\"><i class=\"fa ' + image + ' fa-lg\"></i></button>');\n",
       "        button.click(method_name, toolbar_event);\n",
       "        button.mouseover(tooltip, toolbar_mouse_event);\n",
       "        nav_element.append(button);\n",
       "    }\n",
       "\n",
       "    // Add the status bar.\n",
       "    var status_bar = $('<span class=\"mpl-message\" style=\"text-align:right; float: right;\"/>');\n",
       "    nav_element.append(status_bar);\n",
       "    this.message = status_bar[0];\n",
       "\n",
       "    // Add the close button to the window.\n",
       "    var buttongrp = $('<div class=\"btn-group inline pull-right\"></div>');\n",
       "    var button = $('<button class=\"btn btn-mini btn-primary\" href=\"#\" title=\"Stop Interaction\"><i class=\"fa fa-power-off icon-remove icon-large\"></i></button>');\n",
       "    button.click(function (evt) { fig.handle_close(fig, {}); } );\n",
       "    button.mouseover('Stop Interaction', toolbar_mouse_event);\n",
       "    buttongrp.append(button);\n",
       "    var titlebar = this.root.find($('.ui-dialog-titlebar'));\n",
       "    titlebar.prepend(buttongrp);\n",
       "}\n",
       "\n",
       "mpl.figure.prototype._root_extra_style = function(el){\n",
       "    var fig = this\n",
       "    el.on(\"remove\", function(){\n",
       "\tfig.close_ws(fig, {});\n",
       "    });\n",
       "}\n",
       "\n",
       "mpl.figure.prototype._canvas_extra_style = function(el){\n",
       "    // this is important to make the div 'focusable\n",
       "    el.attr('tabindex', 0)\n",
       "    // reach out to IPython and tell the keyboard manager to turn it's self\n",
       "    // off when our div gets focus\n",
       "\n",
       "    // location in version 3\n",
       "    if (IPython.notebook.keyboard_manager) {\n",
       "        IPython.notebook.keyboard_manager.register_events(el);\n",
       "    }\n",
       "    else {\n",
       "        // location in version 2\n",
       "        IPython.keyboard_manager.register_events(el);\n",
       "    }\n",
       "\n",
       "}\n",
       "\n",
       "mpl.figure.prototype._key_event_extra = function(event, name) {\n",
       "    var manager = IPython.notebook.keyboard_manager;\n",
       "    if (!manager)\n",
       "        manager = IPython.keyboard_manager;\n",
       "\n",
       "    // Check for shift+enter\n",
       "    if (event.shiftKey && event.which == 13) {\n",
       "        this.canvas_div.blur();\n",
       "        event.shiftKey = false;\n",
       "        // Send a \"J\" for go to next cell\n",
       "        event.which = 74;\n",
       "        event.keyCode = 74;\n",
       "        manager.command_mode();\n",
       "        manager.handle_keydown(event);\n",
       "    }\n",
       "}\n",
       "\n",
       "mpl.figure.prototype.handle_save = function(fig, msg) {\n",
       "    fig.ondownload(fig, null);\n",
       "}\n",
       "\n",
       "\n",
       "mpl.find_output_cell = function(html_output) {\n",
       "    // Return the cell and output element which can be found *uniquely* in the notebook.\n",
       "    // Note - this is a bit hacky, but it is done because the \"notebook_saving.Notebook\"\n",
       "    // IPython event is triggered only after the cells have been serialised, which for\n",
       "    // our purposes (turning an active figure into a static one), is too late.\n",
       "    var cells = IPython.notebook.get_cells();\n",
       "    var ncells = cells.length;\n",
       "    for (var i=0; i<ncells; i++) {\n",
       "        var cell = cells[i];\n",
       "        if (cell.cell_type === 'code'){\n",
       "            for (var j=0; j<cell.output_area.outputs.length; j++) {\n",
       "                var data = cell.output_area.outputs[j];\n",
       "                if (data.data) {\n",
       "                    // IPython >= 3 moved mimebundle to data attribute of output\n",
       "                    data = data.data;\n",
       "                }\n",
       "                if (data['text/html'] == html_output) {\n",
       "                    return [cell, data, j];\n",
       "                }\n",
       "            }\n",
       "        }\n",
       "    }\n",
       "}\n",
       "\n",
       "// Register the function which deals with the matplotlib target/channel.\n",
       "// The kernel may be null if the page has been refreshed.\n",
       "if (IPython.notebook.kernel != null) {\n",
       "    IPython.notebook.kernel.comm_manager.register_target('matplotlib', mpl.mpl_figure_comm);\n",
       "}\n"
      ],
      "text/plain": [
       "<IPython.core.display.Javascript object>"
      ]
     },
     "metadata": {},
     "output_type": "display_data"
    },
    {
     "data": {
      "text/html": [
       "<img src=\"data:image/png;base64,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\" width=\"1000\">"
      ],
      "text/plain": [
       "<IPython.core.display.HTML object>"
      ]
     },
     "metadata": {},
     "output_type": "display_data"
    }
   ],
   "source": [
    "%matplotlib notebook\n",
    "# Make the plot\n",
    "fig = plt.figure(figsize=(10, 10))\n",
    "ax = fig.gca(projection='3d')\n",
    "# ax.plot_trisurf(wells_coord['lat'],wells_coord['long'], wells_coord['SH_DEPTH_TOP_FT'], cmap=plt.cm.viridis, linewidth=0.2)\n",
    "ax.plot_trisurf(wells_coord['lat'],wells_coord['long'], wells_coord['SH_DEPTH_TOP_FT_min'], cmap=plt.cm.viridis, linewidth=0.2)\n",
    "\n",
    "plt.show()\n",
    " \n",
    "# # to Add a color bar which maps values to colors.\n",
    "# surf=ax.plot_trisurf(df['Y'], df['X'], df['Z'], cmap=plt.cm.viridis, linewidth=0.2)\n",
    "# fig.colorbar( surf, shrink=0.5, aspect=5)\n",
    "# plt.show()\n",
    " \n",
    "# # Rotate it\n",
    "# ax.view_init(30, 45)\n",
    "# plt.show()\n",
    " \n",
    "# # Other palette\n",
    "# ax.plot_trisurf(df['Y'], df['X'], df['Z'], cmap=plt.cm.jet, linewidth=0.01)\n",
    "# plt.show()"
   ]
  },
  {
   "cell_type": "code",
   "execution_count": 228,
   "metadata": {},
   "outputs": [
    {
     "data": {
      "image/png": "[encoded data removed]",
      "text/plain": [
       "<Figure size 720x720 with 1 Axes>"
      ]
     },
     "metadata": {
      "needs_background": "light"
     },
     "output_type": "display_data"
    }
   ],
   "source": [
    "from mpl_toolkits.mplot3d import axes3d\n",
    "import matplotlib.pyplot as plt\n",
    "\n",
    "\n",
    "fig = plt.figure(figsize=(10, 10))\n",
    "ax = fig.add_subplot(111, projection='3d')\n",
    "\n",
    "X = wells_coord['lat']\n",
    "Y = wells_coord['long']\n",
    "Z = wells_coord['SH_DEPTH_TOP_FT']\n",
    "\n",
    "# Plot a basic wireframe.\n",
    "ax.scatter(X, Y, Z)\n",
    "\n",
    "plt.show()"
   ]
  },
  {
   "cell_type": "code",
   "execution_count": null,
   "metadata": {},
   "outputs": [],
   "source": []
  },
  {
   "cell_type": "code",
   "execution_count": 205,
   "metadata": {
    "scrolled": true
   },
   "outputs": [
    {
     "data": {
      "text/html": [
       "<div>\n",
       "<style scoped>\n",
       "    .dataframe tbody tr th:only-of-type {\n",
       "        vertical-align: middle;\n",
       "    }\n",
       "\n",
       "    .dataframe tbody tr th {\n",
       "        vertical-align: top;\n",
       "    }\n",
       "\n",
       "    .dataframe thead th {\n",
       "        text-align: right;\n",
       "    }\n",
       "</style>\n",
       "<table border=\"1\" class=\"dataframe\">\n",
       "  <thead>\n",
       "    <tr style=\"text-align: right;\">\n",
       "      <th></th>\n",
       "      <th>SH_DEPTH_TOP_FT</th>\n",
       "      <th>lat</th>\n",
       "      <th>long</th>\n",
       "    </tr>\n",
       "    <tr>\n",
       "      <th>WELL_NAME</th>\n",
       "      <th></th>\n",
       "      <th></th>\n",
       "      <th></th>\n",
       "    </tr>\n",
       "  </thead>\n",
       "  <tbody>\n",
       "    <tr>\n",
       "      <th>013/17-01</th>\n",
       "      <td>5850.00</td>\n",
       "      <td>58.437791</td>\n",
       "      <td>-1.642265</td>\n",
       "    </tr>\n",
       "    <tr>\n",
       "      <th>013/18-01</th>\n",
       "      <td>3950.00</td>\n",
       "      <td>58.485968</td>\n",
       "      <td>-1.434328</td>\n",
       "    </tr>\n",
       "    <tr>\n",
       "      <th>013/19-01</th>\n",
       "      <td>3700.00</td>\n",
       "      <td>58.412077</td>\n",
       "      <td>-1.391796</td>\n",
       "    </tr>\n",
       "    <tr>\n",
       "      <th>013/22a-01</th>\n",
       "      <td>3479.99</td>\n",
       "      <td>58.297846</td>\n",
       "      <td>-1.762745</td>\n",
       "    </tr>\n",
       "    <tr>\n",
       "      <th>013/28-01</th>\n",
       "      <td>8639.99</td>\n",
       "      <td>58.002866</td>\n",
       "      <td>-1.523642</td>\n",
       "    </tr>\n",
       "  </tbody>\n",
       "</table>\n",
       "</div>"
      ],
      "text/plain": [
       "            SH_DEPTH_TOP_FT        lat      long\n",
       "WELL_NAME                                       \n",
       "013/17-01           5850.00  58.437791 -1.642265\n",
       "013/18-01           3950.00  58.485968 -1.434328\n",
       "013/19-01           3700.00  58.412077 -1.391796\n",
       "013/22a-01          3479.99  58.297846 -1.762745\n",
       "013/28-01           8639.99  58.002866 -1.523642"
      ]
     },
     "execution_count": 205,
     "metadata": {},
     "output_type": "execute_result"
    }
   ],
   "source": [
    "wells_coord.head()"
   ]
  },
  {
   "cell_type": "code",
   "execution_count": 220,
   "metadata": {},
   "outputs": [
    {
     "data": {
      "text/plain": [
       "<matplotlib.axes._subplots.AxesSubplot at 0x7f18f4c1d320>"
      ]
     },
     "execution_count": 220,
     "metadata": {},
     "output_type": "execute_result"
    },
    {
     "data": {
      "image/png": "[encoded data removed]",
      "text/plain": [
       "<Figure size 432x288 with 1 Axes>"
      ]
     },
     "metadata": {
      "needs_background": "light"
     },
     "output_type": "display_data"
    }
   ],
   "source": [
    "wells_coord.plot(x='lat', y='SH_DEPTH_TOP_FT', style='.')"
   ]
  },
  {
   "cell_type": "code",
   "execution_count": 221,
   "metadata": {},
   "outputs": [
    {
     "data": {
      "text/plain": [
       "<matplotlib.axes._subplots.AxesSubplot at 0x7f18f43d6240>"
      ]
     },
     "execution_count": 221,
     "metadata": {},
     "output_type": "execute_result"
    },
    {
     "data": {
      "image/png": "[encoded data removed]",
      "text/plain": [
       "<Figure size 432x288 with 1 Axes>"
      ]
     },
     "metadata": {
      "needs_background": "light"
     },
     "output_type": "display_data"
    }
   ],
   "source": [
    "wells_coord.plot(x='long', y='SH_DEPTH_TOP_FT', style='.')"
   ]
  },
  {
   "cell_type": "code",
   "execution_count": 213,
   "metadata": {},
   "outputs": [
    {
     "ename": "ValueError",
     "evalue": "Argument Z must be 2-dimensional.",
     "output_type": "error",
     "traceback": [
      "\u001b[0;31m---------------------------------------------------------------------------\u001b[0m",
      "\u001b[0;31mValueError\u001b[0m                                Traceback (most recent call last)",
      "\u001b[0;32m<ipython-input-213-b29b14da49be>\u001b[0m in \u001b[0;36m<module>\u001b[0;34m\u001b[0m\n\u001b[1;32m     14\u001b[0m \u001b[0;31m# Plot the surface.\u001b[0m\u001b[0;34m\u001b[0m\u001b[0;34m\u001b[0m\u001b[0m\n\u001b[1;32m     15\u001b[0m surf = ax.plot_surface(X, Y, Z, cmap=cm.coolwarm,\n\u001b[0;32m---> 16\u001b[0;31m                        linewidth=0, antialiased=False)\n\u001b[0m",
      "\u001b[0;32m~/anaconda3/envs/engine/lib/python3.6/site-packages/mpl_toolkits/mplot3d/axes3d.py\u001b[0m in \u001b[0;36mplot_surface\u001b[0;34m(self, X, Y, Z, norm, vmin, vmax, lightsource, *args, **kwargs)\u001b[0m\n\u001b[1;32m   1612\u001b[0m \u001b[0;34m\u001b[0m\u001b[0m\n\u001b[1;32m   1613\u001b[0m         \u001b[0;32mif\u001b[0m \u001b[0mZ\u001b[0m\u001b[0;34m.\u001b[0m\u001b[0mndim\u001b[0m \u001b[0;34m!=\u001b[0m \u001b[0;36m2\u001b[0m\u001b[0;34m:\u001b[0m\u001b[0;34m\u001b[0m\u001b[0m\n\u001b[0;32m-> 1614\u001b[0;31m             \u001b[0;32mraise\u001b[0m \u001b[0mValueError\u001b[0m\u001b[0;34m(\u001b[0m\u001b[0;34m\"Argument Z must be 2-dimensional.\"\u001b[0m\u001b[0;34m)\u001b[0m\u001b[0;34m\u001b[0m\u001b[0m\n\u001b[0m\u001b[1;32m   1615\u001b[0m         \u001b[0;32mif\u001b[0m \u001b[0mnp\u001b[0m\u001b[0;34m.\u001b[0m\u001b[0many\u001b[0m\u001b[0;34m(\u001b[0m\u001b[0mnp\u001b[0m\u001b[0;34m.\u001b[0m\u001b[0misnan\u001b[0m\u001b[0;34m(\u001b[0m\u001b[0mZ\u001b[0m\u001b[0;34m)\u001b[0m\u001b[0;34m)\u001b[0m\u001b[0;34m:\u001b[0m\u001b[0;34m\u001b[0m\u001b[0m\n\u001b[1;32m   1616\u001b[0m             cbook._warn_external(\n",
      "\u001b[0;31mValueError\u001b[0m: Argument Z must be 2-dimensional."
     ]
    },
    {
     "data": {
      "image/png": "[encoded data removed]",
      "text/plain": [
       "<Figure size 432x288 with 1 Axes>"
      ]
     },
     "metadata": {
      "needs_background": "light"
     },
     "output_type": "display_data"
    }
   ],
   "source": [
    "import numpy as np\n",
    "\n",
    "\n",
    "fig = plt.figure()\n",
    "ax = fig.gca(projection='3d')\n",
    "\n",
    "# Make data.\n",
    "X = wells_coord['lat'].values\n",
    "Y = wells_coord['long'].values\n",
    "Z =  wells_coord['SH_DEPTH_TOP_FT'].values\n",
    "X, Y, Z = np.meshgrid(X, Y, Z)\n",
    "\n",
    "\n",
    "# Plot the surface.\n",
    "surf = ax.plot_surface(X, Y, Z, cmap=cm.coolwarm,\n",
    "                       linewidth=0, antialiased=False)"
   ]
  },
  {
   "cell_type": "code",
   "execution_count": 201,
   "metadata": {
    "collapsed": true
   },
   "outputs": [
    {
     "data": {
      "text/html": [
       "<div>\n",
       "<style scoped>\n",
       "    .dataframe tbody tr th:only-of-type {\n",
       "        vertical-align: middle;\n",
       "    }\n",
       "\n",
       "    .dataframe tbody tr th {\n",
       "        vertical-align: top;\n",
       "    }\n",
       "\n",
       "    .dataframe thead th {\n",
       "        text-align: right;\n",
       "    }\n",
       "</style>\n",
       "<table border=\"1\" class=\"dataframe\">\n",
       "  <thead>\n",
       "    <tr style=\"text-align: right;\">\n",
       "      <th></th>\n",
       "      <th>SH_DEPTH_TOP_FT</th>\n",
       "      <th>lat</th>\n",
       "      <th>long</th>\n",
       "    </tr>\n",
       "    <tr>\n",
       "      <th>WELL_NAME</th>\n",
       "      <th></th>\n",
       "      <th></th>\n",
       "      <th></th>\n",
       "    </tr>\n",
       "  </thead>\n",
       "  <tbody>\n",
       "    <tr>\n",
       "      <th>013/17-01</th>\n",
       "      <td>5850.00</td>\n",
       "      <td>58.437791</td>\n",
       "      <td>-1.642265</td>\n",
       "    </tr>\n",
       "    <tr>\n",
       "      <th>013/18-01</th>\n",
       "      <td>3950.00</td>\n",
       "      <td>58.485968</td>\n",
       "      <td>-1.434328</td>\n",
       "    </tr>\n",
       "    <tr>\n",
       "      <th>013/19-01</th>\n",
       "      <td>3700.00</td>\n",
       "      <td>58.412077</td>\n",
       "      <td>-1.391796</td>\n",
       "    </tr>\n",
       "    <tr>\n",
       "      <th>013/22a-01</th>\n",
       "      <td>3479.99</td>\n",
       "      <td>58.297846</td>\n",
       "      <td>-1.762745</td>\n",
       "    </tr>\n",
       "    <tr>\n",
       "      <th>013/28-01</th>\n",
       "      <td>8639.99</td>\n",
       "      <td>58.002866</td>\n",
       "      <td>-1.523642</td>\n",
       "    </tr>\n",
       "    <tr>\n",
       "      <th>013/28-02</th>\n",
       "      <td>9020.01</td>\n",
       "      <td>58.115816</td>\n",
       "      <td>-1.425950</td>\n",
       "    </tr>\n",
       "    <tr>\n",
       "      <th>013/30-01</th>\n",
       "      <td>7639.99</td>\n",
       "      <td>58.095017</td>\n",
       "      <td>-1.055353</td>\n",
       "    </tr>\n",
       "    <tr>\n",
       "      <th>014/18-01</th>\n",
       "      <td>8989.99</td>\n",
       "      <td>58.456312</td>\n",
       "      <td>-0.487246</td>\n",
       "    </tr>\n",
       "    <tr>\n",
       "      <th>014/19-02</th>\n",
       "      <td>8120.01</td>\n",
       "      <td>58.437398</td>\n",
       "      <td>-0.273295</td>\n",
       "    </tr>\n",
       "    <tr>\n",
       "      <th>014/19-03</th>\n",
       "      <td>7810.01</td>\n",
       "      <td>58.449065</td>\n",
       "      <td>-0.276324</td>\n",
       "    </tr>\n",
       "    <tr>\n",
       "      <th>014/19-04</th>\n",
       "      <td>8132.51</td>\n",
       "      <td>58.437343</td>\n",
       "      <td>-0.224488</td>\n",
       "    </tr>\n",
       "    <tr>\n",
       "      <th>014/19-07</th>\n",
       "      <td>12225.00</td>\n",
       "      <td>58.468927</td>\n",
       "      <td>-0.228057</td>\n",
       "    </tr>\n",
       "    <tr>\n",
       "      <th>014/23a-01</th>\n",
       "      <td>6120.01</td>\n",
       "      <td>58.331614</td>\n",
       "      <td>-0.552128</td>\n",
       "    </tr>\n",
       "    <tr>\n",
       "      <th>014/25a-04</th>\n",
       "      <td>13441.01</td>\n",
       "      <td>58.331152</td>\n",
       "      <td>-0.016987</td>\n",
       "    </tr>\n",
       "    <tr>\n",
       "      <th>014/25b-02A</th>\n",
       "      <td>9260.01</td>\n",
       "      <td>58.179906</td>\n",
       "      <td>-0.146215</td>\n",
       "    </tr>\n",
       "    <tr>\n",
       "      <th>014/26-01</th>\n",
       "      <td>7400.00</td>\n",
       "      <td>58.031069</td>\n",
       "      <td>-0.912544</td>\n",
       "    </tr>\n",
       "    <tr>\n",
       "      <th>014/26-02</th>\n",
       "      <td>7500.98</td>\n",
       "      <td>58.051210</td>\n",
       "      <td>-0.822292</td>\n",
       "    </tr>\n",
       "    <tr>\n",
       "      <th>014/27-01</th>\n",
       "      <td>7221.13</td>\n",
       "      <td>58.039332</td>\n",
       "      <td>-0.776752</td>\n",
       "    </tr>\n",
       "    <tr>\n",
       "      <th>014/28-01</th>\n",
       "      <td>6346.00</td>\n",
       "      <td>58.061167</td>\n",
       "      <td>-0.477833</td>\n",
       "    </tr>\n",
       "    <tr>\n",
       "      <th>014/28a-01</th>\n",
       "      <td>6370.01</td>\n",
       "      <td>58.060520</td>\n",
       "      <td>-0.479478</td>\n",
       "    </tr>\n",
       "    <tr>\n",
       "      <th>014/28b-02</th>\n",
       "      <td>9150.00</td>\n",
       "      <td>57.999687</td>\n",
       "      <td>-0.549771</td>\n",
       "    </tr>\n",
       "    <tr>\n",
       "      <th>014/30-01</th>\n",
       "      <td>8422.34</td>\n",
       "      <td>58.130637</td>\n",
       "      <td>-0.180918</td>\n",
       "    </tr>\n",
       "    <tr>\n",
       "      <th>014/30b-03</th>\n",
       "      <td>11979.99</td>\n",
       "      <td>58.018944</td>\n",
       "      <td>-0.053335</td>\n",
       "    </tr>\n",
       "    <tr>\n",
       "      <th>015/16-01</th>\n",
       "      <td>9879.99</td>\n",
       "      <td>58.346066</td>\n",
       "      <td>0.110997</td>\n",
       "    </tr>\n",
       "    <tr>\n",
       "      <th>015/16-03</th>\n",
       "      <td>10389.99</td>\n",
       "      <td>58.356816</td>\n",
       "      <td>0.080023</td>\n",
       "    </tr>\n",
       "    <tr>\n",
       "      <th>015/17-04</th>\n",
       "      <td>8410.01</td>\n",
       "      <td>58.483740</td>\n",
       "      <td>0.287551</td>\n",
       "    </tr>\n",
       "    <tr>\n",
       "      <th>015/18-02</th>\n",
       "      <td>9379.99</td>\n",
       "      <td>58.419832</td>\n",
       "      <td>0.487226</td>\n",
       "    </tr>\n",
       "    <tr>\n",
       "      <th>015/18A-06S1</th>\n",
       "      <td>12529.99</td>\n",
       "      <td>58.388635</td>\n",
       "      <td>0.425360</td>\n",
       "    </tr>\n",
       "    <tr>\n",
       "      <th>015/18a-07</th>\n",
       "      <td>10714.99</td>\n",
       "      <td>58.423263</td>\n",
       "      <td>0.445397</td>\n",
       "    </tr>\n",
       "    <tr>\n",
       "      <th>015/21-02</th>\n",
       "      <td>10950.00</td>\n",
       "      <td>58.271424</td>\n",
       "      <td>0.074027</td>\n",
       "    </tr>\n",
       "    <tr>\n",
       "      <th>...</th>\n",
       "      <td>...</td>\n",
       "      <td>...</td>\n",
       "      <td>...</td>\n",
       "    </tr>\n",
       "    <tr>\n",
       "      <th>022/13A-01S1</th>\n",
       "      <td>11810.01</td>\n",
       "      <td>57.625716</td>\n",
       "      <td>1.415376</td>\n",
       "    </tr>\n",
       "    <tr>\n",
       "      <th>022/14b-03</th>\n",
       "      <td>12375.00</td>\n",
       "      <td>57.547716</td>\n",
       "      <td>1.705898</td>\n",
       "    </tr>\n",
       "    <tr>\n",
       "      <th>022/20-01</th>\n",
       "      <td>15889.99</td>\n",
       "      <td>57.469083</td>\n",
       "      <td>1.906027</td>\n",
       "    </tr>\n",
       "    <tr>\n",
       "      <th>022/21-02</th>\n",
       "      <td>12900.00</td>\n",
       "      <td>57.167423</td>\n",
       "      <td>1.045621</td>\n",
       "    </tr>\n",
       "    <tr>\n",
       "      <th>022/21-07</th>\n",
       "      <td>13539.99</td>\n",
       "      <td>57.205459</td>\n",
       "      <td>1.148586</td>\n",
       "    </tr>\n",
       "    <tr>\n",
       "      <th>022/24b-04</th>\n",
       "      <td>14160.01</td>\n",
       "      <td>57.171340</td>\n",
       "      <td>1.732336</td>\n",
       "    </tr>\n",
       "    <tr>\n",
       "      <th>022/24b-08</th>\n",
       "      <td>12946.29</td>\n",
       "      <td>57.288044</td>\n",
       "      <td>1.776711</td>\n",
       "    </tr>\n",
       "    <tr>\n",
       "      <th>022/28a-01</th>\n",
       "      <td>15850.00</td>\n",
       "      <td>57.082153</td>\n",
       "      <td>1.477364</td>\n",
       "    </tr>\n",
       "    <tr>\n",
       "      <th>022/30B-03</th>\n",
       "      <td>15860.01</td>\n",
       "      <td>57.028676</td>\n",
       "      <td>1.937388</td>\n",
       "    </tr>\n",
       "    <tr>\n",
       "      <th>023/21-02</th>\n",
       "      <td>11379.99</td>\n",
       "      <td>57.271571</td>\n",
       "      <td>2.157392</td>\n",
       "    </tr>\n",
       "    <tr>\n",
       "      <th>028/05-01</th>\n",
       "      <td>6700.00</td>\n",
       "      <td>56.920550</td>\n",
       "      <td>0.804576</td>\n",
       "    </tr>\n",
       "    <tr>\n",
       "      <th>028/05a-04</th>\n",
       "      <td>10329.99</td>\n",
       "      <td>56.945465</td>\n",
       "      <td>0.977219</td>\n",
       "    </tr>\n",
       "    <tr>\n",
       "      <th>029/02-01S1</th>\n",
       "      <td>13700.00</td>\n",
       "      <td>56.944863</td>\n",
       "      <td>1.326089</td>\n",
       "    </tr>\n",
       "    <tr>\n",
       "      <th>029/03a-05</th>\n",
       "      <td>14239.99</td>\n",
       "      <td>56.917259</td>\n",
       "      <td>1.429944</td>\n",
       "    </tr>\n",
       "    <tr>\n",
       "      <th>029/04B-03S1</th>\n",
       "      <td>18870.01</td>\n",
       "      <td>56.979094</td>\n",
       "      <td>1.687639</td>\n",
       "    </tr>\n",
       "    <tr>\n",
       "      <th>029/07-01</th>\n",
       "      <td>11350.00</td>\n",
       "      <td>56.785503</td>\n",
       "      <td>1.268193</td>\n",
       "    </tr>\n",
       "    <tr>\n",
       "      <th>029/07-07</th>\n",
       "      <td>10560.04</td>\n",
       "      <td>56.719803</td>\n",
       "      <td>1.308612</td>\n",
       "    </tr>\n",
       "    <tr>\n",
       "      <th>029/08a-03</th>\n",
       "      <td>12789.99</td>\n",
       "      <td>56.753463</td>\n",
       "      <td>1.540329</td>\n",
       "    </tr>\n",
       "    <tr>\n",
       "      <th>029/09c-04</th>\n",
       "      <td>14514.99</td>\n",
       "      <td>56.761500</td>\n",
       "      <td>1.675883</td>\n",
       "    </tr>\n",
       "    <tr>\n",
       "      <th>029/10-03S1</th>\n",
       "      <td>14473.00</td>\n",
       "      <td>56.830583</td>\n",
       "      <td>1.816204</td>\n",
       "    </tr>\n",
       "    <tr>\n",
       "      <th>029/12-01</th>\n",
       "      <td>8000.00</td>\n",
       "      <td>56.630855</td>\n",
       "      <td>1.397104</td>\n",
       "    </tr>\n",
       "    <tr>\n",
       "      <th>029/14b-03</th>\n",
       "      <td>10170.01</td>\n",
       "      <td>56.614092</td>\n",
       "      <td>1.674168</td>\n",
       "    </tr>\n",
       "    <tr>\n",
       "      <th>030/02-01</th>\n",
       "      <td>15110.01</td>\n",
       "      <td>56.893594</td>\n",
       "      <td>2.209198</td>\n",
       "    </tr>\n",
       "    <tr>\n",
       "      <th>030/06-03</th>\n",
       "      <td>13900.00</td>\n",
       "      <td>56.808485</td>\n",
       "      <td>2.074547</td>\n",
       "    </tr>\n",
       "    <tr>\n",
       "      <th>030/07a-02</th>\n",
       "      <td>13150.00</td>\n",
       "      <td>56.698476</td>\n",
       "      <td>2.215789</td>\n",
       "    </tr>\n",
       "    <tr>\n",
       "      <th>030/12b-07</th>\n",
       "      <td>15310.01</td>\n",
       "      <td>56.580687</td>\n",
       "      <td>2.274239</td>\n",
       "    </tr>\n",
       "    <tr>\n",
       "      <th>030/18-02</th>\n",
       "      <td>14889.99</td>\n",
       "      <td>56.441138</td>\n",
       "      <td>2.560308</td>\n",
       "    </tr>\n",
       "    <tr>\n",
       "      <th>030/18-03</th>\n",
       "      <td>14289.99</td>\n",
       "      <td>56.426859</td>\n",
       "      <td>2.545919</td>\n",
       "    </tr>\n",
       "    <tr>\n",
       "      <th>030/19A-05S3</th>\n",
       "      <td>15729.99</td>\n",
       "      <td>56.440440</td>\n",
       "      <td>2.753919</td>\n",
       "    </tr>\n",
       "    <tr>\n",
       "      <th>038/01-01</th>\n",
       "      <td>5900.00</td>\n",
       "      <td>55.884197</td>\n",
       "      <td>2.137540</td>\n",
       "    </tr>\n",
       "  </tbody>\n",
       "</table>\n",
       "<p>112 rows × 3 columns</p>\n",
       "</div>"
      ],
      "text/plain": [
       "              SH_DEPTH_TOP_FT        lat      long\n",
       "WELL_NAME                                         \n",
       "013/17-01             5850.00  58.437791 -1.642265\n",
       "013/18-01             3950.00  58.485968 -1.434328\n",
       "013/19-01             3700.00  58.412077 -1.391796\n",
       "013/22a-01            3479.99  58.297846 -1.762745\n",
       "013/28-01             8639.99  58.002866 -1.523642\n",
       "013/28-02             9020.01  58.115816 -1.425950\n",
       "013/30-01             7639.99  58.095017 -1.055353\n",
       "014/18-01             8989.99  58.456312 -0.487246\n",
       "014/19-02             8120.01  58.437398 -0.273295\n",
       "014/19-03             7810.01  58.449065 -0.276324\n",
       "014/19-04             8132.51  58.437343 -0.224488\n",
       "014/19-07            12225.00  58.468927 -0.228057\n",
       "014/23a-01            6120.01  58.331614 -0.552128\n",
       "014/25a-04           13441.01  58.331152 -0.016987\n",
       "014/25b-02A           9260.01  58.179906 -0.146215\n",
       "014/26-01             7400.00  58.031069 -0.912544\n",
       "014/26-02             7500.98  58.051210 -0.822292\n",
       "014/27-01             7221.13  58.039332 -0.776752\n",
       "014/28-01             6346.00  58.061167 -0.477833\n",
       "014/28a-01            6370.01  58.060520 -0.479478\n",
       "014/28b-02            9150.00  57.999687 -0.549771\n",
       "014/30-01             8422.34  58.130637 -0.180918\n",
       "014/30b-03           11979.99  58.018944 -0.053335\n",
       "015/16-01             9879.99  58.346066  0.110997\n",
       "015/16-03            10389.99  58.356816  0.080023\n",
       "015/17-04             8410.01  58.483740  0.287551\n",
       "015/18-02             9379.99  58.419832  0.487226\n",
       "015/18A-06S1         12529.99  58.388635  0.425360\n",
       "015/18a-07           10714.99  58.423263  0.445397\n",
       "015/21-02            10950.00  58.271424  0.074027\n",
       "...                       ...        ...       ...\n",
       "022/13A-01S1         11810.01  57.625716  1.415376\n",
       "022/14b-03           12375.00  57.547716  1.705898\n",
       "022/20-01            15889.99  57.469083  1.906027\n",
       "022/21-02            12900.00  57.167423  1.045621\n",
       "022/21-07            13539.99  57.205459  1.148586\n",
       "022/24b-04           14160.01  57.171340  1.732336\n",
       "022/24b-08           12946.29  57.288044  1.776711\n",
       "022/28a-01           15850.00  57.082153  1.477364\n",
       "022/30B-03           15860.01  57.028676  1.937388\n",
       "023/21-02            11379.99  57.271571  2.157392\n",
       "028/05-01             6700.00  56.920550  0.804576\n",
       "028/05a-04           10329.99  56.945465  0.977219\n",
       "029/02-01S1          13700.00  56.944863  1.326089\n",
       "029/03a-05           14239.99  56.917259  1.429944\n",
       "029/04B-03S1         18870.01  56.979094  1.687639\n",
       "029/07-01            11350.00  56.785503  1.268193\n",
       "029/07-07            10560.04  56.719803  1.308612\n",
       "029/08a-03           12789.99  56.753463  1.540329\n",
       "029/09c-04           14514.99  56.761500  1.675883\n",
       "029/10-03S1          14473.00  56.830583  1.816204\n",
       "029/12-01             8000.00  56.630855  1.397104\n",
       "029/14b-03           10170.01  56.614092  1.674168\n",
       "030/02-01            15110.01  56.893594  2.209198\n",
       "030/06-03            13900.00  56.808485  2.074547\n",
       "030/07a-02           13150.00  56.698476  2.215789\n",
       "030/12b-07           15310.01  56.580687  2.274239\n",
       "030/18-02            14889.99  56.441138  2.560308\n",
       "030/18-03            14289.99  56.426859  2.545919\n",
       "030/19A-05S3         15729.99  56.440440  2.753919\n",
       "038/01-01             5900.00  55.884197  2.137540\n",
       "\n",
       "[112 rows x 3 columns]"
      ]
     },
     "execution_count": 201,
     "metadata": {},
     "output_type": "execute_result"
    }
   ],
   "source": [
    "wells_coord"
   ]
  },
  {
   "cell_type": "code",
   "execution_count": 204,
   "metadata": {
    "collapsed": true
   },
   "outputs": [
    {
     "ename": "TypeError",
     "evalue": "Illegal arguments to pcolormesh; see help(pcolormesh)",
     "output_type": "error",
     "traceback": [
      "\u001b[0;31m---------------------------------------------------------------------------\u001b[0m",
      "\u001b[0;31mTypeError\u001b[0m                                 Traceback (most recent call last)",
      "\u001b[0;32m<ipython-input-204-c154ca3deaa3>\u001b[0m in \u001b[0;36m<module>\u001b[0;34m\u001b[0m\n\u001b[0;32m----> 1\u001b[0;31m \u001b[0mplt\u001b[0m\u001b[0;34m.\u001b[0m\u001b[0mpcolormesh\u001b[0m\u001b[0;34m(\u001b[0m\u001b[0;34m[\u001b[0m\u001b[0mwells_coord\u001b[0m\u001b[0;34m[\u001b[0m\u001b[0;34m'lat'\u001b[0m\u001b[0;34m]\u001b[0m\u001b[0;34m.\u001b[0m\u001b[0mvalues\u001b[0m\u001b[0;34m,\u001b[0m \u001b[0mwells_coord\u001b[0m\u001b[0;34m[\u001b[0m\u001b[0;34m'long'\u001b[0m\u001b[0;34m]\u001b[0m\u001b[0;34m.\u001b[0m\u001b[0mvalues\u001b[0m\u001b[0;34m]\u001b[0m\u001b[0;34m,\u001b[0m \u001b[0mwells_coord\u001b[0m\u001b[0;34m[\u001b[0m\u001b[0;34m'SH_DEPTH_TOP_FT'\u001b[0m\u001b[0;34m]\u001b[0m\u001b[0;34m.\u001b[0m\u001b[0mvalues\u001b[0m\u001b[0;34m)\u001b[0m\u001b[0;34m\u001b[0m\u001b[0m\n\u001b[0m",
      "\u001b[0;32m~/anaconda3/envs/engine/lib/python3.6/site-packages/matplotlib/pyplot.py\u001b[0m in \u001b[0;36mpcolormesh\u001b[0;34m(alpha, norm, cmap, vmin, vmax, shading, antialiased, data, *args, **kwargs)\u001b[0m\n\u001b[1;32m   2755\u001b[0m         \u001b[0;34m*\u001b[0m\u001b[0margs\u001b[0m\u001b[0;34m,\u001b[0m \u001b[0malpha\u001b[0m\u001b[0;34m=\u001b[0m\u001b[0malpha\u001b[0m\u001b[0;34m,\u001b[0m \u001b[0mnorm\u001b[0m\u001b[0;34m=\u001b[0m\u001b[0mnorm\u001b[0m\u001b[0;34m,\u001b[0m \u001b[0mcmap\u001b[0m\u001b[0;34m=\u001b[0m\u001b[0mcmap\u001b[0m\u001b[0;34m,\u001b[0m \u001b[0mvmin\u001b[0m\u001b[0;34m=\u001b[0m\u001b[0mvmin\u001b[0m\u001b[0;34m,\u001b[0m\u001b[0;34m\u001b[0m\u001b[0m\n\u001b[1;32m   2756\u001b[0m         \u001b[0mvmax\u001b[0m\u001b[0;34m=\u001b[0m\u001b[0mvmax\u001b[0m\u001b[0;34m,\u001b[0m \u001b[0mshading\u001b[0m\u001b[0;34m=\u001b[0m\u001b[0mshading\u001b[0m\u001b[0;34m,\u001b[0m \u001b[0mantialiased\u001b[0m\u001b[0;34m=\u001b[0m\u001b[0mantialiased\u001b[0m\u001b[0;34m,\u001b[0m\u001b[0;34m\u001b[0m\u001b[0m\n\u001b[0;32m-> 2757\u001b[0;31m         **({\"data\": data} if data is not None else {}), **kwargs)\n\u001b[0m\u001b[1;32m   2758\u001b[0m     \u001b[0msci\u001b[0m\u001b[0;34m(\u001b[0m\u001b[0m__ret\u001b[0m\u001b[0;34m)\u001b[0m\u001b[0;34m\u001b[0m\u001b[0m\n\u001b[1;32m   2759\u001b[0m     \u001b[0;32mreturn\u001b[0m \u001b[0m__ret\u001b[0m\u001b[0;34m\u001b[0m\u001b[0m\n",
      "\u001b[0;32m~/anaconda3/envs/engine/lib/python3.6/site-packages/matplotlib/__init__.py\u001b[0m in \u001b[0;36minner\u001b[0;34m(ax, data, *args, **kwargs)\u001b[0m\n\u001b[1;32m   1599\u001b[0m     \u001b[0;32mdef\u001b[0m \u001b[0minner\u001b[0m\u001b[0;34m(\u001b[0m\u001b[0max\u001b[0m\u001b[0;34m,\u001b[0m \u001b[0;34m*\u001b[0m\u001b[0margs\u001b[0m\u001b[0;34m,\u001b[0m \u001b[0mdata\u001b[0m\u001b[0;34m=\u001b[0m\u001b[0;32mNone\u001b[0m\u001b[0;34m,\u001b[0m \u001b[0;34m**\u001b[0m\u001b[0mkwargs\u001b[0m\u001b[0;34m)\u001b[0m\u001b[0;34m:\u001b[0m\u001b[0;34m\u001b[0m\u001b[0m\n\u001b[1;32m   1600\u001b[0m         \u001b[0;32mif\u001b[0m \u001b[0mdata\u001b[0m \u001b[0;32mis\u001b[0m \u001b[0;32mNone\u001b[0m\u001b[0;34m:\u001b[0m\u001b[0;34m\u001b[0m\u001b[0m\n\u001b[0;32m-> 1601\u001b[0;31m             \u001b[0;32mreturn\u001b[0m \u001b[0mfunc\u001b[0m\u001b[0;34m(\u001b[0m\u001b[0max\u001b[0m\u001b[0;34m,\u001b[0m \u001b[0;34m*\u001b[0m\u001b[0mmap\u001b[0m\u001b[0;34m(\u001b[0m\u001b[0msanitize_sequence\u001b[0m\u001b[0;34m,\u001b[0m \u001b[0margs\u001b[0m\u001b[0;34m)\u001b[0m\u001b[0;34m,\u001b[0m \u001b[0;34m**\u001b[0m\u001b[0mkwargs\u001b[0m\u001b[0;34m)\u001b[0m\u001b[0;34m\u001b[0m\u001b[0m\n\u001b[0m\u001b[1;32m   1602\u001b[0m \u001b[0;34m\u001b[0m\u001b[0m\n\u001b[1;32m   1603\u001b[0m         \u001b[0mbound\u001b[0m \u001b[0;34m=\u001b[0m \u001b[0mnew_sig\u001b[0m\u001b[0;34m.\u001b[0m\u001b[0mbind\u001b[0m\u001b[0;34m(\u001b[0m\u001b[0max\u001b[0m\u001b[0;34m,\u001b[0m \u001b[0;34m*\u001b[0m\u001b[0margs\u001b[0m\u001b[0;34m,\u001b[0m \u001b[0;34m**\u001b[0m\u001b[0mkwargs\u001b[0m\u001b[0;34m)\u001b[0m\u001b[0;34m\u001b[0m\u001b[0m\n",
      "\u001b[0;32m~/anaconda3/envs/engine/lib/python3.6/site-packages/matplotlib/axes/_axes.py\u001b[0m in \u001b[0;36mpcolormesh\u001b[0;34m(self, alpha, norm, cmap, vmin, vmax, shading, antialiased, *args, **kwargs)\u001b[0m\n\u001b[1;32m   6155\u001b[0m         \u001b[0mallmatch\u001b[0m \u001b[0;34m=\u001b[0m \u001b[0;34m(\u001b[0m\u001b[0mshading\u001b[0m \u001b[0;34m==\u001b[0m \u001b[0;34m'gouraud'\u001b[0m\u001b[0;34m)\u001b[0m\u001b[0;34m\u001b[0m\u001b[0m\n\u001b[1;32m   6156\u001b[0m \u001b[0;34m\u001b[0m\u001b[0m\n\u001b[0;32m-> 6157\u001b[0;31m         \u001b[0mX\u001b[0m\u001b[0;34m,\u001b[0m \u001b[0mY\u001b[0m\u001b[0;34m,\u001b[0m \u001b[0mC\u001b[0m \u001b[0;34m=\u001b[0m \u001b[0mself\u001b[0m\u001b[0;34m.\u001b[0m\u001b[0m_pcolorargs\u001b[0m\u001b[0;34m(\u001b[0m\u001b[0;34m'pcolormesh'\u001b[0m\u001b[0;34m,\u001b[0m \u001b[0;34m*\u001b[0m\u001b[0margs\u001b[0m\u001b[0;34m,\u001b[0m \u001b[0mallmatch\u001b[0m\u001b[0;34m=\u001b[0m\u001b[0mallmatch\u001b[0m\u001b[0;34m)\u001b[0m\u001b[0;34m\u001b[0m\u001b[0m\n\u001b[0m\u001b[1;32m   6158\u001b[0m         \u001b[0mNy\u001b[0m\u001b[0;34m,\u001b[0m \u001b[0mNx\u001b[0m \u001b[0;34m=\u001b[0m \u001b[0mX\u001b[0m\u001b[0;34m.\u001b[0m\u001b[0mshape\u001b[0m\u001b[0;34m\u001b[0m\u001b[0m\n\u001b[1;32m   6159\u001b[0m         \u001b[0mX\u001b[0m \u001b[0;34m=\u001b[0m \u001b[0mX\u001b[0m\u001b[0;34m.\u001b[0m\u001b[0mravel\u001b[0m\u001b[0;34m(\u001b[0m\u001b[0;34m)\u001b[0m\u001b[0;34m\u001b[0m\u001b[0m\n",
      "\u001b[0;32m~/anaconda3/envs/engine/lib/python3.6/site-packages/matplotlib/axes/_axes.py\u001b[0m in \u001b[0;36m_pcolorargs\u001b[0;34m(funcname, allmatch, *args)\u001b[0m\n\u001b[1;32m   5727\u001b[0m         \u001b[0;32melse\u001b[0m\u001b[0;34m:\u001b[0m\u001b[0;34m\u001b[0m\u001b[0m\n\u001b[1;32m   5728\u001b[0m             raise TypeError(\n\u001b[0;32m-> 5729\u001b[0;31m                 'Illegal arguments to %s; see help(%s)' % (funcname, funcname))\n\u001b[0m\u001b[1;32m   5730\u001b[0m \u001b[0;34m\u001b[0m\u001b[0m\n\u001b[1;32m   5731\u001b[0m         \u001b[0mNx\u001b[0m \u001b[0;34m=\u001b[0m \u001b[0mX\u001b[0m\u001b[0;34m.\u001b[0m\u001b[0mshape\u001b[0m\u001b[0;34m[\u001b[0m\u001b[0;34m-\u001b[0m\u001b[0;36m1\u001b[0m\u001b[0;34m]\u001b[0m\u001b[0;34m\u001b[0m\u001b[0m\n",
      "\u001b[0;31mTypeError\u001b[0m: Illegal arguments to pcolormesh; see help(pcolormesh)"
     ]
    },
    {
     "data": {
      "image/png": "[encoded data removed]",
      "text/plain": [
       "<Figure size 432x288 with 1 Axes>"
      ]
     },
     "metadata": {
      "needs_background": "light"
     },
     "output_type": "display_data"
    }
   ],
   "source": [
    "plt.pcolormesh([wells_coord['lat'].values, wells_coord['long'].values], wells_coord['SH_DEPTH_TOP_FT'].values)"
   ]
  },
  {
   "cell_type": "code",
   "execution_count": 179,
   "metadata": {
    "scrolled": false
   },
   "outputs": [
    {
     "data": {
      "text/plain": [
       "<matplotlib.axes._subplots.AxesSubplot at 0x7f18f4bc0978>"
      ]
     },
     "execution_count": 179,
     "metadata": {},
     "output_type": "execute_result"
    },
    {
     "data": {
      "image/png": "[encoded data removed]",
      "text/plain": [
       "<Figure size 432x288 with 1 Axes>"
      ]
     },
     "metadata": {
      "needs_background": "light"
     },
     "output_type": "display_data"
    }
   ],
   "source": [
    "rkim['SH_DEPTH_TOP_FT'].hist()"
   ]
  },
  {
   "cell_type": "code",
   "execution_count": 162,
   "metadata": {},
   "outputs": [
    {
     "data": {
      "text/plain": [
       "['index',\n",
       " 'Country',\n",
       " 'WELL_NAME',\n",
       " 'OGA Well Name',\n",
       " 'WH_SITETYPE',\n",
       " 'WH_FIELD',\n",
       " 'WH_BLOCK',\n",
       " 'WH_LAT',\n",
       " 'WH_LONG',\n",
       " 'WH_COORD_SYS',\n",
       " 'WH_OPERATOR',\n",
       " 'WH_SPUD_DATE',\n",
       " 'WH_SPUD_YEAR',\n",
       " 'WH_COMP_DATE',\n",
       " 'WH_TD_M',\n",
       " 'WH_DR_ELEV_M',\n",
       " 'WH_DEPTH_REF',\n",
       " 'WH_WATER_DEPTH_M',\n",
       " 'SAMPLE_ID',\n",
       " 'SH_DEPTH_TOP_FT',\n",
       " 'SH_DEPTH_BOT_FT',\n",
       " 'SH_SAMPLE_TYPE',\n",
       " 'SH_SAMPLE_SUB_TYPE',\n",
       " 'SH_ORIG',\n",
       " 'SH_ORIG_DESC',\n",
       " 'SH_TREATMENT',\n",
       " 'SH_TREATMENT_DESC',\n",
       " 'SH_LITH',\n",
       " 'EPOCH_TOP',\n",
       " 'EPOCH_BASE',\n",
       " 'AGE_TOP',\n",
       " 'AGE_BASE',\n",
       " 'GROUP',\n",
       " 'FORMATION',\n",
       " 'MEMBER',\n",
       " 'UNIT',\n",
       " 'SH_CDATE',\n",
       " 'SH_COMMENT',\n",
       " 'SAMPLE_ID_GM',\n",
       " 'SAMPLE_ID_GDB',\n",
       " 'SAMPLE_ID_SAM',\n",
       " 'EXT_SAMPLE_VENDOR',\n",
       " 'SAMPLE_ID_EXT',\n",
       " 'TOC_METHOD',\n",
       " 'TOC_LAB',\n",
       " 'TOC_ACQ_DATE',\n",
       " 'TOC',\n",
       " 'RP_METHOD',\n",
       " 'RP_LAB',\n",
       " 'RP_ACQ_DATE',\n",
       " 'REV_TOTS1',\n",
       " 'REV_TOTS2',\n",
       " 'REV_TOTS3',\n",
       " 'REV_TMAX',\n",
       " 'H_INDEX',\n",
       " 'O_INDEX',\n",
       " 'P_INDEX',\n",
       " 'MAC_LAB',\n",
       " 'MAC_METHOD',\n",
       " 'MAC_DATE',\n",
       " 'MAC_SEMIQUAN',\n",
       " 'MAC_SOM_LB_DENS',\n",
       " 'MAC_SOM_LB_LAYERS',\n",
       " 'MAC_SOM_LB_LENS',\n",
       " 'MAC_SOM_NLB_DIFF',\n",
       " 'MAC_VIT',\n",
       " 'MAC_VIT_1_TELOCOL_LAYERS',\n",
       " 'MAC_VIT_1_TELOCOL_DETR',\n",
       " 'MAC_VIT_1_TELIN_LAYERS',\n",
       " 'MAC_VIT_1_TELIN_DETR',\n",
       " 'MAC_VIT_2_DESMOCOL_LAYERS',\n",
       " 'MAC_VIT_2_DESMOCOL_DETR',\n",
       " 'MAC_LIPT',\n",
       " 'MAC_LIPT_SPORINITE_MICRO',\n",
       " 'MAC_LIPT_SPORINITE_MEGA',\n",
       " 'MAC_LIPT_CUTIN',\n",
       " 'MAC_LIPT_SUBER',\n",
       " 'MAC_LIPT_RESIN',\n",
       " 'MAC_LIPT_LIPTO',\n",
       " 'MAC_LIPT_ALG_BOTR',\n",
       " 'MAC_LIPT_ALG_TASM',\n",
       " 'MAC_LIPT_ALG_OTHR',\n",
       " 'MAC_LIPT_ALG_MICR_PLANC',\n",
       " 'MAC_LIPT_EXSUDAT_FL',\n",
       " 'MAC_LIPT_EXSUDAT_NON_FL',\n",
       " 'MAC_INERT',\n",
       " 'MAC_INERT_SCLER',\n",
       " 'MAC_INERT_FUSIN',\n",
       " 'MAC_INERT_MICRIN',\n",
       " 'MAC_MINERAL_UNDEF',\n",
       " 'MAC_MINERAL_PYR_FRAM',\n",
       " 'MAC_MINERAL_PYR_AGG_CRYST',\n",
       " 'VR_JOB_DATE',\n",
       " 'VR_METH',\n",
       " 'VR_MACERAL',\n",
       " 'VR_NR_OB',\n",
       " 'VR_MIN',\n",
       " 'VR_MAX',\n",
       " 'VR_MEAN',\n",
       " 'VR_ST',\n",
       " 'VR_QUAL',\n",
       " 'SULF_METHOD',\n",
       " 'SULF_LAB',\n",
       " 'SULF_ACQ_DATE',\n",
       " 'SUL',\n",
       " 'Unnamed: 104',\n",
       " 'Unnamed: 105',\n",
       " 'depth']"
      ]
     },
     "execution_count": 162,
     "metadata": {},
     "output_type": "execute_result"
    }
   ],
   "source": [
    "list(r013)"
   ]
  },
  {
   "cell_type": "code",
   "execution_count": 163,
   "metadata": {},
   "outputs": [
    {
     "data": {
      "text/plain": [
       "Kimmeridge Clay Formation    81\n",
       "Heather Formation            23\n",
       "Valhall Formation             9\n",
       "Name: FORMATION, dtype: int64"
      ]
     },
     "execution_count": 163,
     "metadata": {},
     "output_type": "execute_result"
    }
   ],
   "source": [
    "r013['FORMATION'].value_counts()"
   ]
  },
  {
   "cell_type": "code",
   "execution_count": null,
   "metadata": {},
   "outputs": [],
   "source": [
    "Horda"
   ]
  }
 ],
 "metadata": {
  "kernelspec": {
   "display_name": "Python 3",
   "language": "python",
   "name": "python3"
  },
  "language_info": {
   "codemirror_mode": {
    "name": "ipython",
    "version": 3
   },
   "file_extension": ".py",
   "mimetype": "text/x-python",
   "name": "python",
   "nbconvert_exporter": "python",
   "pygments_lexer": "ipython3",
   "version": "3.6.6"
  }
 },
 "nbformat": 4,
 "nbformat_minor": 2
}
