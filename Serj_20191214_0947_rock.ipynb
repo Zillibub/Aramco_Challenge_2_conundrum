{
 "cells": [
  {
   "cell_type": "code",
   "execution_count": 1,
   "metadata": {},
   "outputs": [],
   "source": [
    "import numpy as np\n",
    "import pandas as pd"
   ]
  },
  {
   "cell_type": "code",
   "execution_count": 2,
   "metadata": {},
   "outputs": [],
   "source": [
    "import matplotlib.pyplot as plt"
   ]
  },
  {
   "cell_type": "code",
   "execution_count": 3,
   "metadata": {},
   "outputs": [],
   "source": [
    "import pyproj\n",
    "import numpy as np"
   ]
  },
  {
   "cell_type": "code",
   "execution_count": 4,
   "metadata": {},
   "outputs": [],
   "source": [
    "import utm"
   ]
  },
  {
   "cell_type": "markdown",
   "metadata": {},
   "source": [
    "# read data"
   ]
  },
  {
   "cell_type": "code",
   "execution_count": 5,
   "metadata": {},
   "outputs": [
    {
     "name": "stderr",
     "output_type": "stream",
     "text": [
      "/home/serj/anaconda3/envs/engine/lib/python3.6/site-packages/IPython/core/interactiveshell.py:3058: DtypeWarning: Columns (6,10,16,18,23,37,38,44,45,48,49,58,92,102,103) have mixed types. Specify dtype option on import or set low_memory=False.\n",
      "  interactivity=interactivity, compiler=compiler, result=result)\n"
     ]
    }
   ],
   "source": [
    "rock = pd.read_csv('Geochemistry Data/CNS rock samples.csv')"
   ]
  },
  {
   "cell_type": "markdown",
   "metadata": {},
   "source": [
    "# coords to meter"
   ]
  },
  {
   "cell_type": "code",
   "execution_count": 7,
   "metadata": {},
   "outputs": [],
   "source": [
    "rock['WH_LAT'] = pd.to_numeric(rock['WH_LAT'], errors = 'coerce')"
   ]
  },
  {
   "cell_type": "raw",
   "metadata": {},
   "source": [
    "skip all values with bad lat"
   ]
  },
  {
   "cell_type": "code",
   "execution_count": 8,
   "metadata": {},
   "outputs": [],
   "source": [
    "rock = rock.loc[(~rock['WH_LAT'].isnull()) & (~rock['WH_LONG'].isnull()), :]"
   ]
  },
  {
   "cell_type": "code",
   "execution_count": 142,
   "metadata": {
    "collapsed": true
   },
   "outputs": [
    {
     "data": {
      "text/plain": [
       "393      55.954326\n",
       "394      55.954326\n",
       "395      55.954326\n",
       "396      55.954326\n",
       "397      55.954326\n",
       "398      55.954326\n",
       "399      55.954326\n",
       "400      55.954326\n",
       "401      55.954326\n",
       "402      55.954326\n",
       "403      55.954326\n",
       "404      55.954326\n",
       "405      55.954326\n",
       "406      55.954326\n",
       "407      55.954326\n",
       "408      55.954326\n",
       "409      55.954326\n",
       "410      55.954326\n",
       "411      55.954326\n",
       "412      55.954326\n",
       "413      55.954326\n",
       "414      55.954326\n",
       "415      55.954326\n",
       "416      55.954326\n",
       "417      55.954326\n",
       "418      55.954326\n",
       "419      55.954326\n",
       "420      55.954326\n",
       "421      55.954326\n",
       "422      55.954326\n",
       "           ...    \n",
       "14775    58.437791\n",
       "14776    58.437791\n",
       "14777    58.384575\n",
       "14778    58.384575\n",
       "14779    58.384575\n",
       "14780    58.384575\n",
       "14781    58.384575\n",
       "14782    58.384575\n",
       "14783    58.384575\n",
       "14784    58.384575\n",
       "14785    58.384575\n",
       "14786    58.384575\n",
       "14787    58.384575\n",
       "14788    58.384575\n",
       "14789    58.384575\n",
       "14790    58.384575\n",
       "14791    58.384575\n",
       "14792    58.384575\n",
       "14793    58.384575\n",
       "14794    58.384575\n",
       "14795    58.384575\n",
       "14796    58.384575\n",
       "14797    58.384575\n",
       "14798    58.384575\n",
       "14799    58.384575\n",
       "14800    58.384575\n",
       "14801    58.384575\n",
       "14802    58.384575\n",
       "14803    58.384575\n",
       "14804    58.384575\n",
       "Name: WH_LAT, Length: 14379, dtype: float64"
      ]
     },
     "execution_count": 142,
     "metadata": {},
     "output_type": "execute_result"
    }
   ],
   "source": [
    "rock['WH_LAT']"
   ]
  },
  {
   "cell_type": "code",
   "execution_count": 9,
   "metadata": {},
   "outputs": [],
   "source": [
    "lat = rock['WH_LAT'].values\n",
    "long = rock['WH_LONG'].values"
   ]
  },
  {
   "cell_type": "code",
   "execution_count": 10,
   "metadata": {},
   "outputs": [],
   "source": [
    "x, y, num, let = [], [], [], []\n",
    "for la, lo in zip(lat, long): \n",
    "    res = utm.from_latlon(la, lo, force_zone_number=31, force_zone_letter='V')\n",
    "    x.append(res[0])\n",
    "    y.append(res[1])\n",
    "    num.append(res[2])\n",
    "    let.append(res[3])"
   ]
  },
  {
   "cell_type": "code",
   "execution_count": 11,
   "metadata": {},
   "outputs": [],
   "source": [
    "rock['x'] = x\n",
    "rock['y'] = y"
   ]
  },
  {
   "cell_type": "code",
   "execution_count": 12,
   "metadata": {},
   "outputs": [
    {
     "data": {
      "text/plain": [
       "[<matplotlib.lines.Line2D at 0x7f9b24a80d30>]"
      ]
     },
     "execution_count": 12,
     "metadata": {},
     "output_type": "execute_result"
    },
    {
     "data": {
      "image/png": "[encoded data removed]",
      "text/plain": [
       "<Figure size 432x288 with 1 Axes>"
      ]
     },
     "metadata": {
      "needs_background": "light"
     },
     "output_type": "display_data"
    }
   ],
   "source": [
    "plt.plot(rock['WH_LONG'], rock['WH_LAT'], 'o')"
   ]
  },
  {
   "cell_type": "code",
   "execution_count": 13,
   "metadata": {},
   "outputs": [
    {
     "data": {
      "text/plain": [
       "[<matplotlib.lines.Line2D at 0x7f9b245cd400>]"
      ]
     },
     "execution_count": 13,
     "metadata": {},
     "output_type": "execute_result"
    },
    {
     "data": {
      "image/png": "[encoded data removed]",
      "text/plain": [
       "<Figure size 432x288 with 1 Axes>"
      ]
     },
     "metadata": {
      "needs_background": "light"
     },
     "output_type": "display_data"
    }
   ],
   "source": [
    "plt.plot(rock['x'], rock['y'], 'o')"
   ]
  },
  {
   "cell_type": "code",
   "execution_count": 14,
   "metadata": {},
   "outputs": [],
   "source": [
    "rock['SH_DEPTH_TOP_FT'] = pd.to_numeric(rock['SH_DEPTH_TOP_FT'], errors = 'coerce')"
   ]
  },
  {
   "cell_type": "code",
   "execution_count": 15,
   "metadata": {},
   "outputs": [
    {
     "data": {
      "text/plain": [
       "0"
      ]
     },
     "execution_count": 15,
     "metadata": {},
     "output_type": "execute_result"
    }
   ],
   "source": [
    "rock['SH_DEPTH_TOP_FT'].isnull().sum()"
   ]
  },
  {
   "cell_type": "markdown",
   "metadata": {},
   "source": [
    "# separate rock eval from ooil analyzer"
   ]
  },
  {
   "cell_type": "code",
   "execution_count": 23,
   "metadata": {},
   "outputs": [],
   "source": [
    "from copy import copy"
   ]
  },
  {
   "cell_type": "code",
   "execution_count": 79,
   "metadata": {},
   "outputs": [],
   "source": [
    "rockre = rock.loc[(rock['RP_METHOD'].isin(['RockEval', 'Oil analyzer']) ) & (~rock['WH_LAT'].isnull()) & (~rock['WH_LONG'].isnull()), :]"
   ]
  },
  {
   "cell_type": "code",
   "execution_count": 80,
   "metadata": {},
   "outputs": [],
   "source": [
    "rockre = copy(rockre)"
   ]
  },
  {
   "cell_type": "code",
   "execution_count": 81,
   "metadata": {},
   "outputs": [],
   "source": [
    "rockre['rp_method_cat'] = rockre['RP_METHOD'].astype('category').cat.codes\n",
    "rockre['rp_lab_cat'] = rockre['RP_LAB'].astype('category').cat.codes"
   ]
  },
  {
   "cell_type": "markdown",
   "metadata": {},
   "source": [
    "# check dict"
   ]
  },
  {
   "cell_type": "code",
   "execution_count": 82,
   "metadata": {},
   "outputs": [],
   "source": [
    "x, y, z = 518069.859848, 6.201034e+06, 10305.45"
   ]
  },
  {
   "cell_type": "code",
   "execution_count": 90,
   "metadata": {},
   "outputs": [],
   "source": [
    "rockre['distance'] = 0"
   ]
  },
  {
   "cell_type": "code",
   "execution_count": 91,
   "metadata": {},
   "outputs": [],
   "source": [
    "rockre.loc[:, 'distance'] = ((rockre['x'] - x) ** 2 + (rockre['x'] - x) ** 2 + (rockre['SH_DEPTH_TOP_FT'] - z) ** 2) ** 0.5"
   ]
  },
  {
   "cell_type": "code",
   "execution_count": 139,
   "metadata": {},
   "outputs": [],
   "source": [
    "rock_feats = [\n",
    "    'TOC', 'rp_method_cat', \n",
    "    'rp_lab_cat', \n",
    "    'REV_TOTS1', 'REV_TOTS2', \n",
    "    'REV_TOTS3', 'REV_TMAX', 'H_INDEX', 'O_INDEX', 'P_INDEX', \n",
    "    'distance'\n",
    "]"
   ]
  },
  {
   "cell_type": "code",
   "execution_count": 140,
   "metadata": {},
   "outputs": [],
   "source": [
    "def get_rock_features(x, y, z, formation=None): \n",
    "    table_to_search = rockre\n",
    "    if formation: \n",
    "        table_to_search = rockre.loc[rockre['FORMATION'] == formation, :]\n",
    "    table_to_search.loc[:, 'distance'] = (\n",
    "        (rockre['x'] - x) ** 2 + (rockre['x'] - x) ** 2 + \n",
    "        (rockre['SH_DEPTH_TOP_FT'] - z) ** 2\n",
    "    ) ** 0.5\n",
    "    return table_to_search.sort_values('distance').iloc[0][rock_feats]"
   ]
  },
  {
   "cell_type": "code",
   "execution_count": 141,
   "metadata": {},
   "outputs": [
    {
     "data": {
      "text/plain": [
       "TOC                   2.6\n",
       "rp_method_cat           0\n",
       "rp_lab_cat              1\n",
       "REV_TOTS1            0.81\n",
       "REV_TOTS2            0.36\n",
       "REV_TOTS3             NaN\n",
       "REV_TMAX              422\n",
       "H_INDEX           13.8462\n",
       "O_INDEX               NaN\n",
       "P_INDEX          0.692308\n",
       "distance          45317.9\n",
       "Name: 1253, dtype: object"
      ]
     },
     "execution_count": 141,
     "metadata": {},
     "output_type": "execute_result"
    }
   ],
   "source": [
    "get_rock_features(518069.859848, 6.201034e+06, 10305.45, formation='Heather Formation')"
   ]
  },
  {
   "cell_type": "code",
   "execution_count": 138,
   "metadata": {},
   "outputs": [
    {
     "name": "stderr",
     "output_type": "stream",
     "text": [
      "/home/serj/anaconda3/envs/engine/lib/python3.6/site-packages/ipykernel_launcher.py:1: UserWarning: Boolean Series key will be reindexed to match DataFrame index.\n",
      "  \"\"\"Entry point for launching an IPython kernel.\n"
     ]
    },
    {
     "data": {
      "text/plain": [
       "498      1.2\n",
       "532      9.8\n",
       "533      NaN\n",
       "534      8.7\n",
       "535      0.3\n",
       "578      6.9\n",
       "1275     1.9\n",
       "1276       3\n",
       "1277     1.8\n",
       "1278     0.8\n",
       "1279     1.3\n",
       "1280     1.8\n",
       "1281     1.1\n",
       "1434     1.1\n",
       "1714       3\n",
       "1828     2.1\n",
       "1829     2.2\n",
       "1831       2\n",
       "1832     1.6\n",
       "2263     0.7\n",
       "2501     1.4\n",
       "2633     3.9\n",
       "2634     6.6\n",
       "2635     2.5\n",
       "2998     1.5\n",
       "3365     1.1\n",
       "3374     1.1\n",
       "3487     1.3\n",
       "3490     1.7\n",
       "3493     1.2\n",
       "        ... \n",
       "11787    0.8\n",
       "11790    1.2\n",
       "11791      1\n",
       "11793    0.4\n",
       "11796      1\n",
       "11797    0.9\n",
       "11798    1.6\n",
       "11880    0.4\n",
       "11881      3\n",
       "12033    1.5\n",
       "12551    0.5\n",
       "12552    1.6\n",
       "12553    0.5\n",
       "12939    3.5\n",
       "13271    1.2\n",
       "13818    3.4\n",
       "13819    2.6\n",
       "13820    0.5\n",
       "13867    4.5\n",
       "13868    1.6\n",
       "13993      2\n",
       "13997    0.7\n",
       "14002    1.5\n",
       "14005    1.4\n",
       "14007    1.5\n",
       "14010    1.7\n",
       "14011    1.3\n",
       "14017    3.8\n",
       "14018    1.9\n",
       "14621    2.2\n",
       "Name: TOC, Length: 343, dtype: object"
      ]
     },
     "execution_count": 138,
     "metadata": {},
     "output_type": "execute_result"
    }
   ],
   "source": [
    "rockre[(rockre['FORMATION'] == 'Valhall Formation') & (rock['RP_METHOD'].isin(['RockEval', 'Oil analyzer']))]['TOC']"
   ]
  },
  {
   "cell_type": "code",
   "execution_count": 133,
   "metadata": {},
   "outputs": [
    {
     "data": {
      "text/plain": [
       "Kimmeridge Clay Formation      2110\n",
       "Heather Formation               514\n",
       "Valhall Formation               343\n",
       "Pentland Formation              324\n",
       "Fulmar Formation                211\n",
       "Skagerrak Formation              85\n",
       "Lossiemouth Formation            79\n",
       "Smith Bank Formation             68\n",
       "Ekofisk Formation                63\n",
       "Piper Formation                  51\n",
       "Lark Formation                   40\n",
       "Sele Formation                   33\n",
       "Dornoch Formation                31\n",
       "Sele S1                          28\n",
       "Lista Formation                  26\n",
       "Rodby Formation                  22\n",
       "Plenus Marl Formation            21\n",
       "Volcanics                        20\n",
       "Horda Formation                  17\n",
       "Hidra Formation                  16\n",
       "Maureen Formation                16\n",
       "Tor Formation                    13\n",
       "Balder Formation                 13\n",
       "Hod Formation                    12\n",
       "Rodby R2                         12\n",
       "Lower Heather Formation           9\n",
       "Sele S2b                          9\n",
       "Kupferschiefer Formation          8\n",
       "Herring Formation                 8\n",
       "Moray Firth Formation             7\n",
       "Halibut Carbonate Formation       6\n",
       "Horda H1                          4\n",
       "Sele S2a                          4\n",
       "KOP                               3\n",
       "Horda H2                          3\n",
       "Basement                          3\n",
       "JU425 MASS FLOW SAND              2\n",
       "Rodby R1                          2\n",
       "Turbot Anhydrite Formation        2\n",
       "Ekofisk E2                        2\n",
       "Lista L2                          1\n",
       "Upper                             1\n",
       "Ekofisk E3                        1\n",
       "Sele S3                           1\n",
       "Devils Hole Formation             1\n",
       "T75 Mid                           1\n",
       "T75 SAND                          1\n",
       "Name: FORMATION, dtype: int64"
      ]
     },
     "execution_count": 133,
     "metadata": {},
     "output_type": "execute_result"
    }
   ],
   "source": [
    "rockre['FORMATION'].value_counts()"
   ]
  },
  {
   "cell_type": "code",
   "execution_count": null,
   "metadata": {},
   "outputs": [],
   "source": []
  }
 ],
 "metadata": {
  "kernelspec": {
   "display_name": "Python 3",
   "language": "python",
   "name": "python3"
  },
  "language_info": {
   "codemirror_mode": {
    "name": "ipython",
    "version": 3
   },
   "file_extension": ".py",
   "mimetype": "text/x-python",
   "name": "python",
   "nbconvert_exporter": "python",
   "pygments_lexer": "ipython3",
   "version": "3.6.6"
  }
 },
 "nbformat": 4,
 "nbformat_minor": 2
}
