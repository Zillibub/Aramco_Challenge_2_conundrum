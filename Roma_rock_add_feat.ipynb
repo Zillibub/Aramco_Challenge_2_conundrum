{
 "cells": [
  {
   "cell_type": "code",
   "execution_count": 1,
   "metadata": {},
   "outputs": [],
   "source": [
    "import numpy as np\n",
    "import pandas as pd"
   ]
  },
  {
   "cell_type": "code",
   "execution_count": 2,
   "metadata": {},
   "outputs": [],
   "source": [
    "import matplotlib.pyplot as plt"
   ]
  },
  {
   "cell_type": "code",
   "execution_count": 4,
   "metadata": {},
   "outputs": [],
   "source": [
    "import pyproj\n",
    "import numpy as np"
   ]
  },
  {
   "cell_type": "code",
   "execution_count": 113,
   "metadata": {},
   "outputs": [],
   "source": [
    "import utm\n",
    "from tqdm import tqdm"
   ]
  },
  {
   "cell_type": "markdown",
   "metadata": {},
   "source": [
    "# read data"
   ]
  },
  {
   "cell_type": "code",
   "execution_count": 19,
   "metadata": {},
   "outputs": [],
   "source": [
    "rock = pd.read_csv('Geochemistry Data/CNS rock samples.csv')"
   ]
  },
  {
   "cell_type": "code",
   "execution_count": 61,
   "metadata": {},
   "outputs": [],
   "source": [
    "feat_1 = pd.read_csv('data_for_feat.csv')"
   ]
  },
  {
   "cell_type": "code",
   "execution_count": 62,
   "metadata": {},
   "outputs": [],
   "source": [
    "feat_1 = feat_1.drop(['Unnamed: 0'], axis=1)"
   ]
  },
  {
   "cell_type": "code",
   "execution_count": 63,
   "metadata": {},
   "outputs": [
    {
     "data": {
      "text/html": [
       "<div>\n",
       "<style scoped>\n",
       "    .dataframe tbody tr th:only-of-type {\n",
       "        vertical-align: middle;\n",
       "    }\n",
       "\n",
       "    .dataframe tbody tr th {\n",
       "        vertical-align: top;\n",
       "    }\n",
       "\n",
       "    .dataframe thead th {\n",
       "        text-align: right;\n",
       "    }\n",
       "</style>\n",
       "<table border=\"1\" class=\"dataframe\">\n",
       "  <thead>\n",
       "    <tr style=\"text-align: right;\">\n",
       "      <th></th>\n",
       "      <th>WH_LAT</th>\n",
       "      <th>WH_LONG</th>\n",
       "      <th>SH_DEPTH_TOP_FT</th>\n",
       "      <th>SH_FORM</th>\n",
       "    </tr>\n",
       "  </thead>\n",
       "  <tbody>\n",
       "    <tr>\n",
       "      <th>0</th>\n",
       "      <td>57.032223</td>\n",
       "      <td>1.953816</td>\n",
       "      <td>9814.00</td>\n",
       "      <td>SELE</td>\n",
       "    </tr>\n",
       "    <tr>\n",
       "      <th>1</th>\n",
       "      <td>57.032223</td>\n",
       "      <td>1.953816</td>\n",
       "      <td>9814.00</td>\n",
       "      <td>SELE</td>\n",
       "    </tr>\n",
       "    <tr>\n",
       "      <th>2</th>\n",
       "      <td>57.032223</td>\n",
       "      <td>1.953816</td>\n",
       "      <td>5400.00</td>\n",
       "      <td>Lark</td>\n",
       "    </tr>\n",
       "    <tr>\n",
       "      <th>3</th>\n",
       "      <td>57.032223</td>\n",
       "      <td>1.953816</td>\n",
       "      <td>6600.00</td>\n",
       "      <td>Lark</td>\n",
       "    </tr>\n",
       "    <tr>\n",
       "      <th>4</th>\n",
       "      <td>57.032223</td>\n",
       "      <td>1.953816</td>\n",
       "      <td>7300.00</td>\n",
       "      <td>Lark</td>\n",
       "    </tr>\n",
       "    <tr>\n",
       "      <th>...</th>\n",
       "      <td>...</td>\n",
       "      <td>...</td>\n",
       "      <td>...</td>\n",
       "      <td>...</td>\n",
       "    </tr>\n",
       "    <tr>\n",
       "      <th>1704</th>\n",
       "      <td>58.036853</td>\n",
       "      <td>-0.891146</td>\n",
       "      <td>6542.00</td>\n",
       "      <td>NaN</td>\n",
       "    </tr>\n",
       "    <tr>\n",
       "      <th>1705</th>\n",
       "      <td>58.036853</td>\n",
       "      <td>-0.891146</td>\n",
       "      <td>6542.00</td>\n",
       "      <td>NaN</td>\n",
       "    </tr>\n",
       "    <tr>\n",
       "      <th>1706</th>\n",
       "      <td>58.019424</td>\n",
       "      <td>-0.912446</td>\n",
       "      <td>6458.00</td>\n",
       "      <td>NaN</td>\n",
       "    </tr>\n",
       "    <tr>\n",
       "      <th>1707</th>\n",
       "      <td>58.367536</td>\n",
       "      <td>-0.081898</td>\n",
       "      <td>9447.01</td>\n",
       "      <td>NaN</td>\n",
       "    </tr>\n",
       "    <tr>\n",
       "      <th>1708</th>\n",
       "      <td>58.179262</td>\n",
       "      <td>-1.460759</td>\n",
       "      <td>7814.99</td>\n",
       "      <td>NaN</td>\n",
       "    </tr>\n",
       "  </tbody>\n",
       "</table>\n",
       "<p>1709 rows × 4 columns</p>\n",
       "</div>"
      ],
      "text/plain": [
       "         WH_LAT   WH_LONG  SH_DEPTH_TOP_FT SH_FORM\n",
       "0     57.032223  1.953816          9814.00    SELE\n",
       "1     57.032223  1.953816          9814.00    SELE\n",
       "2     57.032223  1.953816          5400.00    Lark\n",
       "3     57.032223  1.953816          6600.00    Lark\n",
       "4     57.032223  1.953816          7300.00    Lark\n",
       "...         ...       ...              ...     ...\n",
       "1704  58.036853 -0.891146          6542.00     NaN\n",
       "1705  58.036853 -0.891146          6542.00     NaN\n",
       "1706  58.019424 -0.912446          6458.00     NaN\n",
       "1707  58.367536 -0.081898          9447.01     NaN\n",
       "1708  58.179262 -1.460759          7814.99     NaN\n",
       "\n",
       "[1709 rows x 4 columns]"
      ]
     },
     "execution_count": 63,
     "metadata": {},
     "output_type": "execute_result"
    }
   ],
   "source": [
    "cols = ['WH_LAT', 'WH_LONG', 'SH_DEPTH_TOP_FT']\n",
    "\n",
    "for col in cols:\n",
    "    feat_1[col] = feat_1[col].fillna(feat_1[col].median())\n",
    "feat_1"
   ]
  },
  {
   "cell_type": "code",
   "execution_count": 64,
   "metadata": {},
   "outputs": [
    {
     "name": "stdout",
     "output_type": "stream",
     "text": [
      "<class 'pandas.core.frame.DataFrame'>\n",
      "RangeIndex: 1709 entries, 0 to 1708\n",
      "Data columns (total 4 columns):\n",
      "WH_LAT             1709 non-null float64\n",
      "WH_LONG            1709 non-null float64\n",
      "SH_DEPTH_TOP_FT    1709 non-null float64\n",
      "SH_FORM            1386 non-null object\n",
      "dtypes: float64(3), object(1)\n",
      "memory usage: 53.5+ KB\n"
     ]
    }
   ],
   "source": [
    "feat_1.info()"
   ]
  },
  {
   "cell_type": "code",
   "execution_count": 65,
   "metadata": {},
   "outputs": [],
   "source": [
    "lat = feat_1['WH_LAT'].values\n",
    "long = feat_1['WH_LONG'].values\n",
    "\n",
    "x, y = [], []\n",
    "for la, lo in zip(lat, long): \n",
    "    res = utm.from_latlon(la, lo, force_zone_number=31, force_zone_letter='V')\n",
    "    x.append(res[0])\n",
    "    y.append(res[1])"
   ]
  },
  {
   "cell_type": "code",
   "execution_count": 111,
   "metadata": {},
   "outputs": [],
   "source": [
    "feat_1['WH_LAT'] = x\n",
    "feat_1['WH_LONG'] = y"
   ]
  },
  {
   "cell_type": "code",
   "execution_count": 114,
   "metadata": {},
   "outputs": [
    {
     "name": "stderr",
     "output_type": "stream",
     "text": [
      "100%|██████████| 1709/1709 [00:22<00:00, 74.68it/s]\n"
     ]
    },
    {
     "data": {
      "text/html": [
       "<div>\n",
       "<style scoped>\n",
       "    .dataframe tbody tr th:only-of-type {\n",
       "        vertical-align: middle;\n",
       "    }\n",
       "\n",
       "    .dataframe tbody tr th {\n",
       "        vertical-align: top;\n",
       "    }\n",
       "\n",
       "    .dataframe thead th {\n",
       "        text-align: right;\n",
       "    }\n",
       "</style>\n",
       "<table border=\"1\" class=\"dataframe\">\n",
       "  <thead>\n",
       "    <tr style=\"text-align: right;\">\n",
       "      <th></th>\n",
       "      <th>H_INDEX</th>\n",
       "      <th>O_INDEX</th>\n",
       "      <th>P_INDEX</th>\n",
       "      <th>REV_TMAX</th>\n",
       "      <th>REV_TOTS1</th>\n",
       "      <th>REV_TOTS2</th>\n",
       "      <th>REV_TOTS3</th>\n",
       "      <th>TOC</th>\n",
       "      <th>distance</th>\n",
       "      <th>rp_lab_cat</th>\n",
       "      <th>rp_method_cat</th>\n",
       "    </tr>\n",
       "  </thead>\n",
       "  <tbody>\n",
       "    <tr>\n",
       "      <th>4604</th>\n",
       "      <td>267</td>\n",
       "      <td>93.5</td>\n",
       "      <td>0.114427861</td>\n",
       "      <td>435</td>\n",
       "      <td>0.69</td>\n",
       "      <td>5.34</td>\n",
       "      <td>1.87</td>\n",
       "      <td>2</td>\n",
       "      <td>1418.706639</td>\n",
       "      <td>1.0</td>\n",
       "      <td>1.0</td>\n",
       "    </tr>\n",
       "    <tr>\n",
       "      <th>4604</th>\n",
       "      <td>267</td>\n",
       "      <td>93.5</td>\n",
       "      <td>0.114427861</td>\n",
       "      <td>435</td>\n",
       "      <td>0.69</td>\n",
       "      <td>5.34</td>\n",
       "      <td>1.87</td>\n",
       "      <td>2</td>\n",
       "      <td>1418.706639</td>\n",
       "      <td>1.0</td>\n",
       "      <td>1.0</td>\n",
       "    </tr>\n",
       "    <tr>\n",
       "      <th>4672</th>\n",
       "      <td>185.625</td>\n",
       "      <td>NaN</td>\n",
       "      <td>0.041935484</td>\n",
       "      <td>429</td>\n",
       "      <td>0.26</td>\n",
       "      <td>5.94</td>\n",
       "      <td>NaN</td>\n",
       "      <td>3.2</td>\n",
       "      <td>2409.067579</td>\n",
       "      <td>1.0</td>\n",
       "      <td>0.0</td>\n",
       "    </tr>\n",
       "    <tr>\n",
       "      <th>4669</th>\n",
       "      <td>172.3076923</td>\n",
       "      <td>NaN</td>\n",
       "      <td>0.035522067</td>\n",
       "      <td>435</td>\n",
       "      <td>0.33</td>\n",
       "      <td>8.96</td>\n",
       "      <td>NaN</td>\n",
       "      <td>5.2</td>\n",
       "      <td>2410.561221</td>\n",
       "      <td>1.0</td>\n",
       "      <td>0.0</td>\n",
       "    </tr>\n",
       "    <tr>\n",
       "      <th>4821</th>\n",
       "      <td>162.7272727</td>\n",
       "      <td>210</td>\n",
       "      <td>0.186363636</td>\n",
       "      <td>434</td>\n",
       "      <td>0.41</td>\n",
       "      <td>1.79</td>\n",
       "      <td>2.31</td>\n",
       "      <td>1.1</td>\n",
       "      <td>2187.031227</td>\n",
       "      <td>1.0</td>\n",
       "      <td>1.0</td>\n",
       "    </tr>\n",
       "    <tr>\n",
       "      <th>...</th>\n",
       "      <td>...</td>\n",
       "      <td>...</td>\n",
       "      <td>...</td>\n",
       "      <td>...</td>\n",
       "      <td>...</td>\n",
       "      <td>...</td>\n",
       "      <td>...</td>\n",
       "      <td>...</td>\n",
       "      <td>...</td>\n",
       "      <td>...</td>\n",
       "      <td>...</td>\n",
       "    </tr>\n",
       "    <tr>\n",
       "      <th>12601</th>\n",
       "      <td>77</td>\n",
       "      <td>NaN</td>\n",
       "      <td>0.189474</td>\n",
       "      <td>488</td>\n",
       "      <td>0.18</td>\n",
       "      <td>0.77</td>\n",
       "      <td>NaN</td>\n",
       "      <td>1</td>\n",
       "      <td>1838.540894</td>\n",
       "      <td>1.0</td>\n",
       "      <td>1.0</td>\n",
       "    </tr>\n",
       "    <tr>\n",
       "      <th>12601</th>\n",
       "      <td>77</td>\n",
       "      <td>NaN</td>\n",
       "      <td>0.189474</td>\n",
       "      <td>488</td>\n",
       "      <td>0.18</td>\n",
       "      <td>0.77</td>\n",
       "      <td>NaN</td>\n",
       "      <td>1</td>\n",
       "      <td>1838.540894</td>\n",
       "      <td>1.0</td>\n",
       "      <td>1.0</td>\n",
       "    </tr>\n",
       "    <tr>\n",
       "      <th>12610</th>\n",
       "      <td>83.3333</td>\n",
       "      <td>NaN</td>\n",
       "      <td>0.253731</td>\n",
       "      <td>486</td>\n",
       "      <td>0.17</td>\n",
       "      <td>0.5</td>\n",
       "      <td>NaN</td>\n",
       "      <td>0.6</td>\n",
       "      <td>103.190343</td>\n",
       "      <td>1.0</td>\n",
       "      <td>1.0</td>\n",
       "    </tr>\n",
       "    <tr>\n",
       "      <th>12785</th>\n",
       "      <td>293.684</td>\n",
       "      <td>NaN</td>\n",
       "      <td>0.0882353</td>\n",
       "      <td>437</td>\n",
       "      <td>0.54</td>\n",
       "      <td>5.58</td>\n",
       "      <td>NaN</td>\n",
       "      <td>1.9</td>\n",
       "      <td>777.808906</td>\n",
       "      <td>1.0</td>\n",
       "      <td>0.0</td>\n",
       "    </tr>\n",
       "    <tr>\n",
       "      <th>13876</th>\n",
       "      <td>393.396</td>\n",
       "      <td>NaN</td>\n",
       "      <td>0.0641831</td>\n",
       "      <td>434</td>\n",
       "      <td>1.43</td>\n",
       "      <td>20.85</td>\n",
       "      <td>NaN</td>\n",
       "      <td>5.3</td>\n",
       "      <td>2235.475869</td>\n",
       "      <td>1.0</td>\n",
       "      <td>1.0</td>\n",
       "    </tr>\n",
       "  </tbody>\n",
       "</table>\n",
       "<p>1709 rows × 11 columns</p>\n",
       "</div>"
      ],
      "text/plain": [
       "           H_INDEX O_INDEX      P_INDEX REV_TMAX REV_TOTS1 REV_TOTS2  \\\n",
       "4604           267    93.5  0.114427861      435      0.69      5.34   \n",
       "4604           267    93.5  0.114427861      435      0.69      5.34   \n",
       "4672       185.625     NaN  0.041935484      429      0.26      5.94   \n",
       "4669   172.3076923     NaN  0.035522067      435      0.33      8.96   \n",
       "4821   162.7272727     210  0.186363636      434      0.41      1.79   \n",
       "...            ...     ...          ...      ...       ...       ...   \n",
       "12601           77     NaN     0.189474      488      0.18      0.77   \n",
       "12601           77     NaN     0.189474      488      0.18      0.77   \n",
       "12610      83.3333     NaN     0.253731      486      0.17       0.5   \n",
       "12785      293.684     NaN    0.0882353      437      0.54      5.58   \n",
       "13876      393.396     NaN    0.0641831      434      1.43     20.85   \n",
       "\n",
       "      REV_TOTS3  TOC     distance  rp_lab_cat  rp_method_cat  \n",
       "4604       1.87    2  1418.706639         1.0            1.0  \n",
       "4604       1.87    2  1418.706639         1.0            1.0  \n",
       "4672        NaN  3.2  2409.067579         1.0            0.0  \n",
       "4669        NaN  5.2  2410.561221         1.0            0.0  \n",
       "4821       2.31  1.1  2187.031227         1.0            1.0  \n",
       "...         ...  ...          ...         ...            ...  \n",
       "12601       NaN    1  1838.540894         1.0            1.0  \n",
       "12601       NaN    1  1838.540894         1.0            1.0  \n",
       "12610       NaN  0.6   103.190343         1.0            1.0  \n",
       "12785       NaN  1.9   777.808906         1.0            0.0  \n",
       "13876       NaN  5.3  2235.475869         1.0            1.0  \n",
       "\n",
       "[1709 rows x 11 columns]"
      ]
     },
     "execution_count": 114,
     "metadata": {},
     "output_type": "execute_result"
    }
   ],
   "source": [
    "tmp = pd.DataFrame()\n",
    "for i in tqdm(range(feat_1.shape[0])):\n",
    "    tmp = tmp.append(get_rock_features(*feat_1.iloc[i, :-1].values))\n",
    "tmp"
   ]
  },
  {
   "cell_type": "code",
   "execution_count": 116,
   "metadata": {},
   "outputs": [],
   "source": [
    "tmp.to_csv('add_feat.csv', index=False)"
   ]
  },
  {
   "cell_type": "code",
   "execution_count": 117,
   "metadata": {},
   "outputs": [
    {
     "data": {
      "text/html": [
       "<div>\n",
       "<style scoped>\n",
       "    .dataframe tbody tr th:only-of-type {\n",
       "        vertical-align: middle;\n",
       "    }\n",
       "\n",
       "    .dataframe tbody tr th {\n",
       "        vertical-align: top;\n",
       "    }\n",
       "\n",
       "    .dataframe thead th {\n",
       "        text-align: right;\n",
       "    }\n",
       "</style>\n",
       "<table border=\"1\" class=\"dataframe\">\n",
       "  <thead>\n",
       "    <tr style=\"text-align: right;\">\n",
       "      <th></th>\n",
       "      <th>WH_LAT</th>\n",
       "      <th>WH_LONG</th>\n",
       "      <th>SH_DEPTH_TOP_FT</th>\n",
       "      <th>SH_FORM</th>\n",
       "    </tr>\n",
       "  </thead>\n",
       "  <tbody>\n",
       "    <tr>\n",
       "      <th>0</th>\n",
       "      <td>436502.900511</td>\n",
       "      <td>6.321459e+06</td>\n",
       "      <td>9814.00</td>\n",
       "      <td>SELE</td>\n",
       "    </tr>\n",
       "    <tr>\n",
       "      <th>1</th>\n",
       "      <td>436502.900511</td>\n",
       "      <td>6.321459e+06</td>\n",
       "      <td>9814.00</td>\n",
       "      <td>SELE</td>\n",
       "    </tr>\n",
       "    <tr>\n",
       "      <th>2</th>\n",
       "      <td>436502.900511</td>\n",
       "      <td>6.321459e+06</td>\n",
       "      <td>5400.00</td>\n",
       "      <td>Lark</td>\n",
       "    </tr>\n",
       "    <tr>\n",
       "      <th>3</th>\n",
       "      <td>436502.900511</td>\n",
       "      <td>6.321459e+06</td>\n",
       "      <td>6600.00</td>\n",
       "      <td>Lark</td>\n",
       "    </tr>\n",
       "    <tr>\n",
       "      <th>4</th>\n",
       "      <td>436502.900511</td>\n",
       "      <td>6.321459e+06</td>\n",
       "      <td>7300.00</td>\n",
       "      <td>Lark</td>\n",
       "    </tr>\n",
       "    <tr>\n",
       "      <th>...</th>\n",
       "      <td>...</td>\n",
       "      <td>...</td>\n",
       "      <td>...</td>\n",
       "      <td>...</td>\n",
       "    </tr>\n",
       "    <tr>\n",
       "      <th>1704</th>\n",
       "      <td>270311.424816</td>\n",
       "      <td>6.439434e+06</td>\n",
       "      <td>6542.00</td>\n",
       "      <td>NaN</td>\n",
       "    </tr>\n",
       "    <tr>\n",
       "      <th>1705</th>\n",
       "      <td>270311.424816</td>\n",
       "      <td>6.439434e+06</td>\n",
       "      <td>6542.00</td>\n",
       "      <td>NaN</td>\n",
       "    </tr>\n",
       "    <tr>\n",
       "      <th>1706</th>\n",
       "      <td>268942.528392</td>\n",
       "      <td>6.437568e+06</td>\n",
       "      <td>6458.00</td>\n",
       "      <td>NaN</td>\n",
       "    </tr>\n",
       "    <tr>\n",
       "      <th>1707</th>\n",
       "      <td>319740.875869</td>\n",
       "      <td>6.473760e+06</td>\n",
       "      <td>9447.01</td>\n",
       "      <td>NaN</td>\n",
       "    </tr>\n",
       "    <tr>\n",
       "      <th>1708</th>\n",
       "      <td>237764.826393</td>\n",
       "      <td>6.457349e+06</td>\n",
       "      <td>7814.99</td>\n",
       "      <td>NaN</td>\n",
       "    </tr>\n",
       "  </tbody>\n",
       "</table>\n",
       "<p>1709 rows × 4 columns</p>\n",
       "</div>"
      ],
      "text/plain": [
       "             WH_LAT       WH_LONG  SH_DEPTH_TOP_FT SH_FORM\n",
       "0     436502.900511  6.321459e+06          9814.00    SELE\n",
       "1     436502.900511  6.321459e+06          9814.00    SELE\n",
       "2     436502.900511  6.321459e+06          5400.00    Lark\n",
       "3     436502.900511  6.321459e+06          6600.00    Lark\n",
       "4     436502.900511  6.321459e+06          7300.00    Lark\n",
       "...             ...           ...              ...     ...\n",
       "1704  270311.424816  6.439434e+06          6542.00     NaN\n",
       "1705  270311.424816  6.439434e+06          6542.00     NaN\n",
       "1706  268942.528392  6.437568e+06          6458.00     NaN\n",
       "1707  319740.875869  6.473760e+06          9447.01     NaN\n",
       "1708  237764.826393  6.457349e+06          7814.99     NaN\n",
       "\n",
       "[1709 rows x 4 columns]"
      ]
     },
     "execution_count": 117,
     "metadata": {},
     "output_type": "execute_result"
    }
   ],
   "source": [
    "feat_1"
   ]
  },
  {
   "cell_type": "code",
   "execution_count": null,
   "metadata": {},
   "outputs": [],
   "source": []
  },
  {
   "cell_type": "code",
   "execution_count": null,
   "metadata": {},
   "outputs": [],
   "source": []
  },
  {
   "cell_type": "code",
   "execution_count": null,
   "metadata": {},
   "outputs": [],
   "source": []
  },
  {
   "cell_type": "markdown",
   "metadata": {},
   "source": [
    "# coords to meter"
   ]
  },
  {
   "cell_type": "code",
   "execution_count": 20,
   "metadata": {},
   "outputs": [],
   "source": [
    "rock['WH_LAT'] = pd.to_numeric(rock['WH_LAT'], errors = 'coerce')"
   ]
  },
  {
   "cell_type": "code",
   "execution_count": 21,
   "metadata": {},
   "outputs": [],
   "source": [
    "rock['WH_LONG'] = pd.to_numeric(rock['WH_LONG'], errors = 'coerce')"
   ]
  },
  {
   "cell_type": "raw",
   "metadata": {},
   "source": [
    "skip all values with bad lat"
   ]
  },
  {
   "cell_type": "code",
   "execution_count": 22,
   "metadata": {},
   "outputs": [],
   "source": [
    "rock = rock.loc[(~rock['WH_LAT'].isnull()) & (~rock['WH_LONG'].isnull()), :]"
   ]
  },
  {
   "cell_type": "code",
   "execution_count": null,
   "metadata": {},
   "outputs": [],
   "source": []
  },
  {
   "cell_type": "code",
   "execution_count": 23,
   "metadata": {},
   "outputs": [],
   "source": [
    "lat = rock['WH_LAT'].values\n",
    "long = rock['WH_LONG'].values"
   ]
  },
  {
   "cell_type": "code",
   "execution_count": 24,
   "metadata": {},
   "outputs": [],
   "source": [
    "x, y, num, let = [], [], [], []\n",
    "for la, lo in zip(lat, long): \n",
    "    res = utm.from_latlon(la, lo, force_zone_number=31, force_zone_letter='V')\n",
    "    x.append(res[0])\n",
    "    y.append(res[1])\n",
    "    num.append(res[2])\n",
    "    let.append(res[3])"
   ]
  },
  {
   "cell_type": "code",
   "execution_count": 25,
   "metadata": {},
   "outputs": [],
   "source": [
    "rock['x'] = x\n",
    "rock['y'] = y"
   ]
  },
  {
   "cell_type": "code",
   "execution_count": 26,
   "metadata": {},
   "outputs": [
    {
     "data": {
      "text/plain": [
       "[<matplotlib.lines.Line2D at 0x111cc4820>]"
      ]
     },
     "execution_count": 26,
     "metadata": {},
     "output_type": "execute_result"
    },
    {
     "data": {
      "image/png": "[encoded data removed]",
      "text/plain": [
       "<Figure size 432x288 with 1 Axes>"
      ]
     },
     "metadata": {
      "needs_background": "light"
     },
     "output_type": "display_data"
    }
   ],
   "source": [
    "plt.plot(rock['WH_LONG'], rock['WH_LAT'], 'o')"
   ]
  },
  {
   "cell_type": "code",
   "execution_count": 27,
   "metadata": {},
   "outputs": [
    {
     "data": {
      "text/plain": [
       "[<matplotlib.lines.Line2D at 0x114fd5670>]"
      ]
     },
     "execution_count": 27,
     "metadata": {},
     "output_type": "execute_result"
    },
    {
     "data": {
      "image/png": "[encoded data removed]",
      "text/plain": [
       "<Figure size 432x288 with 1 Axes>"
      ]
     },
     "metadata": {
      "needs_background": "light"
     },
     "output_type": "display_data"
    }
   ],
   "source": [
    "plt.plot(rock['x'], rock['y'], 'o')"
   ]
  },
  {
   "cell_type": "code",
   "execution_count": 28,
   "metadata": {},
   "outputs": [],
   "source": [
    "rock['SH_DEPTH_TOP_FT'] = pd.to_numeric(rock['SH_DEPTH_TOP_FT'], errors = 'coerce')"
   ]
  },
  {
   "cell_type": "code",
   "execution_count": 29,
   "metadata": {},
   "outputs": [
    {
     "data": {
      "text/plain": [
       "0"
      ]
     },
     "execution_count": 29,
     "metadata": {},
     "output_type": "execute_result"
    }
   ],
   "source": [
    "rock['SH_DEPTH_TOP_FT'].isnull().sum()"
   ]
  },
  {
   "cell_type": "markdown",
   "metadata": {},
   "source": [
    "# separate rock eval from ooil analyzer"
   ]
  },
  {
   "cell_type": "code",
   "execution_count": 30,
   "metadata": {},
   "outputs": [],
   "source": [
    "from copy import copy"
   ]
  },
  {
   "cell_type": "code",
   "execution_count": 31,
   "metadata": {},
   "outputs": [],
   "source": [
    "rockre = rock.loc[(rock['RP_METHOD'].isin(['RockEval', 'Oil analyzer']) ) & (~rock['WH_LAT'].isnull()) & (~rock['WH_LONG'].isnull()), :]"
   ]
  },
  {
   "cell_type": "code",
   "execution_count": 32,
   "metadata": {},
   "outputs": [],
   "source": [
    "rockre = copy(rockre)"
   ]
  },
  {
   "cell_type": "code",
   "execution_count": 33,
   "metadata": {},
   "outputs": [],
   "source": [
    "rockre['rp_method_cat'] = rockre['RP_METHOD'].astype('category').cat.codes\n",
    "rockre['rp_lab_cat'] = rockre['RP_LAB'].astype('category').cat.codes"
   ]
  },
  {
   "cell_type": "markdown",
   "metadata": {},
   "source": [
    "# check dict"
   ]
  },
  {
   "cell_type": "code",
   "execution_count": 34,
   "metadata": {},
   "outputs": [],
   "source": [
    "x, y, z = 518069.859848, 6.201034e+06, 10305.45"
   ]
  },
  {
   "cell_type": "code",
   "execution_count": 35,
   "metadata": {},
   "outputs": [],
   "source": [
    "rockre['distance'] = 0"
   ]
  },
  {
   "cell_type": "code",
   "execution_count": 36,
   "metadata": {},
   "outputs": [],
   "source": [
    "rockre.loc[:, 'distance'] = ((rockre['x'] - x) ** 2 + (rockre['x'] - x) ** 2 + (rockre['SH_DEPTH_TOP_FT'] - z) ** 2) ** 0.5"
   ]
  },
  {
   "cell_type": "code",
   "execution_count": 37,
   "metadata": {},
   "outputs": [],
   "source": [
    "rock_feats = [\n",
    "    'TOC', 'rp_method_cat', \n",
    "    'rp_lab_cat', \n",
    "    'REV_TOTS1', 'REV_TOTS2', \n",
    "    'REV_TOTS3', 'REV_TMAX', 'H_INDEX', 'O_INDEX', 'P_INDEX', \n",
    "    'distance'\n",
    "]"
   ]
  },
  {
   "cell_type": "code",
   "execution_count": 38,
   "metadata": {},
   "outputs": [],
   "source": [
    "def get_rock_features(x, y, z, formation=None): \n",
    "    table_to_search = rockre\n",
    "    if formation: \n",
    "        table_to_search = rockre.loc[rockre['FORMATION'] == formation, :]\n",
    "    table_to_search.loc[:, 'distance'] = (\n",
    "        (rockre['x'] - x) ** 2 + (rockre['x'] - x) ** 2 + \n",
    "        (rockre['SH_DEPTH_TOP_FT'] - z) ** 2\n",
    "    ) ** 0.5\n",
    "    return table_to_search.sort_values('distance').iloc[0][rock_feats]"
   ]
  },
  {
   "cell_type": "code",
   "execution_count": 43,
   "metadata": {},
   "outputs": [
    {
     "data": {
      "text/plain": [
       "TOC                      2.6\n",
       "rp_method_cat              0\n",
       "rp_lab_cat                 1\n",
       "REV_TOTS1               0.81\n",
       "REV_TOTS2               0.36\n",
       "REV_TOTS3                NaN\n",
       "REV_TMAX                 422\n",
       "H_INDEX          13.84615385\n",
       "O_INDEX                  NaN\n",
       "P_INDEX          0.692307692\n",
       "distance             45317.9\n",
       "Name: 1254, dtype: object"
      ]
     },
     "execution_count": 43,
     "metadata": {},
     "output_type": "execute_result"
    }
   ],
   "source": [
    "get_rock_features(518069.859848, 6.201034e+06, 10305.45, formation='Heather Formation')"
   ]
  },
  {
   "cell_type": "code",
   "execution_count": 40,
   "metadata": {},
   "outputs": [
    {
     "name": "stderr",
     "output_type": "stream",
     "text": [
      "<ipython-input-40-46438ebfc3d0>:1: UserWarning: Boolean Series key will be reindexed to match DataFrame index.\n",
      "  rockre[(rockre['FORMATION'] == 'Valhall Formation') & (rock['RP_METHOD'].isin(['RockEval', 'Oil analyzer']))]['TOC']\n"
     ]
    },
    {
     "data": {
      "text/plain": [
       "499      1.2\n",
       "533      9.8\n",
       "534      NaN\n",
       "535      8.7\n",
       "536      0.3\n",
       "        ... \n",
       "14011    1.7\n",
       "14012    1.3\n",
       "14018    3.8\n",
       "14019    1.9\n",
       "14622    2.2\n",
       "Name: TOC, Length: 343, dtype: object"
      ]
     },
     "execution_count": 40,
     "metadata": {},
     "output_type": "execute_result"
    }
   ],
   "source": [
    "rockre[(rockre['FORMATION'] == 'Valhall Formation') & (rock['RP_METHOD'].isin(['RockEval', 'Oil analyzer']))]['TOC']"
   ]
  },
  {
   "cell_type": "code",
   "execution_count": 41,
   "metadata": {},
   "outputs": [
    {
     "data": {
      "text/plain": [
       "Kimmeridge Clay Formation      2110\n",
       "Heather Formation               514\n",
       "Valhall Formation               343\n",
       "Pentland Formation              324\n",
       "Fulmar Formation                211\n",
       "Skagerrak Formation              85\n",
       "Lossiemouth Formation            79\n",
       "Smith Bank Formation             68\n",
       "Ekofisk Formation                65\n",
       "Piper Formation                  51\n",
       "Sele Formation                   42\n",
       "Lark Formation                   40\n",
       "Dornoch Formation                31\n",
       "Sele S1                          28\n",
       "Lista Formation                  28\n",
       "Rodby Formation                  22\n",
       "Plenus Marl Formation            21\n",
       "Volcanics                        20\n",
       "Maureen Formation                18\n",
       "Horda Formation                  17\n",
       "Hidra Formation                  16\n",
       "Balder Formation                 14\n",
       "Tor Formation                    13\n",
       "Hod Formation                    12\n",
       "Rodby R2                         12\n",
       "Sele S2b                          9\n",
       "Lower Heather Formation           9\n",
       "Herring Formation                 8\n",
       "Kupferschiefer Formation          8\n",
       "Moray Firth Formation             7\n",
       "Halibut Carbonate Formation       6\n",
       "Sele S2a                          4\n",
       "Horda H1                          4\n",
       "KOP                               3\n",
       "Basement                          3\n",
       "Horda H2                          3\n",
       "Ekofisk E2                        2\n",
       "Turbot Anhydrite Formation        2\n",
       "JU425 MASS FLOW SAND              2\n",
       "Rodby R1                          2\n",
       "Upper                             1\n",
       "Sele S3                           1\n",
       "Devils Hole Formation             1\n",
       "T75 SAND                          1\n",
       "Lista L2                          1\n",
       "Ekofisk E3                        1\n",
       "T75 Mid                           1\n",
       "Name: FORMATION, dtype: int64"
      ]
     },
     "execution_count": 41,
     "metadata": {},
     "output_type": "execute_result"
    }
   ],
   "source": [
    "rockre['FORMATION'].value_counts()"
   ]
  },
  {
   "cell_type": "code",
   "execution_count": null,
   "metadata": {},
   "outputs": [],
   "source": []
  }
 ],
 "metadata": {
  "kernelspec": {
   "display_name": "Python 3",
   "language": "python",
   "name": "python3"
  },
  "language_info": {
   "codemirror_mode": {
    "name": "ipython",
    "version": 3
   },
   "file_extension": ".py",
   "mimetype": "text/x-python",
   "name": "python",
   "nbconvert_exporter": "python",
   "pygments_lexer": "ipython3",
   "version": "3.8.0"
  }
 },
 "nbformat": 4,
 "nbformat_minor": 2
}
